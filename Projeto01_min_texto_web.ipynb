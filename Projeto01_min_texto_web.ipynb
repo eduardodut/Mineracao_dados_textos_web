{
  "nbformat": 4,
  "nbformat_minor": 0,
  "metadata": {
    "kernelspec": {
      "display_name": "Python 3",
      "language": "python",
      "name": "python3"
    },
    "language_info": {
      "codemirror_mode": {
        "name": "ipython",
        "version": 3
      },
      "file_extension": ".py",
      "mimetype": "text/x-python",
      "name": "python",
      "nbconvert_exporter": "python",
      "pygments_lexer": "ipython3",
      "version": "3.7.6"
    },
    "colab": {
      "name": "Projeto01_min_texto_web.ipynb",
      "provenance": [],
      "include_colab_link": true
    }
  },
  "cells": [
    {
      "cell_type": "markdown",
      "metadata": {
        "id": "view-in-github",
        "colab_type": "text"
      },
      "source": [
        "<a href=\"https://colab.research.google.com/github/eduardodut/Mineracao_dados_textos_web/blob/master/Projeto01_min_texto_web.ipynb\" target=\"_parent\"><img src=\"https://colab.research.google.com/assets/colab-badge.svg\" alt=\"Open In Colab\"/></a>"
      ]
    },
    {
      "cell_type": "markdown",
      "metadata": {
        "id": "mfGeOwGZg5ae",
        "colab_type": "text"
      },
      "source": [
        "\n",
        "## Projeto 01 - Análise de Linguagem Ofensiva no Twitter\n",
        "\n",
        "Este trabalho é baseado na tarefa OffensEval que acontecem no âmbito das competições anuais de Semântica Computacional - SEMEVAL, edições de 2019 e 2020.\n",
        "\n",
        "Seguem links para consulta:\n",
        "\n",
        "<a href=http://alt.qcri.org/semeval2019/> SemEval 2019</a>\n",
        "\n",
        "<a href=https://competitions.codalab.org/competitions/20011> OffensEval 2019</a>\n",
        "\n",
        "\n",
        "\n",
        "<img src=\"fig/OffensLanguage_cloud.png\" width=\"400px\">\n",
        "\n",
        "\n",
        "\n",
        "\n",
        "\n",
        " \n",
        "\n",
        "\n"
      ]
    },
    {
      "cell_type": "markdown",
      "metadata": {
        "id": "QDkhltJeg5ag",
        "colab_type": "text"
      },
      "source": [
        "\n",
        "\n",
        "A linguagem ofensiva é massivamente difundida nas mídias sociais. Os indivíduos freqüentemente se aproveitam do anonimato nas comunicações mediadas por computador, para se envolver em comportamentos, os quais não considerariam na vida real. Comunidades on-line, plataformas de mídia social e empresas de tecnologia têm investido fortemente em maneiras de lidar com linguagem ofensiva para evitar comportamentos abusivos nas mídias sociais.\n",
        "\n",
        "Uma das estratégias mais eficazes para resolver esse problema é usar métodos computacionais para identificar ofensas, agressões e discursos de ódio no conteúdo gerado pelo usuário (por exemplo, postagens, comentários, microblogs etc.). Em Processamento de Linguagem Natural (PLN), considera-se esta uma aplicação de classificação textual (<i>Text Classification</i>)\n",
        "\n",
        "## Objetivos\n",
        "\n",
        "Neste projeto, são propostas duas abordagens para analisar discursos ofensivos em tweets:\n",
        "\n",
        "(A) Subtarefa A - Identificação de Linguagem Ofensiva \n",
        "\n",
        "- (NOT) Not Offensive - o tweet ou texto NÃO contem ofensa ou profanidade.\n",
        "- (OFF) Offensive - o tweet ou texto contem qualquer tipo de linguagem não-aceitável (ofensa ou profanidade) ou uma ofensa direcionada (velada ou direta).\n",
        "\n",
        "\n",
        "(B) Subtarefa B: Categorização dos tipos de ofensa\n",
        "\n",
        "- (TIN) Targeted Insult and Threats - o tweet contem um insulto ou ameaça a um indivíduo, um grupo ou outros.\n",
        "- (UNT) Untargeted - o tweet contem insultos, palavrões, ou ofensas não-direcionadas.\n",
        "\n",
        "## Datasets\n",
        "\n",
        "\n",
        "<b> Dados de Treinamento (arquivo texto simples \"olid-training-v1.0.tsv\")</b>\n",
        "\n",
        "Um conjunto com 13.240 tweets anotados com os seguintes dados:\n",
        "- id do tweet \n",
        "- texto do tweet\n",
        "- label para subtarefa A\n",
        "- label para subtarefa B\n",
        "- label para subtarefa C (desconsiderar)\n",
        "\n",
        "Exemplo:\n",
        "\n",
        "<table>\n",
        "    <thead> \n",
        "        <tr>\n",
        "            <th><b>id</b></th>\n",
        "            <th><b>tweet</b></th>\n",
        "            <th><b>subtarefa A</b></th>\n",
        "            <th><b>subtarefa B</b></th>\n",
        "            <th><b>subtarefa C</b></th>\n",
        "        </tr> \n",
        "    </thead>\n",
        "    <tbody> \n",
        "        <tr>\n",
        "            <td>90194</td>\n",
        "            <td>@USER @USER Go home you’re drunk!!! @USER #MAGA #Trump2020 👊🇺🇸👊 URL</td>\n",
        "            <td>OFF</td>\n",
        "            <td>TIN</td>\n",
        "            <td>IND</td>\n",
        "        </tr> \n",
        "        <tr>\n",
        "            <td>16820</td>\n",
        "            <td>Amazon is investigating Chinese employees who are selling internal data to third-party sellers looking for an edge in the competitive marketplace. URL #Amazon #MAGA #KAG #CHINA #TCOT</td>\n",
        "            <td>NOT</td>\n",
        "            <td>NULL</td>\n",
        "            <td>NULL</td>\n",
        "        </tr>\n",
        "    </tbody>\n",
        "</table>\n",
        "\n",
        "\n",
        "## Entregas\n",
        "\n",
        "<b> ATIVIDADE 01 </b> - Pré-processamento dos textos (Prazo: 11/05/2020 - 30%)\n",
        "\n",
        "- Tokenização\n",
        "- Lematização\n",
        "- POS Tagging\n",
        "- Normalização (hashtags, menções, emojis e símbolos especiais)\n",
        "- NER (entidades nomeadas)\n",
        "- Remoção stop-words\n",
        "\n",
        "<b> ATIVIDADE 02 </b> - Representação Semântica (Prazo: 22/06/2020 - 30%)\n",
        "\n",
        "- Uso de bases de conhecimento externas\n",
        "- Identificação de tópicos\n",
        "- Representação vetorial das palavras e textos\n",
        "\n",
        "<b> ATIVIDADE 03 </b> - Analise da Linguagem Ofensiva - Subtarefas A e B (Prazo: 27/07/2020 - 40%)\n",
        "\n",
        "- Resultado da subtarefa A para um conjunto de teste a ser fornecido\n",
        "- Resultado da subtarefa B para um conjunto de teste a ser fornecido\n"
      ]
    },
    {
      "cell_type": "code",
      "metadata": {
        "id": "qt8yv3Ohg5ah",
        "colab_type": "code",
        "colab": {}
      },
      "source": [
        ""
      ],
      "execution_count": 0,
      "outputs": []
    },
    {
      "cell_type": "code",
      "metadata": {
        "id": "Kyiv1zPcg5an",
        "colab_type": "code",
        "colab": {}
      },
      "source": [
        ""
      ],
      "execution_count": 0,
      "outputs": []
    }
  ]
}