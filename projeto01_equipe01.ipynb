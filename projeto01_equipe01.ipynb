{
  "nbformat": 4,
  "nbformat_minor": 0,
  "metadata": {
    "kernelspec": {
      "display_name": "Python 3",
      "language": "python",
      "name": "python3"
    },
    "language_info": {
      "codemirror_mode": {
        "name": "ipython",
        "version": 3
      },
      "file_extension": ".py",
      "mimetype": "text/x-python",
      "name": "python",
      "nbconvert_exporter": "python",
      "pygments_lexer": "ipython3",
      "version": "3.7.6"
    },
    "colab": {
      "name": "projeto01_equipe01.ipynb",
      "provenance": [],
      "collapsed_sections": [
        "jIEThqy6XFPG",
        "TtHSmQTEWEVf",
        "n-qnjF7ZizUX",
        "7I8N6Aj9oknZ",
        "rSOG6JlKA4JB",
        "51lTgeW1oYR0",
        "1NCQy-xBBLSq",
        "Cm4A3iMJoji_",
        "8WBEOKo0Cfla",
        "D0ZdGEizokw2",
        "UHDd9bMuFQz6",
        "VcbinyrLp0W5",
        "kw7Tchg4Filo",
        "sRbt_9lnourv",
        "vN1XcdmAJEAS",
        "lCN3m1b7ougd",
        "pbgQzWVYJzK8",
        "3erhQ6fYv3oC",
        "UEfgrogNxi4Z",
        "6oKjvjKEJFo6",
        "-yecoLvukCoc",
        "R8-XrfBqX8ZH",
        "nvZIIzAjF_R4",
        "xeJkSowVecxR"
      ],
      "include_colab_link": true
    }
  },
  "cells": [
    {
      "cell_type": "markdown",
      "metadata": {
        "id": "view-in-github",
        "colab_type": "text"
      },
      "source": [
        "<a href=\"https://colab.research.google.com/github/eduardodut/Mineracao_dados_textos_web/blob/master/projeto01_equipe01.ipynb\" target=\"_parent\"><img src=\"https://colab.research.google.com/assets/colab-badge.svg\" alt=\"Open In Colab\"/></a>"
      ]
    },
    {
      "cell_type": "markdown",
      "metadata": {
        "id": "QDkhltJeg5ag",
        "colab_type": "text"
      },
      "source": [
        "<b> EQUIPE: </b>\n",
        "  - Eduardo Façanha\n",
        "  - Giovanni Brígido\n",
        "  - Maurício Brito\n",
        "\n",
        "<b> ATIVIDADE 01 </b> - Pré-processamento dos textos (Prazo: 11/05/2020 - 30%)\n",
        "\n",
        "- Tokenização\n",
        "- Lematização\n",
        "- POS Tagging\n",
        "- Normalização (hashtags, menções, emojis e símbolos especiais)\n",
        "- Chunking\n",
        "- NER (entidades nomeadas)\n",
        "- Remoção stop-words\n",
        "\n",
        "<b> ATIVIDADE 02 </b> - Representação Semântica (Prazo: 30/06/2020 - 30%)\n",
        "\n",
        "- Uso de bases de conhecimento externas\n",
        "- Identificação de tópicos\n",
        "- Representação vetorial das palavras e textos\n",
        "\n",
        "<b> ATIVIDADE 03 </b> - Analise da Linguagem Ofensiva - Subtarefas A e B (Prazo: 30/07/2020 - 40%)\n",
        "\n",
        "- Resultado da subtarefa A para um conjunto de teste a ser fornecido\n",
        "- Resultado da subtarefa B para um conjunto de teste a ser fornecido\n"
      ]
    },
    {
      "cell_type": "markdown",
      "metadata": {
        "id": "4kcaie5jI2md",
        "colab_type": "text"
      },
      "source": [
        "# Atividade 03"
      ]
    },
    {
      "cell_type": "markdown",
      "metadata": {
        "id": "jIEThqy6XFPG",
        "colab_type": "text"
      },
      "source": [
        "## Bibliotecas utilizadas"
      ]
    },
    {
      "cell_type": "markdown",
      "metadata": {
        "id": "tZr2fyJboEcp",
        "colab_type": "text"
      },
      "source": [
        "Tecnologias utilizadas\n",
        "figura do scikit learn\n",
        "spacy\n",
        "nltk\n"
      ]
    },
    {
      "cell_type": "code",
      "metadata": {
        "id": "ZazwvFs-JE-v",
        "colab_type": "code",
        "colab": {}
      },
      "source": [
        "import spacy\n",
        "import pandas as pd\n",
        "import re\n",
        "!pip install Transformers\n",
        "from spacy.lang.en import English\n",
        "from spacy.lang.en.stop_words import STOP_WORDS\n",
        "!python -m spacy download en_core_web_sm\n",
        "!python -m spacy download en_core_web_md\n",
        "!python -m spacy download en_core_web_lg\n",
        "import en_core_web_lg\n",
        "import en_core_web_md\n",
        "import en_core_web_sm\n",
        "nlp = spacy.load(\"en_core_web_sm\")\n",
        "!python -m nltk.downloader wordnet\n",
        "!python -m nltk.downloader omw\n",
        "!pip install spacy-wordnet\n",
        "!pip install empath\n",
        "from empath import Empath "
      ],
      "execution_count": null,
      "outputs": []
    },
    {
      "cell_type": "markdown",
      "metadata": {
        "id": "TtHSmQTEWEVf",
        "colab_type": "text"
      },
      "source": [
        "## Engenharia de features"
      ]
    },
    {
      "cell_type": "markdown",
      "metadata": {
        "colab_type": "text",
        "id": "6aUco5gIM9bU"
      },
      "source": [
        "### Carregamento do arquivo de dados e transformação em DataFrame\n",
        "\n",
        "É realizado o download do arquivo e instanciado um DataFrame com os dados. A variável do DataFrame é chamada 'tweets'"
      ]
    },
    {
      "cell_type": "markdown",
      "metadata": {
        "id": "IyxNSs8QOzMR",
        "colab_type": "text"
      },
      "source": [
        "#### Dataset_treino"
      ]
    },
    {
      "cell_type": "code",
      "metadata": {
        "id": "oOrVLPaRisF1",
        "colab_type": "code",
        "colab": {
          "base_uri": "https://localhost:8080/"
        },
        "outputId": "699e017d-0902-43df-ce15-745774717785"
      },
      "source": [
        "#download do repositório\n",
        "def download_repositorio():\n",
        "  %rm -rf /content/Mineracao_dados_textos_web\n",
        "  !git clone https://github.com/eduardodut/Mineracao_dados_textos_web.git\n",
        "\n",
        "download_repositorio()"
      ],
      "execution_count": null,
      "outputs": [
        {
          "output_type": "stream",
          "text": [
            "Cloning into 'Mineracao_dados_textos_web'...\n",
            "remote: Enumerating objects: 12, done.\u001b[K\n",
            "remote: Counting objects:   8% (1/12)\u001b[K\rremote: Counting objects:  16% (2/12)\u001b[K\rremote: Counting objects:  25% (3/12)\u001b[K\rremote: Counting objects:  33% (4/12)\u001b[K\rremote: Counting objects:  41% (5/12)\u001b[K\rremote: Counting objects:  50% (6/12)\u001b[K\rremote: Counting objects:  58% (7/12)\u001b[K\rremote: Counting objects:  66% (8/12)\u001b[K\rremote: Counting objects:  75% (9/12)\u001b[K\rremote: Counting objects:  83% (10/12)\u001b[K\rremote: Counting objects:  91% (11/12)\u001b[K\rremote: Counting objects: 100% (12/12)\u001b[K\rremote: Counting objects: 100% (12/12), done.\u001b[K\n",
            "remote: Compressing objects: 100% (11/11), done.\u001b[K\n",
            "remote: Total 183 (delta 5), reused 4 (delta 1), pack-reused 171\u001b[K\n",
            "Receiving objects: 100% (183/183), 108.44 MiB | 25.13 MiB/s, done.\n",
            "Resolving deltas: 100% (115/115), done.\n",
            "Checking out files: 100% (24/24), done.\n"
          ],
          "name": "stdout"
        }
      ]
    },
    {
      "cell_type": "code",
      "metadata": {
        "colab_type": "code",
        "id": "nqucHlrtM9bX",
        "colab": {
          "base_uri": "https://localhost:8080/",
          "height": 303
        },
        "outputId": "bd98daca-8fd3-4ca7-cc59-293e87283728"
      },
      "source": [
        "#download o arquivo localizado no reposítório do projeto\n",
        "\n",
        "\n",
        "#leitura para objeto dataframe\n",
        "tweets = pd.read_csv('/content/Mineracao_dados_textos_web/datasets/olid-training-v1.0.tsv', sep='\\t',encoding= 'utf-8', index_col = 'id')\n",
        "\n",
        "#verificação e remoção de duplicatas\n",
        "\n",
        "if tweets.duplicated(['tweet']).sum()>0:\n",
        "  tweets.drop_duplicates(subset='tweet', keep='first', inplace=True)\n",
        "\n",
        "print('TWEETS DUPLICADOS: ',tweets.duplicated(['tweet']).sum())\n",
        "\n",
        "\n",
        "#visualização dos primeiros registros\n",
        "tweets.head()"
      ],
      "execution_count": null,
      "outputs": [
        {
          "output_type": "stream",
          "text": [
            "  % Total    % Received % Xferd  Average Speed   Time    Time     Time  Current\n",
            "                                 Dload  Upload   Total   Spent    Left  Speed\n",
            "\r  0     0    0     0    0     0      0      0 --:--:-- --:--:-- --:--:--     0\r100 1915k  100 1915k    0     0  7122k      0 --:--:-- --:--:-- --:--:-- 7122k\n",
            "TWEETS DUPLICADOS:  0\n"
          ],
          "name": "stdout"
        },
        {
          "output_type": "execute_result",
          "data": {
            "text/html": [
              "<div>\n",
              "<style scoped>\n",
              "    .dataframe tbody tr th:only-of-type {\n",
              "        vertical-align: middle;\n",
              "    }\n",
              "\n",
              "    .dataframe tbody tr th {\n",
              "        vertical-align: top;\n",
              "    }\n",
              "\n",
              "    .dataframe thead th {\n",
              "        text-align: right;\n",
              "    }\n",
              "</style>\n",
              "<table border=\"1\" class=\"dataframe\">\n",
              "  <thead>\n",
              "    <tr style=\"text-align: right;\">\n",
              "      <th></th>\n",
              "      <th>tweet</th>\n",
              "      <th>subtask_a</th>\n",
              "      <th>subtask_b</th>\n",
              "      <th>subtask_c</th>\n",
              "    </tr>\n",
              "    <tr>\n",
              "      <th>id</th>\n",
              "      <th></th>\n",
              "      <th></th>\n",
              "      <th></th>\n",
              "      <th></th>\n",
              "    </tr>\n",
              "  </thead>\n",
              "  <tbody>\n",
              "    <tr>\n",
              "      <th>86426</th>\n",
              "      <td>@USER She should ask a few native Americans wh...</td>\n",
              "      <td>OFF</td>\n",
              "      <td>UNT</td>\n",
              "      <td>NaN</td>\n",
              "    </tr>\n",
              "    <tr>\n",
              "      <th>90194</th>\n",
              "      <td>@USER @USER Go home you’re drunk!!! @USER #MAG...</td>\n",
              "      <td>OFF</td>\n",
              "      <td>TIN</td>\n",
              "      <td>IND</td>\n",
              "    </tr>\n",
              "    <tr>\n",
              "      <th>16820</th>\n",
              "      <td>Amazon is investigating Chinese employees who ...</td>\n",
              "      <td>NOT</td>\n",
              "      <td>NaN</td>\n",
              "      <td>NaN</td>\n",
              "    </tr>\n",
              "    <tr>\n",
              "      <th>62688</th>\n",
              "      <td>@USER Someone should'veTaken\" this piece of sh...</td>\n",
              "      <td>OFF</td>\n",
              "      <td>UNT</td>\n",
              "      <td>NaN</td>\n",
              "    </tr>\n",
              "    <tr>\n",
              "      <th>43605</th>\n",
              "      <td>@USER @USER Obama wanted liberals &amp;amp; illega...</td>\n",
              "      <td>NOT</td>\n",
              "      <td>NaN</td>\n",
              "      <td>NaN</td>\n",
              "    </tr>\n",
              "  </tbody>\n",
              "</table>\n",
              "</div>"
            ],
            "text/plain": [
              "                                                   tweet  ... subtask_c\n",
              "id                                                        ...          \n",
              "86426  @USER She should ask a few native Americans wh...  ...       NaN\n",
              "90194  @USER @USER Go home you’re drunk!!! @USER #MAG...  ...       IND\n",
              "16820  Amazon is investigating Chinese employees who ...  ...       NaN\n",
              "62688  @USER Someone should'veTaken\" this piece of sh...  ...       NaN\n",
              "43605  @USER @USER Obama wanted liberals &amp; illega...  ...       NaN\n",
              "\n",
              "[5 rows x 4 columns]"
            ]
          },
          "metadata": {
            "tags": []
          },
          "execution_count": 46
        }
      ]
    },
    {
      "cell_type": "code",
      "metadata": {
        "colab_type": "code",
        "id": "JnPFaVz5M9bb",
        "colab": {
          "base_uri": "https://localhost:8080/",
          "height": 34
        },
        "outputId": "37ee4de5-29ee-4bcd-96fd-b610cec6f585"
      },
      "source": [
        "#verificação e remoção de duplicatas\n",
        "\n",
        "if tweets.duplicated(['tweet']).sum()>0:\n",
        "  tweets.drop_duplicates(subset='tweet', keep='first', inplace=True)\n",
        "\n",
        "print('TWEETS DUPLICADOS: ',tweets.duplicated(['tweet']).sum())"
      ],
      "execution_count": null,
      "outputs": [
        {
          "output_type": "stream",
          "text": [
            "TWEETS DUPLICADOS:  0\n"
          ],
          "name": "stdout"
        }
      ]
    },
    {
      "cell_type": "markdown",
      "metadata": {
        "colab_type": "text",
        "id": "3N2sunzJO8_I"
      },
      "source": [
        "#### testset_a"
      ]
    },
    {
      "cell_type": "code",
      "metadata": {
        "colab_type": "code",
        "id": "TEBtdccDO8_K",
        "colab": {
          "base_uri": "https://localhost:8080/",
          "height": 286
        },
        "outputId": "0ea9800e-44ba-4363-afab-890abc288618"
      },
      "source": [
        "#leitura para objeto dataframe\n",
        "testset_a = pd.read_csv('/content/Mineracao_dados_textos_web/datasets/testset-levela.tsv', sep='\\t',encoding= 'utf-8', index_col = 'id')\n",
        "\n",
        "#conversão da coluna 'id' de inteiro para string\n",
        "# testset_a['id'] = testset_a['id'].astype('str')\n",
        "#verificação e remoção de duplicatas\n",
        "# print(testset_a.duplicated(['tweet']).sum())\n",
        "# if testset_a.duplicated(['tweet']).sum()>0:\n",
        "#   testset_a.drop_duplicates(subset='tweet', keep='first', inplace=True)\n",
        "\n",
        "# print('TWEETS DUPLICADOS: ',testset_a.duplicated(['tweet']).sum())\n",
        "# testset_a = testset_a[['subtask_c','subtask_b','subtask_a','id','tweet']]\n",
        "testset_a.head()"
      ],
      "execution_count": null,
      "outputs": [
        {
          "output_type": "stream",
          "text": [
            "  % Total    % Received % Xferd  Average Speed   Time    Time     Time  Current\n",
            "                                 Dload  Upload   Total   Spent    Left  Speed\n",
            "\r  0     0    0     0    0     0      0      0 --:--:-- --:--:-- --:--:--     0\r100  130k  100  130k    0     0   509k      0 --:--:-- --:--:-- --:--:--  509k\n"
          ],
          "name": "stdout"
        },
        {
          "output_type": "execute_result",
          "data": {
            "text/html": [
              "<div>\n",
              "<style scoped>\n",
              "    .dataframe tbody tr th:only-of-type {\n",
              "        vertical-align: middle;\n",
              "    }\n",
              "\n",
              "    .dataframe tbody tr th {\n",
              "        vertical-align: top;\n",
              "    }\n",
              "\n",
              "    .dataframe thead th {\n",
              "        text-align: right;\n",
              "    }\n",
              "</style>\n",
              "<table border=\"1\" class=\"dataframe\">\n",
              "  <thead>\n",
              "    <tr style=\"text-align: right;\">\n",
              "      <th></th>\n",
              "      <th>tweet</th>\n",
              "    </tr>\n",
              "    <tr>\n",
              "      <th>id</th>\n",
              "      <th></th>\n",
              "    </tr>\n",
              "  </thead>\n",
              "  <tbody>\n",
              "    <tr>\n",
              "      <th>15923</th>\n",
              "      <td>#WhoIsQ #WheresTheServer #DumpNike #DECLASFISA...</td>\n",
              "    </tr>\n",
              "    <tr>\n",
              "      <th>27014</th>\n",
              "      <td>#ConstitutionDay is revered by Conservatives, ...</td>\n",
              "    </tr>\n",
              "    <tr>\n",
              "      <th>30530</th>\n",
              "      <td>#FOXNews #NRA #MAGA #POTUS #TRUMP #2ndAmendmen...</td>\n",
              "    </tr>\n",
              "    <tr>\n",
              "      <th>13876</th>\n",
              "      <td>#Watching #Boomer getting the news that she is...</td>\n",
              "    </tr>\n",
              "    <tr>\n",
              "      <th>60133</th>\n",
              "      <td>#NoPasaran: Unity demo to oppose the far-right...</td>\n",
              "    </tr>\n",
              "  </tbody>\n",
              "</table>\n",
              "</div>"
            ],
            "text/plain": [
              "                                                   tweet\n",
              "id                                                      \n",
              "15923  #WhoIsQ #WheresTheServer #DumpNike #DECLASFISA...\n",
              "27014  #ConstitutionDay is revered by Conservatives, ...\n",
              "30530  #FOXNews #NRA #MAGA #POTUS #TRUMP #2ndAmendmen...\n",
              "13876  #Watching #Boomer getting the news that she is...\n",
              "60133  #NoPasaran: Unity demo to oppose the far-right..."
            ]
          },
          "metadata": {
            "tags": []
          },
          "execution_count": 47
        }
      ]
    },
    {
      "cell_type": "markdown",
      "metadata": {
        "colab_type": "text",
        "id": "Ab-NJFKRO91-"
      },
      "source": [
        "#### testset_b"
      ]
    },
    {
      "cell_type": "code",
      "metadata": {
        "colab_type": "code",
        "id": "KYagkzX3O91_",
        "colab": {
          "base_uri": "https://localhost:8080/"
        },
        "outputId": "5854205c-93c4-4d73-a427-4ba03d42181f"
      },
      "source": [
        "\n",
        "#leitura para objeto dataframe\n",
        "testset_b = pd.read_csv('/content/Mineracao_dados_textos_web/datasets/testset-levelb.tsv', sep='\\t',encoding= 'utf-8', index_col = 'id')\n",
        "# print(testset_b.duplicated(['tweet']).sum())\n",
        "# if testset_b.duplicated(['tweet']).sum()>0:\n",
        "#   testset_b.drop_duplicates(subset='tweet', keep='first', inplace=True)\n",
        "\n",
        "# print('TWEETS DUPLICADOS: ',testset_b.duplicated(['tweet']).sum())\n",
        "testset_b.head()"
      ],
      "execution_count": null,
      "outputs": [
        {
          "output_type": "execute_result",
          "data": {
            "text/html": [
              "<div>\n",
              "<style scoped>\n",
              "    .dataframe tbody tr th:only-of-type {\n",
              "        vertical-align: middle;\n",
              "    }\n",
              "\n",
              "    .dataframe tbody tr th {\n",
              "        vertical-align: top;\n",
              "    }\n",
              "\n",
              "    .dataframe thead th {\n",
              "        text-align: right;\n",
              "    }\n",
              "</style>\n",
              "<table border=\"1\" class=\"dataframe\">\n",
              "  <thead>\n",
              "    <tr style=\"text-align: right;\">\n",
              "      <th></th>\n",
              "      <th>tweet</th>\n",
              "    </tr>\n",
              "    <tr>\n",
              "      <th>id</th>\n",
              "      <th></th>\n",
              "    </tr>\n",
              "  </thead>\n",
              "  <tbody>\n",
              "    <tr>\n",
              "      <th>15923</th>\n",
              "      <td>#WhoIsQ #WheresTheServer #DumpNike #DECLASFISA...</td>\n",
              "    </tr>\n",
              "    <tr>\n",
              "      <th>60133</th>\n",
              "      <td>#NoPasaran: Unity demo to oppose the far-right...</td>\n",
              "    </tr>\n",
              "    <tr>\n",
              "      <th>83681</th>\n",
              "      <td>. . . What the fuck did he do this time?</td>\n",
              "    </tr>\n",
              "    <tr>\n",
              "      <th>65507</th>\n",
              "      <td>@USER Do you get the feeling he is kissing @US...</td>\n",
              "    </tr>\n",
              "    <tr>\n",
              "      <th>12588</th>\n",
              "      <td>@USER Nigga ware da hits at</td>\n",
              "    </tr>\n",
              "  </tbody>\n",
              "</table>\n",
              "</div>"
            ],
            "text/plain": [
              "                                                   tweet\n",
              "id                                                      \n",
              "15923  #WhoIsQ #WheresTheServer #DumpNike #DECLASFISA...\n",
              "60133  #NoPasaran: Unity demo to oppose the far-right...\n",
              "83681           . . . What the fuck did he do this time?\n",
              "65507  @USER Do you get the feeling he is kissing @US...\n",
              "12588                        @USER Nigga ware da hits at"
            ]
          },
          "metadata": {
            "tags": []
          },
          "execution_count": 24
        }
      ]
    },
    {
      "cell_type": "markdown",
      "metadata": {
        "id": "vOCN6gf8r6-I",
        "colab_type": "text"
      },
      "source": [
        "### Funções para extração de features e preprocessamento"
      ]
    },
    {
      "cell_type": "markdown",
      "metadata": {
        "id": "vHPEqgHXi5hd",
        "colab_type": "text"
      },
      "source": [
        "#### Funções para criação de features\n",
        "\n",
        "Criação de features com informações intrínsecas ao corpus"
      ]
    },
    {
      "cell_type": "markdown",
      "metadata": {
        "id": "n-qnjF7ZizUX",
        "colab_type": "text"
      },
      "source": [
        "##### Comprimento do tweet % (contagem de caracteres/comprimento máximo de um tweet)"
      ]
    },
    {
      "cell_type": "code",
      "metadata": {
        "id": "NGYzZ_eBixeo",
        "colab_type": "code",
        "colab": {
          "base_uri": "https://localhost:8080/",
          "height": 136
        },
        "outputId": "984847c2-bef3-434e-b35c-c9fca2b8d56a"
      },
      "source": [
        "def get_tweet_length(text):\n",
        "    return len(text)/240.0\n",
        "tweets.tweet.apply(get_tweet_length).head()"
      ],
      "execution_count": null,
      "outputs": [
        {
          "output_type": "execute_result",
          "data": {
            "text/plain": [
              "id\n",
              "86426    0.295833\n",
              "90194    0.279167\n",
              "16820    0.758333\n",
              "62688    0.270833\n",
              "43605    0.300000\n",
              "Name: tweet, dtype: float64"
            ]
          },
          "metadata": {
            "tags": []
          },
          "execution_count": 50
        }
      ]
    },
    {
      "cell_type": "markdown",
      "metadata": {
        "colab_type": "text",
        "id": "7I8N6Aj9oknZ"
      },
      "source": [
        "###### Histogramas\n"
      ]
    },
    {
      "cell_type": "code",
      "metadata": {
        "id": "brr6sOHPQCAf",
        "colab_type": "code",
        "colab": {}
      },
      "source": [
        "tweets['comprimento_tweet'] = tweets.tweet.apply(get_tweet_length)\n",
        "tweets.hist(column = 'comprimento_tweet', by= \"subtask_a\")\n",
        "tweets.hist(column = 'comprimento_tweet', by= \"subtask_b\")"
      ],
      "execution_count": null,
      "outputs": []
    },
    {
      "cell_type": "markdown",
      "metadata": {
        "colab_type": "text",
        "id": "rSOG6JlKA4JB"
      },
      "source": [
        "##### Contagem de tokens"
      ]
    },
    {
      "cell_type": "code",
      "metadata": {
        "colab_type": "code",
        "id": "5eO9xKUwA4JH",
        "colab": {
          "base_uri": "https://localhost:8080/",
          "height": 136
        },
        "outputId": "232f8800-05f6-4573-ed77-a430311657a9"
      },
      "source": [
        "def get_word_count(text):\n",
        "  return len(text.split())\n",
        "\n",
        "tweets.tweet.apply(get_word_count).head()"
      ],
      "execution_count": null,
      "outputs": [
        {
          "output_type": "execute_result",
          "data": {
            "text/plain": [
              "id\n",
              "86426    14\n",
              "90194    11\n",
              "16820    27\n",
              "62688    11\n",
              "43605    12\n",
              "Name: tweet, dtype: int64"
            ]
          },
          "metadata": {
            "tags": []
          },
          "execution_count": 51
        }
      ]
    },
    {
      "cell_type": "markdown",
      "metadata": {
        "id": "51lTgeW1oYR0",
        "colab_type": "text"
      },
      "source": [
        "###### Histogramas\n"
      ]
    },
    {
      "cell_type": "code",
      "metadata": {
        "id": "zQ2sS3sIQwjo",
        "colab_type": "code",
        "colab": {}
      },
      "source": [
        "tweets['contagem_palavras'] = tweets.tweet.apply(get_word_count)\n",
        "tweets.hist(column = 'contagem_palavras', by= \"subtask_a\")\n",
        "tweets.hist(column = 'contagem_palavras', by= \"subtask_b\")"
      ],
      "execution_count": null,
      "outputs": []
    },
    {
      "cell_type": "markdown",
      "metadata": {
        "colab_type": "text",
        "id": "1NCQy-xBBLSq"
      },
      "source": [
        "##### Cálculo do comprimento médio das palavras"
      ]
    },
    {
      "cell_type": "code",
      "metadata": {
        "colab_type": "code",
        "id": "JoF8F4kfBLSs",
        "colab": {
          "base_uri": "https://localhost:8080/",
          "height": 136
        },
        "outputId": "be2b0305-8f3e-491a-8003-67650f2fa047"
      },
      "source": [
        "def get_avg_word_len(text):\n",
        "  words = text.split()\n",
        "  word_len = 0\n",
        "  for word in words:\n",
        "    word_len = word_len + len(word)\n",
        "  return word_len/len(words)\n",
        "\n",
        "tweets.tweet.apply(get_avg_word_len).head()"
      ],
      "execution_count": null,
      "outputs": [
        {
          "output_type": "execute_result",
          "data": {
            "text/plain": [
              "id\n",
              "86426    4.142857\n",
              "90194    5.181818\n",
              "16820    5.777778\n",
              "62688    5.000000\n",
              "43605    5.083333\n",
              "Name: tweet, dtype: float64"
            ]
          },
          "metadata": {
            "tags": []
          },
          "execution_count": 52
        }
      ]
    },
    {
      "cell_type": "markdown",
      "metadata": {
        "colab_type": "text",
        "id": "Cm4A3iMJoji_"
      },
      "source": [
        "###### Histogramas\n"
      ]
    },
    {
      "cell_type": "code",
      "metadata": {
        "id": "VStr92wgRNtO",
        "colab_type": "code",
        "colab": {}
      },
      "source": [
        "tweets['avg_len'] = tweets.tweet.apply(get_avg_word_len)\n",
        "tweets.hist(column = 'avg_len', by= \"subtask_a\")\n",
        "tweets.hist(column = 'avg_len', by= \"subtask_b\")"
      ],
      "execution_count": null,
      "outputs": []
    },
    {
      "cell_type": "markdown",
      "metadata": {
        "colab_type": "text",
        "id": "8WBEOKo0Cfla"
      },
      "source": [
        "##### Contagem de stop words"
      ]
    },
    {
      "cell_type": "code",
      "metadata": {
        "colab_type": "code",
        "id": "K92ZzPj6Cflc",
        "colab": {
          "base_uri": "https://localhost:8080/",
          "height": 136
        },
        "outputId": "0b981b5a-7125-41e9-b622-c127307bf6e8"
      },
      "source": [
        "def get_stop_words_percent(text):\n",
        "  return len([t for t in text.split() if t in STOP_WORDS])/len(text.split())\n",
        "\n",
        "\n",
        "tweets.tweet.apply(get_stop_words_percent).head()"
      ],
      "execution_count": null,
      "outputs": [
        {
          "output_type": "execute_result",
          "data": {
            "text/plain": [
              "id\n",
              "86426    0.571429\n",
              "90194    0.000000\n",
              "16820    0.296296\n",
              "62688    0.363636\n",
              "43605    0.250000\n",
              "Name: tweet, dtype: float64"
            ]
          },
          "metadata": {
            "tags": []
          },
          "execution_count": 53
        }
      ]
    },
    {
      "cell_type": "markdown",
      "metadata": {
        "colab_type": "text",
        "id": "D0ZdGEizokw2"
      },
      "source": [
        "###### Histogramas\n"
      ]
    },
    {
      "cell_type": "code",
      "metadata": {
        "id": "THQ3PvhSRTr2",
        "colab_type": "code",
        "colab": {}
      },
      "source": [
        "tweets['sw_count'] = tweets.tweet.apply(get_stop_words_percent)\n",
        "tweets.hist(column = 'sw_count', by= \"subtask_a\")\n",
        "tweets.hist(column = 'sw_count', by= \"subtask_b\")"
      ],
      "execution_count": null,
      "outputs": []
    },
    {
      "cell_type": "markdown",
      "metadata": {
        "colab_type": "text",
        "id": "UHDd9bMuFQz6"
      },
      "source": [
        "##### Percentual de #hashtags"
      ]
    },
    {
      "cell_type": "code",
      "metadata": {
        "colab_type": "code",
        "id": "wPkRCVrMFQz8",
        "colab": {
          "base_uri": "https://localhost:8080/",
          "height": 136
        },
        "outputId": "8deb0ffe-1c6f-449c-afb3-d80efe34a216"
      },
      "source": [
        "def get_hashtag_percent(text):\n",
        "  return len([t for t in text.split() if t.startswith(\"#\")])/len(text.split())\n",
        "\n",
        "tweets.tweet.apply(get_hashtag_percent).head()"
      ],
      "execution_count": null,
      "outputs": [
        {
          "output_type": "execute_result",
          "data": {
            "text/plain": [
              "id\n",
              "86426    0.000000\n",
              "90194    0.181818\n",
              "16820    0.185185\n",
              "62688    0.000000\n",
              "43605    0.000000\n",
              "Name: tweet, dtype: float64"
            ]
          },
          "metadata": {
            "tags": []
          },
          "execution_count": 54
        }
      ]
    },
    {
      "cell_type": "markdown",
      "metadata": {
        "id": "VcbinyrLp0W5",
        "colab_type": "text"
      },
      "source": [
        "###### Histogramas"
      ]
    },
    {
      "cell_type": "code",
      "metadata": {
        "id": "hE88MrhNRY1S",
        "colab_type": "code",
        "colab": {}
      },
      "source": [
        "tweets['hashtag_count'] = tweets.tweet.apply(get_hashtag_percent)\n",
        "tweets[tweets['hashtag_count'] > 0].hist(column = 'hashtag_count', by= \"subtask_a\")\n",
        "tweets[tweets['hashtag_count'] > 0].hist(column = 'hashtag_count', by= \"subtask_b\")"
      ],
      "execution_count": null,
      "outputs": []
    },
    {
      "cell_type": "markdown",
      "metadata": {
        "colab_type": "text",
        "id": "kw7Tchg4Filo"
      },
      "source": [
        "##### Contagem de @menções"
      ]
    },
    {
      "cell_type": "code",
      "metadata": {
        "colab_type": "code",
        "id": "uXzj_UkrFilp",
        "colab": {
          "base_uri": "https://localhost:8080/",
          "height": 136
        },
        "outputId": "2a980bf1-a565-43dd-bc1a-1cb2e7db7da5"
      },
      "source": [
        "def get_mention_percent(text):\n",
        "  return len([t for t in text.split() if t.startswith(\"@\")])/len(text.split())\n",
        "\n",
        "tweets.tweet.apply(get_mention_percent).head()"
      ],
      "execution_count": null,
      "outputs": [
        {
          "output_type": "execute_result",
          "data": {
            "text/plain": [
              "id\n",
              "86426    0.071429\n",
              "90194    0.272727\n",
              "16820    0.000000\n",
              "62688    0.090909\n",
              "43605    0.166667\n",
              "Name: tweet, dtype: float64"
            ]
          },
          "metadata": {
            "tags": []
          },
          "execution_count": 55
        }
      ]
    },
    {
      "cell_type": "markdown",
      "metadata": {
        "colab_type": "text",
        "id": "sRbt_9lnourv"
      },
      "source": [
        "###### Histogramas\n"
      ]
    },
    {
      "cell_type": "code",
      "metadata": {
        "id": "M--KengRRmH0",
        "colab_type": "code",
        "colab": {}
      },
      "source": [
        "tweets['mention_count'] = tweets.tweet.apply(get_mention_percent)\n",
        "tweets[tweets['mention_count'] > 0].hist(column = 'mention_count', by= \"subtask_a\")\n",
        "tweets[tweets['mention_count'] > 0].hist(column = 'mention_count', by= \"subtask_b\")"
      ],
      "execution_count": null,
      "outputs": []
    },
    {
      "cell_type": "markdown",
      "metadata": {
        "colab_type": "text",
        "id": "vN1XcdmAJEAS"
      },
      "source": [
        "##### Contagem de palavras em MAIÚSCULO"
      ]
    },
    {
      "cell_type": "code",
      "metadata": {
        "colab_type": "code",
        "id": "8O3HOLHLJEAU",
        "colab": {
          "base_uri": "https://localhost:8080/",
          "height": 136
        },
        "outputId": "0f4bf056-4c0d-42d4-f88b-f1cc3be71b15"
      },
      "source": [
        "def get_uppercase_percent(text):\n",
        "  return len([t for t in text.split() if t.isupper()])/len(text.split())\n",
        "\n",
        "tweets.tweet.apply(get_uppercase_percent).head()"
      ],
      "execution_count": null,
      "outputs": [
        {
          "output_type": "execute_result",
          "data": {
            "text/plain": [
              "id\n",
              "86426    0.071429\n",
              "90194    0.454545\n",
              "16820    0.185185\n",
              "62688    0.090909\n",
              "43605    0.166667\n",
              "Name: tweet, dtype: float64"
            ]
          },
          "metadata": {
            "tags": []
          },
          "execution_count": 56
        }
      ]
    },
    {
      "cell_type": "markdown",
      "metadata": {
        "colab_type": "text",
        "id": "lCN3m1b7ougd"
      },
      "source": [
        "###### Histogramas\n"
      ]
    },
    {
      "cell_type": "code",
      "metadata": {
        "id": "7FU5WTp0Ryi7",
        "colab_type": "code",
        "colab": {}
      },
      "source": [
        "tweets['upper_count'] = tweets.tweet.apply(get_uppercase_percent)\n",
        "tweets.hist(column = 'upper_count', by= \"subtask_a\")\n",
        "tweets.hist(column = 'upper_count', by= \"subtask_b\")"
      ],
      "execution_count": null,
      "outputs": []
    },
    {
      "cell_type": "markdown",
      "metadata": {
        "colab_type": "text",
        "id": "pbgQzWVYJzK8"
      },
      "source": [
        "##### Verificar se o tweet contém URL"
      ]
    },
    {
      "cell_type": "code",
      "metadata": {
        "colab_type": "code",
        "id": "L-ZWmeH3JzK9",
        "colab": {
          "base_uri": "https://localhost:8080/",
          "height": 136
        },
        "outputId": "da9b39c3-01b5-4137-ae4f-7cf66d82ed04"
      },
      "source": [
        "def get_contain_url(text):\n",
        "\n",
        "  return int('URL' in text )\n",
        "\n",
        "tweets.tweet.apply(get_contain_url).head()"
      ],
      "execution_count": null,
      "outputs": [
        {
          "output_type": "execute_result",
          "data": {
            "text/plain": [
              "id\n",
              "86426    0\n",
              "90194    1\n",
              "16820    1\n",
              "62688    0\n",
              "43605    0\n",
              "Name: tweet, dtype: int64"
            ]
          },
          "metadata": {
            "tags": []
          },
          "execution_count": 57
        }
      ]
    },
    {
      "cell_type": "markdown",
      "metadata": {
        "id": "3erhQ6fYv3oC",
        "colab_type": "text"
      },
      "source": [
        "##### Contagem de sentenças"
      ]
    },
    {
      "cell_type": "code",
      "metadata": {
        "id": "3i5LQJapv3H3",
        "colab_type": "code",
        "colab": {
          "base_uri": "https://localhost:8080/",
          "height": 170
        },
        "outputId": "cec6d3c8-3e6e-4876-e9a1-e52db7a923df"
      },
      "source": [
        "import nltk\n",
        "nltk.download('punkt')\n",
        "from nltk.tokenize import sent_tokenize\n",
        "def sent_count(text):\n",
        "  return len(sent_tokenize(text))\n",
        "tweets.tweet.apply(sent_count).head()"
      ],
      "execution_count": null,
      "outputs": [
        {
          "output_type": "stream",
          "text": [
            "[nltk_data] Downloading package punkt to /root/nltk_data...\n",
            "[nltk_data]   Unzipping tokenizers/punkt.zip.\n"
          ],
          "name": "stdout"
        },
        {
          "output_type": "execute_result",
          "data": {
            "text/plain": [
              "id\n",
              "86426    1\n",
              "90194    2\n",
              "16820    2\n",
              "62688    2\n",
              "43605    1\n",
              "Name: tweet, dtype: int64"
            ]
          },
          "metadata": {
            "tags": []
          },
          "execution_count": 58
        }
      ]
    },
    {
      "cell_type": "markdown",
      "metadata": {
        "id": "UEfgrogNxi4Z",
        "colab_type": "text"
      },
      "source": [
        "###### Histogramas"
      ]
    },
    {
      "cell_type": "code",
      "metadata": {
        "id": "QsK8qpmWwvra",
        "colab_type": "code",
        "colab": {}
      },
      "source": [
        "tweets['sent_count'] = tweets.tweet.apply(sent_count)\n",
        "tweets.hist(column = 'sent_count', by= \"subtask_a\")\n",
        "tweets.hist(column = 'sent_count', by= \"subtask_b\")"
      ],
      "execution_count": null,
      "outputs": []
    },
    {
      "cell_type": "markdown",
      "metadata": {
        "id": "6oKjvjKEJFo6",
        "colab_type": "text"
      },
      "source": [
        "##### Funções de preprocessamento e Limpeza\n"
      ]
    },
    {
      "cell_type": "code",
      "metadata": {
        "id": "LcNhWJl3u24d",
        "colab_type": "code",
        "colab": {}
      },
      "source": [
        "#Tratamento básico\n",
        "def tratamento_texto(text):\n",
        "  text = text.lower()\n",
        "  text = text.strip()\n",
        "  #remove as menções a usuários de cada text\n",
        "  #remove as palavras url\n",
        "  text = re.sub('url$', '', text, flags=re.MULTILINE)\n",
        "  text = re.sub(r'^n$', 'and', text, flags=re.MULTILINE)\n",
        "  text = re.sub(r'^u$', 'you', text, flags=re.MULTILINE)\n",
        "  text = re.sub(r'^r$', 'are', text, flags=re.MULTILINE)\n",
        "  text = re.sub(r'^sh*t$', 'shit', text, flags=re.MULTILINE)\n",
        "  text = re.sub(r'&amp;', '', text, flags=re.MULTILINE)\n",
        "  \n",
        "  doc = nlp(text)\n",
        "  tokens = []\n",
        "  for token in doc:\n",
        "      if token.lemma_ != \"-PRON-\" :\n",
        "        if not token.is_stop:\n",
        "          if not token.is_punct :\n",
        "            tokens.append(token.lemma_)\n",
        "  \n",
        "  text =  \" \".join([token for token in tokens]).strip()  \n",
        "\n",
        "  \n",
        "  return text"
      ],
      "execution_count": null,
      "outputs": []
    },
    {
      "cell_type": "markdown",
      "metadata": {
        "id": "Y67RyHM7Yr2U",
        "colab_type": "text"
      },
      "source": [
        "#### Criação das features intrínsecas e preprocessamento "
      ]
    },
    {
      "cell_type": "code",
      "metadata": {
        "colab_type": "code",
        "id": "_Wnrj8u7Ytim",
        "colab": {}
      },
      "source": [
        "#@title Execução das funções de criação de features { display-mode: \"form\" }\n",
        "from sklearn.base import BaseEstimator, TransformerMixin\n",
        "from google.colab import files\n",
        "class Criar_Features(BaseEstimator, TransformerMixin):\n",
        "\n",
        "    def fit(self, X, y=None):\n",
        "        \n",
        "\n",
        "        return self\n",
        "    def transform(self, X):\n",
        "\n",
        "        features = pd.DataFrame(X)\n",
        "        #Comprimento do tweet/240.0\n",
        "        features['length'] = features['tweet'].apply(get_tweet_length)\n",
        "        #Hashtag por tweet (%)\n",
        "        features['hashtag_%'] = features['tweet'].apply(get_hashtag_percent)\n",
        "        #Menções por tweet (%)\n",
        "        features['mentions_%'] = features['tweet'].apply(get_mention_percent)\n",
        "        #Stop words (%)\n",
        "        features['stop_words_%'] = features['tweet'].apply(get_stop_words_percent)\n",
        "        #upper case (%)\n",
        "        features['uppercase_%'] =  features['tweet'].apply(get_uppercase_percent)\n",
        "        #contagem de sentenças\n",
        "        features['sent_count'] = features['tweet'].apply(sent_count)\n",
        "        #contém url\n",
        "        features['has_url'] = features['tweet'].apply(get_contain_url)\n",
        "        \n",
        "        features['tweet'] = features['tweet'].apply(tratamento_texto)\n",
        "               \n",
        "\n",
        "        return features\n",
        "\n",
        "# criar_features = Criar_Features()\n",
        "# print(criar_features.fit_transform(tweets.tweet))\n",
        "\n",
        "criar_trainset = True #@param {type:\"boolean\"}\n",
        "criar_testset_a = True #@param {type:\"boolean\"}\n",
        "criar_testset_b = True #@param {type:\"boolean\"}\n",
        "\n",
        "if criar_trainset:\n",
        "  trainset_aumentado = Criar_Features().fit_transform(tweets)\n",
        "  trainset_aumentado.to_csv('/content/Mineracao_dados_textos_web/datasets/datasets_aumentados/trainset_aumentado.txt', sep=' ')\n",
        "  if 'COLAB_GPU' in os.environ:\n",
        "    files.download('/content/Mineracao_dados_textos_web/datasets/datasets_aumentados/trainset_aumentado.txt')\n",
        "if criar_testset_a:\n",
        "  testset_a_aumentado = Criar_Features().fit_transform(testset_a)\n",
        "  testset_a_aumentado.to_csv('/content/Mineracao_dados_textos_web/datasets/datasets_aumentados/testset_a_aumentado.txt', sep=' ')\n",
        "  if 'COLAB_GPU' in os.environ:\n",
        "    files.download('/content/Mineracao_dados_textos_web/datasets/datasets_aumentados/testset_a_aumentado.txt')\n",
        "\n",
        "if criar_testset_b:\n",
        "  testset_b_aumentado = Criar_Features().fit_transform(testset_b) \n",
        "  testset_b_aumentado.to_csv('/content/Mineracao_dados_textos_web/datasets/datasets_aumentados/testset_b_aumentado.txt', sep=' ')\n",
        "  if 'COLAB_GPU' in os.environ:\n",
        "    files.download('/content/Mineracao_dados_textos_web/datasets/datasets_aumentados/testset_b_aumentado.txt')\n",
        "\n"
      ],
      "execution_count": null,
      "outputs": []
    },
    {
      "cell_type": "code",
      "metadata": {
        "id": "-PAiqGliY7SF",
        "colab_type": "code",
        "colab": {
          "base_uri": "https://localhost:8080/",
          "height": 235
        },
        "outputId": "63e3403c-cee3-4e4f-a813-c1d8e4227438"
      },
      "source": [
        "trainset_aumentado.head()"
      ],
      "execution_count": null,
      "outputs": [
        {
          "output_type": "execute_result",
          "data": {
            "text/html": [
              "<div>\n",
              "<style scoped>\n",
              "    .dataframe tbody tr th:only-of-type {\n",
              "        vertical-align: middle;\n",
              "    }\n",
              "\n",
              "    .dataframe tbody tr th {\n",
              "        vertical-align: top;\n",
              "    }\n",
              "\n",
              "    .dataframe thead th {\n",
              "        text-align: right;\n",
              "    }\n",
              "</style>\n",
              "<table border=\"1\" class=\"dataframe\">\n",
              "  <thead>\n",
              "    <tr style=\"text-align: right;\">\n",
              "      <th></th>\n",
              "      <th>tweet</th>\n",
              "      <th>subtask_a</th>\n",
              "      <th>subtask_b</th>\n",
              "      <th>subtask_c</th>\n",
              "      <th>length</th>\n",
              "      <th>hashtag_%</th>\n",
              "      <th>mentions_%</th>\n",
              "      <th>stop_words_%</th>\n",
              "      <th>uppercase_%</th>\n",
              "      <th>sent_count</th>\n",
              "      <th>has_url</th>\n",
              "    </tr>\n",
              "    <tr>\n",
              "      <th>id</th>\n",
              "      <th></th>\n",
              "      <th></th>\n",
              "      <th></th>\n",
              "      <th></th>\n",
              "      <th></th>\n",
              "      <th></th>\n",
              "      <th></th>\n",
              "      <th></th>\n",
              "      <th></th>\n",
              "      <th></th>\n",
              "      <th></th>\n",
              "    </tr>\n",
              "  </thead>\n",
              "  <tbody>\n",
              "    <tr>\n",
              "      <th>86426</th>\n",
              "      <td>@user ask native americans</td>\n",
              "      <td>OFF</td>\n",
              "      <td>UNT</td>\n",
              "      <td>NaN</td>\n",
              "      <td>0.108333</td>\n",
              "      <td>0.0</td>\n",
              "      <td>0.250000</td>\n",
              "      <td>0.0</td>\n",
              "      <td>0.0</td>\n",
              "      <td>1</td>\n",
              "      <td>0</td>\n",
              "    </tr>\n",
              "    <tr>\n",
              "      <th>90194</th>\n",
              "      <td>@user @user home drunk @user maga trump2020 👊 ...</td>\n",
              "      <td>OFF</td>\n",
              "      <td>TIN</td>\n",
              "      <td>IND</td>\n",
              "      <td>0.212500</td>\n",
              "      <td>0.0</td>\n",
              "      <td>0.272727</td>\n",
              "      <td>0.0</td>\n",
              "      <td>0.0</td>\n",
              "      <td>1</td>\n",
              "      <td>0</td>\n",
              "    </tr>\n",
              "    <tr>\n",
              "      <th>16820</th>\n",
              "      <td>amazon investigate chinese employee sell inter...</td>\n",
              "      <td>NOT</td>\n",
              "      <td>NaN</td>\n",
              "      <td>NaN</td>\n",
              "      <td>0.554167</td>\n",
              "      <td>0.0</td>\n",
              "      <td>0.000000</td>\n",
              "      <td>0.0</td>\n",
              "      <td>0.0</td>\n",
              "      <td>1</td>\n",
              "      <td>0</td>\n",
              "    </tr>\n",
              "    <tr>\n",
              "      <th>62688</th>\n",
              "      <td>@user should'vetaken piece shit volcano 😂</td>\n",
              "      <td>OFF</td>\n",
              "      <td>UNT</td>\n",
              "      <td>NaN</td>\n",
              "      <td>0.170833</td>\n",
              "      <td>0.0</td>\n",
              "      <td>0.166667</td>\n",
              "      <td>0.0</td>\n",
              "      <td>0.0</td>\n",
              "      <td>1</td>\n",
              "      <td>0</td>\n",
              "    </tr>\n",
              "    <tr>\n",
              "      <th>43605</th>\n",
              "      <td>@user @user obama want liberal    illegal red ...</td>\n",
              "      <td>NOT</td>\n",
              "      <td>NaN</td>\n",
              "      <td>NaN</td>\n",
              "      <td>0.208333</td>\n",
              "      <td>0.0</td>\n",
              "      <td>0.250000</td>\n",
              "      <td>0.0</td>\n",
              "      <td>0.0</td>\n",
              "      <td>1</td>\n",
              "      <td>0</td>\n",
              "    </tr>\n",
              "  </tbody>\n",
              "</table>\n",
              "</div>"
            ],
            "text/plain": [
              "                                                   tweet  ... has_url\n",
              "id                                                        ...        \n",
              "86426                         @user ask native americans  ...       0\n",
              "90194  @user @user home drunk @user maga trump2020 👊 ...  ...       0\n",
              "16820  amazon investigate chinese employee sell inter...  ...       0\n",
              "62688          @user should'vetaken piece shit volcano 😂  ...       0\n",
              "43605  @user @user obama want liberal    illegal red ...  ...       0\n",
              "\n",
              "[5 rows x 11 columns]"
            ]
          },
          "metadata": {
            "tags": []
          },
          "execution_count": 4
        }
      ]
    },
    {
      "cell_type": "markdown",
      "metadata": {
        "colab_type": "text",
        "id": "_es-Vl-9w0D7"
      },
      "source": [
        "#### Features a partir de bases de conhecimento externas"
      ]
    },
    {
      "cell_type": "markdown",
      "metadata": {
        "colab_type": "text",
        "id": "-yecoLvukCoc"
      },
      "source": [
        "##### Listagem dos tipos de entidades"
      ]
    },
    {
      "cell_type": "code",
      "metadata": {
        "id": "64IvzaLzMvtx",
        "colab_type": "code",
        "colab": {}
      },
      "source": [
        "def extract_entities(text):\n",
        "  doc = nlp(text)\n",
        "  lista_entities = \"\"\n",
        "  if len(doc.ents) > 0:\n",
        "    for token in doc:\n",
        "      if len(token.ent_type_) > 0:\n",
        "        lista_entities = lista_entities  + \" \" + token.ent_type_\n",
        "  \n",
        "  return lista_entities\n",
        "\n",
        "\n"
      ],
      "execution_count": null,
      "outputs": []
    },
    {
      "cell_type": "markdown",
      "metadata": {
        "colab_type": "text",
        "id": "R8-XrfBqX8ZH"
      },
      "source": [
        "##### Classificar de sentimento positivo ou negativo"
      ]
    },
    {
      "cell_type": "code",
      "metadata": {
        "id": "vLMBCWaXBACA",
        "colab_type": "code",
        "colab": {}
      },
      "source": [
        "def classificar_positivo_negativo(text):\n",
        "\n",
        "    doc = nlp(text)\n",
        "\n",
        "    return doc.cats\n"
      ],
      "execution_count": null,
      "outputs": []
    },
    {
      "cell_type": "markdown",
      "metadata": {
        "colab_type": "text",
        "id": "nvZIIzAjF_R4"
      },
      "source": [
        "##### Vetores GloVe"
      ]
    },
    {
      "cell_type": "code",
      "metadata": {
        "id": "6y2CaCbnGC-I",
        "colab_type": "code",
        "colab": {}
      },
      "source": [
        "def get_embeddings(text):\n",
        "  \n",
        "  doc = nlp(text)\n",
        "  return doc.vector\n"
      ],
      "execution_count": null,
      "outputs": []
    },
    {
      "cell_type": "markdown",
      "metadata": {
        "id": "xeJkSowVecxR",
        "colab_type": "text"
      },
      "source": [
        "##### Empath"
      ]
    },
    {
      "cell_type": "code",
      "metadata": {
        "id": "7a2ZmTRjsv0W",
        "colab_type": "code",
        "colab": {}
      },
      "source": [
        "from empath import Empath\n",
        "lexicon = Empath()\n"
      ],
      "execution_count": null,
      "outputs": []
    },
    {
      "cell_type": "markdown",
      "metadata": {
        "id": "UjNRT4FOm6Qg",
        "colab_type": "text"
      },
      "source": [
        "#### Criação das features a partir das bases externas"
      ]
    },
    {
      "cell_type": "code",
      "metadata": {
        "colab_type": "code",
        "id": "9EF1TAWDKRph",
        "colab": {}
      },
      "source": [
        "#@title Pesquisa em bases externas { display-mode: \"form\" }\n",
        "criar_trainset = True #@param {type:\"boolean\"}\n",
        "criar_testset_a = True #@param {type:\"boolean\"}\n",
        "criar_testset_b = True #@param {type:\"boolean\"}\n",
        "\n",
        "from google.colab import files\n",
        "vetores_trainset = pd.DataFrame()\n",
        "vetores_testset_a = pd.DataFrame()\n",
        "vetores_testset_b = pd.DataFrame()\n",
        "def buscar_vetores(dataset_aumentado):\n",
        "  \n",
        "  #Extrai entidades\n",
        "  entidades = dataset_aumentado['tweet'].apply(extract_entities)\n",
        "  \n",
        "  \n",
        "  \n",
        "  #classifica como positivo ou negativo\n",
        "  pos_neg = dataset_aumentado['tweet'].apply(classificar_positivo_negativo).apply(pd.Series)\n",
        "  #busca vetores glove          \n",
        "  vetor_glove = dataset_aumentado['tweet'].apply(get_embeddings).apply(pd.Series)\n",
        "  \n",
        "  #empath\n",
        "  emp = dataset_aumentado['tweet'].apply(lexicon.analyze).apply(pd.Series)\n",
        "  print(emp)\n",
        "  df = pd.concat([entidades, pos_neg, vetor_glove, emp],axis = 1)\n",
        "      \n",
        "  return df\n",
        "\n",
        "for tamanho in [\"pequeno\", \"medio\", \"grande\"]:\n",
        "  \n",
        "  if tamanho == \"grande\":\n",
        "    nlp = en_core_web_lg.load()\n",
        "\n",
        "  if tamanho == \"medio\":\n",
        "    nlp = en_core_web_md.load()\n",
        "\n",
        "  if tamanho == \"pequeno\":\n",
        "    nlp = en_core_web_sm.load()\n",
        "\n",
        "  textcat = nlp.create_pipe(\"textcat\")\n",
        "  textcat.add_label(\"POSITIVE\")\n",
        "  textcat.add_label(\"NEGATIVE\")\n",
        "  \n",
        "  nlp.add_pipe(textcat, last=True)\n",
        "  \n",
        "  nlp.begin_training()\n",
        "\n",
        "  if criar_trainset:\n",
        "    vetores_trainset = buscar_vetores(trainset_aumentado)\n",
        "    vetores_trainset['entities'] = vetores_trainset['tweet']\n",
        "    vetores_trainset.drop(\"tweet\", inplace= True, axis=1)\n",
        "\n",
        "    vetores_trainset.to_csv('/content/Mineracao_dados_textos_web/datasets/datasets_aumentados/vetores_trainset_aumentado_'+ tamanho + '.txt', sep=' ')\n",
        "    if 'COLAB_GPU' in os.environ:\n",
        "      files.download('/content/Mineracao_dados_textos_web/datasets/datasets_aumentados/vetores_trainset_aumentado_'+ tamanho + '.txt')\n",
        "\n",
        "  if criar_testset_a:\n",
        "    vetores_testset_a = buscar_vetores(testset_a_aumentado)\n",
        "    vetores_testset_a['entities'] = vetores_testset_a['tweet']\n",
        "    vetores_testset_a.drop(\"tweet\", inplace= True, axis=1)\n",
        "    vetores_testset_a.to_csv('/content/Mineracao_dados_textos_web/datasets/datasets_aumentados/vetores_testset_a_aumentado_'+ tamanho + '.txt', sep=' ')\n",
        "    if 'COLAB_GPU' in os.environ:\n",
        "      files.download('/content/Mineracao_dados_textos_web/datasets/datasets_aumentados/vetores_testset_a_aumentado_'+ tamanho + '.txt')\n",
        "\n",
        "\n",
        "  if criar_testset_b:\n",
        "    vetores_testset_b = buscar_vetores(testset_b_aumentado)\n",
        "    vetores_testset_b['entities'] = vetores_testset_b['tweet']\n",
        "    vetores_testset_b.drop(\"tweet\", inplace= True, axis=1)\n",
        "    vetores_testset_b.to_csv('/content/Mineracao_dados_textos_web/datasets/datasets_aumentados/vetores_testset_b_aumentado_'+ tamanho + '.txt', sep=' ')\n",
        "    if 'COLAB_GPU' in os.environ:\n",
        "      files.download('/content/Mineracao_dados_textos_web/datasets/datasets_aumentados/vetores_testset_b_aumentado_'+ tamanho + '.txt')\n",
        "  \n",
        "  nlp.remove_pipe('textcat')"
      ],
      "execution_count": null,
      "outputs": []
    },
    {
      "cell_type": "code",
      "metadata": {
        "id": "tI7WQs2yaMYR",
        "colab_type": "code",
        "colab": {
          "base_uri": "https://localhost:8080/"
        },
        "outputId": "f559a507-51fc-4c1b-cd63-11722a0f03f4"
      },
      "source": [
        "vetores_testset_a_aumentado_grande.head()"
      ],
      "execution_count": null,
      "outputs": [
        {
          "output_type": "execute_result",
          "data": {
            "text/html": [
              "<div>\n",
              "<style scoped>\n",
              "    .dataframe tbody tr th:only-of-type {\n",
              "        vertical-align: middle;\n",
              "    }\n",
              "\n",
              "    .dataframe tbody tr th {\n",
              "        vertical-align: top;\n",
              "    }\n",
              "\n",
              "    .dataframe thead th {\n",
              "        text-align: right;\n",
              "    }\n",
              "</style>\n",
              "<table border=\"1\" class=\"dataframe\">\n",
              "  <thead>\n",
              "    <tr style=\"text-align: right;\">\n",
              "      <th></th>\n",
              "      <th>POSITIVE</th>\n",
              "      <th>NEGATIVE</th>\n",
              "      <th>0</th>\n",
              "      <th>1</th>\n",
              "      <th>2</th>\n",
              "      <th>3</th>\n",
              "      <th>4</th>\n",
              "      <th>5</th>\n",
              "      <th>6</th>\n",
              "      <th>7</th>\n",
              "      <th>8</th>\n",
              "      <th>9</th>\n",
              "      <th>10</th>\n",
              "      <th>11</th>\n",
              "      <th>12</th>\n",
              "      <th>13</th>\n",
              "      <th>14</th>\n",
              "      <th>15</th>\n",
              "      <th>16</th>\n",
              "      <th>17</th>\n",
              "      <th>18</th>\n",
              "      <th>19</th>\n",
              "      <th>20</th>\n",
              "      <th>21</th>\n",
              "      <th>22</th>\n",
              "      <th>23</th>\n",
              "      <th>24</th>\n",
              "      <th>25</th>\n",
              "      <th>26</th>\n",
              "      <th>27</th>\n",
              "      <th>28</th>\n",
              "      <th>29</th>\n",
              "      <th>30</th>\n",
              "      <th>31</th>\n",
              "      <th>32</th>\n",
              "      <th>33</th>\n",
              "      <th>34</th>\n",
              "      <th>35</th>\n",
              "      <th>36</th>\n",
              "      <th>37</th>\n",
              "      <th>...</th>\n",
              "      <th>strength</th>\n",
              "      <th>technology</th>\n",
              "      <th>breaking</th>\n",
              "      <th>shape_and_size</th>\n",
              "      <th>power</th>\n",
              "      <th>white_collar_job</th>\n",
              "      <th>animal</th>\n",
              "      <th>party</th>\n",
              "      <th>terrorism</th>\n",
              "      <th>smell</th>\n",
              "      <th>disappointment</th>\n",
              "      <th>poor</th>\n",
              "      <th>plant</th>\n",
              "      <th>pain</th>\n",
              "      <th>beauty</th>\n",
              "      <th>timidity</th>\n",
              "      <th>philosophy</th>\n",
              "      <th>negotiate</th>\n",
              "      <th>negative_emotion</th>\n",
              "      <th>cleaning</th>\n",
              "      <th>messaging</th>\n",
              "      <th>competing</th>\n",
              "      <th>law</th>\n",
              "      <th>friends</th>\n",
              "      <th>payment</th>\n",
              "      <th>achievement</th>\n",
              "      <th>alcohol</th>\n",
              "      <th>liquid</th>\n",
              "      <th>feminine</th>\n",
              "      <th>weapon</th>\n",
              "      <th>children</th>\n",
              "      <th>monster</th>\n",
              "      <th>ocean</th>\n",
              "      <th>giving</th>\n",
              "      <th>contentment</th>\n",
              "      <th>writing</th>\n",
              "      <th>rural</th>\n",
              "      <th>positive_emotion</th>\n",
              "      <th>musical</th>\n",
              "      <th>entities</th>\n",
              "    </tr>\n",
              "    <tr>\n",
              "      <th>id</th>\n",
              "      <th></th>\n",
              "      <th></th>\n",
              "      <th></th>\n",
              "      <th></th>\n",
              "      <th></th>\n",
              "      <th></th>\n",
              "      <th></th>\n",
              "      <th></th>\n",
              "      <th></th>\n",
              "      <th></th>\n",
              "      <th></th>\n",
              "      <th></th>\n",
              "      <th></th>\n",
              "      <th></th>\n",
              "      <th></th>\n",
              "      <th></th>\n",
              "      <th></th>\n",
              "      <th></th>\n",
              "      <th></th>\n",
              "      <th></th>\n",
              "      <th></th>\n",
              "      <th></th>\n",
              "      <th></th>\n",
              "      <th></th>\n",
              "      <th></th>\n",
              "      <th></th>\n",
              "      <th></th>\n",
              "      <th></th>\n",
              "      <th></th>\n",
              "      <th></th>\n",
              "      <th></th>\n",
              "      <th></th>\n",
              "      <th></th>\n",
              "      <th></th>\n",
              "      <th></th>\n",
              "      <th></th>\n",
              "      <th></th>\n",
              "      <th></th>\n",
              "      <th></th>\n",
              "      <th></th>\n",
              "      <th></th>\n",
              "      <th></th>\n",
              "      <th></th>\n",
              "      <th></th>\n",
              "      <th></th>\n",
              "      <th></th>\n",
              "      <th></th>\n",
              "      <th></th>\n",
              "      <th></th>\n",
              "      <th></th>\n",
              "      <th></th>\n",
              "      <th></th>\n",
              "      <th></th>\n",
              "      <th></th>\n",
              "      <th></th>\n",
              "      <th></th>\n",
              "      <th></th>\n",
              "      <th></th>\n",
              "      <th></th>\n",
              "      <th></th>\n",
              "      <th></th>\n",
              "      <th></th>\n",
              "      <th></th>\n",
              "      <th></th>\n",
              "      <th></th>\n",
              "      <th></th>\n",
              "      <th></th>\n",
              "      <th></th>\n",
              "      <th></th>\n",
              "      <th></th>\n",
              "      <th></th>\n",
              "      <th></th>\n",
              "      <th></th>\n",
              "      <th></th>\n",
              "      <th></th>\n",
              "      <th></th>\n",
              "      <th></th>\n",
              "      <th></th>\n",
              "      <th></th>\n",
              "      <th></th>\n",
              "      <th></th>\n",
              "    </tr>\n",
              "  </thead>\n",
              "  <tbody>\n",
              "    <tr>\n",
              "      <th>15923</th>\n",
              "      <td>0.995029</td>\n",
              "      <td>0.005570</td>\n",
              "      <td>-0.191585</td>\n",
              "      <td>-0.046306</td>\n",
              "      <td>0.161409</td>\n",
              "      <td>0.076512</td>\n",
              "      <td>0.009744</td>\n",
              "      <td>-0.155384</td>\n",
              "      <td>0.020297</td>\n",
              "      <td>-0.031936</td>\n",
              "      <td>0.027255</td>\n",
              "      <td>1.090883</td>\n",
              "      <td>-0.058534</td>\n",
              "      <td>-0.073163</td>\n",
              "      <td>0.137335</td>\n",
              "      <td>0.098073</td>\n",
              "      <td>-0.151118</td>\n",
              "      <td>0.068070</td>\n",
              "      <td>-0.056376</td>\n",
              "      <td>-0.030498</td>\n",
              "      <td>0.112310</td>\n",
              "      <td>0.186221</td>\n",
              "      <td>0.057128</td>\n",
              "      <td>-0.081190</td>\n",
              "      <td>0.137852</td>\n",
              "      <td>-0.049840</td>\n",
              "      <td>0.039185</td>\n",
              "      <td>-0.086562</td>\n",
              "      <td>-0.070903</td>\n",
              "      <td>0.098239</td>\n",
              "      <td>-0.023760</td>\n",
              "      <td>0.200604</td>\n",
              "      <td>0.061349</td>\n",
              "      <td>0.100631</td>\n",
              "      <td>0.078179</td>\n",
              "      <td>-0.045438</td>\n",
              "      <td>0.088721</td>\n",
              "      <td>-0.000801</td>\n",
              "      <td>-0.163650</td>\n",
              "      <td>-0.110346</td>\n",
              "      <td>...</td>\n",
              "      <td>0.0</td>\n",
              "      <td>0.0</td>\n",
              "      <td>0.0</td>\n",
              "      <td>0.0</td>\n",
              "      <td>0.0</td>\n",
              "      <td>0.0</td>\n",
              "      <td>0.0</td>\n",
              "      <td>0.0</td>\n",
              "      <td>0.0</td>\n",
              "      <td>0.0</td>\n",
              "      <td>0.0</td>\n",
              "      <td>0.0</td>\n",
              "      <td>0.0</td>\n",
              "      <td>0.0</td>\n",
              "      <td>0.0</td>\n",
              "      <td>0.0</td>\n",
              "      <td>0.0</td>\n",
              "      <td>0.0</td>\n",
              "      <td>0.0</td>\n",
              "      <td>0.0</td>\n",
              "      <td>0.0</td>\n",
              "      <td>0.0</td>\n",
              "      <td>1.0</td>\n",
              "      <td>0.0</td>\n",
              "      <td>1.0</td>\n",
              "      <td>0.0</td>\n",
              "      <td>0.0</td>\n",
              "      <td>0.0</td>\n",
              "      <td>0.0</td>\n",
              "      <td>0.0</td>\n",
              "      <td>1.0</td>\n",
              "      <td>0.0</td>\n",
              "      <td>0.0</td>\n",
              "      <td>0.0</td>\n",
              "      <td>0.0</td>\n",
              "      <td>0.0</td>\n",
              "      <td>0.0</td>\n",
              "      <td>0.0</td>\n",
              "      <td>0.0</td>\n",
              "      <td>ORG GPE NORP PERSON PERSON PERSON</td>\n",
              "    </tr>\n",
              "    <tr>\n",
              "      <th>27014</th>\n",
              "      <td>0.509064</td>\n",
              "      <td>0.131664</td>\n",
              "      <td>-0.079798</td>\n",
              "      <td>-0.081745</td>\n",
              "      <td>-0.015741</td>\n",
              "      <td>-0.010352</td>\n",
              "      <td>0.027770</td>\n",
              "      <td>0.021988</td>\n",
              "      <td>0.042276</td>\n",
              "      <td>0.157502</td>\n",
              "      <td>0.131809</td>\n",
              "      <td>1.886706</td>\n",
              "      <td>-0.135542</td>\n",
              "      <td>-0.008212</td>\n",
              "      <td>-0.074740</td>\n",
              "      <td>0.082310</td>\n",
              "      <td>-0.115669</td>\n",
              "      <td>0.154069</td>\n",
              "      <td>-0.145469</td>\n",
              "      <td>0.252092</td>\n",
              "      <td>-0.137063</td>\n",
              "      <td>0.266558</td>\n",
              "      <td>0.161167</td>\n",
              "      <td>-0.129297</td>\n",
              "      <td>0.213116</td>\n",
              "      <td>-0.210784</td>\n",
              "      <td>0.034232</td>\n",
              "      <td>-0.020127</td>\n",
              "      <td>-0.300672</td>\n",
              "      <td>0.088087</td>\n",
              "      <td>0.146497</td>\n",
              "      <td>0.136266</td>\n",
              "      <td>0.096604</td>\n",
              "      <td>0.554111</td>\n",
              "      <td>0.077092</td>\n",
              "      <td>-0.162292</td>\n",
              "      <td>0.132814</td>\n",
              "      <td>0.017613</td>\n",
              "      <td>-0.155986</td>\n",
              "      <td>-0.073968</td>\n",
              "      <td>...</td>\n",
              "      <td>0.0</td>\n",
              "      <td>0.0</td>\n",
              "      <td>0.0</td>\n",
              "      <td>0.0</td>\n",
              "      <td>0.0</td>\n",
              "      <td>0.0</td>\n",
              "      <td>0.0</td>\n",
              "      <td>0.0</td>\n",
              "      <td>0.0</td>\n",
              "      <td>0.0</td>\n",
              "      <td>0.0</td>\n",
              "      <td>0.0</td>\n",
              "      <td>0.0</td>\n",
              "      <td>0.0</td>\n",
              "      <td>0.0</td>\n",
              "      <td>0.0</td>\n",
              "      <td>1.0</td>\n",
              "      <td>0.0</td>\n",
              "      <td>1.0</td>\n",
              "      <td>0.0</td>\n",
              "      <td>0.0</td>\n",
              "      <td>0.0</td>\n",
              "      <td>1.0</td>\n",
              "      <td>0.0</td>\n",
              "      <td>0.0</td>\n",
              "      <td>0.0</td>\n",
              "      <td>0.0</td>\n",
              "      <td>0.0</td>\n",
              "      <td>0.0</td>\n",
              "      <td>0.0</td>\n",
              "      <td>0.0</td>\n",
              "      <td>0.0</td>\n",
              "      <td>0.0</td>\n",
              "      <td>0.0</td>\n",
              "      <td>0.0</td>\n",
              "      <td>0.0</td>\n",
              "      <td>0.0</td>\n",
              "      <td>0.0</td>\n",
              "      <td>0.0</td>\n",
              "      <td>PERSON NORP</td>\n",
              "    </tr>\n",
              "    <tr>\n",
              "      <th>30530</th>\n",
              "      <td>0.774465</td>\n",
              "      <td>0.058924</td>\n",
              "      <td>0.035193</td>\n",
              "      <td>0.062931</td>\n",
              "      <td>-0.067490</td>\n",
              "      <td>0.107373</td>\n",
              "      <td>0.146218</td>\n",
              "      <td>-0.167144</td>\n",
              "      <td>0.150658</td>\n",
              "      <td>-0.072166</td>\n",
              "      <td>-0.146755</td>\n",
              "      <td>-0.349239</td>\n",
              "      <td>0.093739</td>\n",
              "      <td>-0.351798</td>\n",
              "      <td>0.020655</td>\n",
              "      <td>0.035068</td>\n",
              "      <td>0.090187</td>\n",
              "      <td>0.149613</td>\n",
              "      <td>-0.166578</td>\n",
              "      <td>-0.524152</td>\n",
              "      <td>0.082028</td>\n",
              "      <td>0.175355</td>\n",
              "      <td>0.019184</td>\n",
              "      <td>0.384594</td>\n",
              "      <td>0.230083</td>\n",
              "      <td>-0.246258</td>\n",
              "      <td>-0.099124</td>\n",
              "      <td>0.106663</td>\n",
              "      <td>0.113336</td>\n",
              "      <td>0.039243</td>\n",
              "      <td>0.197662</td>\n",
              "      <td>-0.029539</td>\n",
              "      <td>0.092307</td>\n",
              "      <td>0.229685</td>\n",
              "      <td>0.231176</td>\n",
              "      <td>0.056841</td>\n",
              "      <td>-0.447688</td>\n",
              "      <td>0.135885</td>\n",
              "      <td>0.285860</td>\n",
              "      <td>0.114074</td>\n",
              "      <td>...</td>\n",
              "      <td>0.0</td>\n",
              "      <td>0.0</td>\n",
              "      <td>0.0</td>\n",
              "      <td>0.0</td>\n",
              "      <td>0.0</td>\n",
              "      <td>0.0</td>\n",
              "      <td>0.0</td>\n",
              "      <td>0.0</td>\n",
              "      <td>0.0</td>\n",
              "      <td>0.0</td>\n",
              "      <td>0.0</td>\n",
              "      <td>0.0</td>\n",
              "      <td>0.0</td>\n",
              "      <td>0.0</td>\n",
              "      <td>0.0</td>\n",
              "      <td>0.0</td>\n",
              "      <td>0.0</td>\n",
              "      <td>0.0</td>\n",
              "      <td>0.0</td>\n",
              "      <td>0.0</td>\n",
              "      <td>0.0</td>\n",
              "      <td>0.0</td>\n",
              "      <td>0.0</td>\n",
              "      <td>0.0</td>\n",
              "      <td>0.0</td>\n",
              "      <td>0.0</td>\n",
              "      <td>0.0</td>\n",
              "      <td>0.0</td>\n",
              "      <td>0.0</td>\n",
              "      <td>0.0</td>\n",
              "      <td>0.0</td>\n",
              "      <td>0.0</td>\n",
              "      <td>0.0</td>\n",
              "      <td>0.0</td>\n",
              "      <td>0.0</td>\n",
              "      <td>0.0</td>\n",
              "      <td>0.0</td>\n",
              "      <td>0.0</td>\n",
              "      <td>0.0</td>\n",
              "      <td>ORG ORG ORG PRODUCT PRODUCT ORG ORG ORG ORG ORG</td>\n",
              "    </tr>\n",
              "    <tr>\n",
              "      <th>13876</th>\n",
              "      <td>0.899354</td>\n",
              "      <td>0.052284</td>\n",
              "      <td>-0.062807</td>\n",
              "      <td>0.197384</td>\n",
              "      <td>-0.154072</td>\n",
              "      <td>0.029531</td>\n",
              "      <td>0.142492</td>\n",
              "      <td>-0.199123</td>\n",
              "      <td>0.063476</td>\n",
              "      <td>-0.016527</td>\n",
              "      <td>0.192436</td>\n",
              "      <td>1.341525</td>\n",
              "      <td>-0.221205</td>\n",
              "      <td>-0.237401</td>\n",
              "      <td>0.079269</td>\n",
              "      <td>-0.073526</td>\n",
              "      <td>-0.160988</td>\n",
              "      <td>-0.046720</td>\n",
              "      <td>-0.016854</td>\n",
              "      <td>0.202983</td>\n",
              "      <td>0.072408</td>\n",
              "      <td>-0.101646</td>\n",
              "      <td>0.072943</td>\n",
              "      <td>0.012844</td>\n",
              "      <td>0.076777</td>\n",
              "      <td>-0.190078</td>\n",
              "      <td>-0.054338</td>\n",
              "      <td>0.143393</td>\n",
              "      <td>0.027233</td>\n",
              "      <td>-0.004049</td>\n",
              "      <td>0.102748</td>\n",
              "      <td>-0.033239</td>\n",
              "      <td>-0.126029</td>\n",
              "      <td>-0.044787</td>\n",
              "      <td>-0.029465</td>\n",
              "      <td>0.121276</td>\n",
              "      <td>-0.117031</td>\n",
              "      <td>-0.119704</td>\n",
              "      <td>0.121817</td>\n",
              "      <td>0.270194</td>\n",
              "      <td>...</td>\n",
              "      <td>0.0</td>\n",
              "      <td>0.0</td>\n",
              "      <td>0.0</td>\n",
              "      <td>0.0</td>\n",
              "      <td>0.0</td>\n",
              "      <td>0.0</td>\n",
              "      <td>0.0</td>\n",
              "      <td>0.0</td>\n",
              "      <td>0.0</td>\n",
              "      <td>0.0</td>\n",
              "      <td>0.0</td>\n",
              "      <td>0.0</td>\n",
              "      <td>0.0</td>\n",
              "      <td>0.0</td>\n",
              "      <td>0.0</td>\n",
              "      <td>0.0</td>\n",
              "      <td>0.0</td>\n",
              "      <td>0.0</td>\n",
              "      <td>0.0</td>\n",
              "      <td>0.0</td>\n",
              "      <td>0.0</td>\n",
              "      <td>0.0</td>\n",
              "      <td>0.0</td>\n",
              "      <td>0.0</td>\n",
              "      <td>0.0</td>\n",
              "      <td>0.0</td>\n",
              "      <td>0.0</td>\n",
              "      <td>0.0</td>\n",
              "      <td>0.0</td>\n",
              "      <td>0.0</td>\n",
              "      <td>0.0</td>\n",
              "      <td>0.0</td>\n",
              "      <td>0.0</td>\n",
              "      <td>0.0</td>\n",
              "      <td>0.0</td>\n",
              "      <td>0.0</td>\n",
              "      <td>0.0</td>\n",
              "      <td>0.0</td>\n",
              "      <td>0.0</td>\n",
              "      <td>PERSON</td>\n",
              "    </tr>\n",
              "    <tr>\n",
              "      <th>60133</th>\n",
              "      <td>0.989788</td>\n",
              "      <td>0.007730</td>\n",
              "      <td>-0.024621</td>\n",
              "      <td>-0.112409</td>\n",
              "      <td>0.078997</td>\n",
              "      <td>0.066770</td>\n",
              "      <td>0.202874</td>\n",
              "      <td>-0.087660</td>\n",
              "      <td>-0.010270</td>\n",
              "      <td>0.069021</td>\n",
              "      <td>-0.045096</td>\n",
              "      <td>1.150540</td>\n",
              "      <td>-0.079274</td>\n",
              "      <td>-0.031881</td>\n",
              "      <td>0.034931</td>\n",
              "      <td>0.077285</td>\n",
              "      <td>0.027456</td>\n",
              "      <td>0.080750</td>\n",
              "      <td>-0.035473</td>\n",
              "      <td>0.470752</td>\n",
              "      <td>-0.090268</td>\n",
              "      <td>0.032652</td>\n",
              "      <td>0.141750</td>\n",
              "      <td>0.033244</td>\n",
              "      <td>0.414056</td>\n",
              "      <td>-0.113171</td>\n",
              "      <td>-0.042909</td>\n",
              "      <td>0.103596</td>\n",
              "      <td>-0.026231</td>\n",
              "      <td>0.084489</td>\n",
              "      <td>0.085333</td>\n",
              "      <td>0.040449</td>\n",
              "      <td>0.052166</td>\n",
              "      <td>0.192204</td>\n",
              "      <td>0.001698</td>\n",
              "      <td>0.147964</td>\n",
              "      <td>0.090845</td>\n",
              "      <td>0.135134</td>\n",
              "      <td>-0.088275</td>\n",
              "      <td>-0.134746</td>\n",
              "      <td>...</td>\n",
              "      <td>0.0</td>\n",
              "      <td>0.0</td>\n",
              "      <td>0.0</td>\n",
              "      <td>0.0</td>\n",
              "      <td>1.0</td>\n",
              "      <td>0.0</td>\n",
              "      <td>0.0</td>\n",
              "      <td>0.0</td>\n",
              "      <td>0.0</td>\n",
              "      <td>0.0</td>\n",
              "      <td>0.0</td>\n",
              "      <td>0.0</td>\n",
              "      <td>0.0</td>\n",
              "      <td>0.0</td>\n",
              "      <td>0.0</td>\n",
              "      <td>0.0</td>\n",
              "      <td>0.0</td>\n",
              "      <td>0.0</td>\n",
              "      <td>0.0</td>\n",
              "      <td>0.0</td>\n",
              "      <td>0.0</td>\n",
              "      <td>1.0</td>\n",
              "      <td>0.0</td>\n",
              "      <td>0.0</td>\n",
              "      <td>0.0</td>\n",
              "      <td>0.0</td>\n",
              "      <td>0.0</td>\n",
              "      <td>0.0</td>\n",
              "      <td>0.0</td>\n",
              "      <td>0.0</td>\n",
              "      <td>0.0</td>\n",
              "      <td>0.0</td>\n",
              "      <td>0.0</td>\n",
              "      <td>0.0</td>\n",
              "      <td>0.0</td>\n",
              "      <td>0.0</td>\n",
              "      <td>0.0</td>\n",
              "      <td>0.0</td>\n",
              "      <td>0.0</td>\n",
              "      <td>GPE</td>\n",
              "    </tr>\n",
              "  </tbody>\n",
              "</table>\n",
              "<p>5 rows × 497 columns</p>\n",
              "</div>"
            ],
            "text/plain": [
              "       POSITIVE  ...                                          entities\n",
              "id               ...                                                  \n",
              "15923  0.995029  ...                 ORG GPE NORP PERSON PERSON PERSON\n",
              "27014  0.509064  ...                                       PERSON NORP\n",
              "30530  0.774465  ...   ORG ORG ORG PRODUCT PRODUCT ORG ORG ORG ORG ORG\n",
              "13876  0.899354  ...                                            PERSON\n",
              "60133  0.989788  ...                                               GPE\n",
              "\n",
              "[5 rows x 497 columns]"
            ]
          },
          "metadata": {
            "tags": []
          },
          "execution_count": 5
        }
      ]
    },
    {
      "cell_type": "markdown",
      "metadata": {
        "id": "Ip7jigvFWEJz",
        "colab_type": "text"
      },
      "source": [
        "## Treinamento do modelo\n"
      ]
    },
    {
      "cell_type": "markdown",
      "metadata": {
        "id": "OHD7xt8xa0p3",
        "colab_type": "text"
      },
      "source": [
        "### Carregamento dos dados salvos"
      ]
    },
    {
      "cell_type": "code",
      "metadata": {
        "colab_type": "code",
        "id": "w787-LvAbd7D",
        "colab": {
          "base_uri": "https://localhost:8080/",
          "height": 428
        },
        "outputId": "10b507c5-5c85-40ce-c3d2-6acfa6dc1f2b"
      },
      "source": [
        "#@title Download do repositório e leitura dos datasets aumentados e respectivos vetores { display-mode: \"form\" }\n",
        "import pandas as pd\n",
        "import os\n",
        "!pip install empath\n",
        "def download_repositorio():\n",
        "  %rm -rf /content/Mineracao_dados_textos_web\n",
        "  !git clone https://github.com/eduardodut/Mineracao_dados_textos_web.git\n",
        "\n",
        "download_repositorio()\n",
        "from sklearn.feature_extraction.text import TfidfVectorizer\n",
        "\n",
        "\n",
        "pasta_raiz = ''\n",
        "if 'COLAB_GPU' in os.environ:\n",
        "  pasta_raiz +=\"/content\"\n",
        "\n",
        "pasta_raiz = pasta_raiz + \"/Mineracao_dados_textos_web/datasets/datasets_aumentados\"\n",
        "\n",
        "\n",
        "trainset_aumentado = pd.read_csv(pasta_raiz+'/trainset_aumentado.txt', sep=' ', index_col='id')\n",
        "\n",
        "testset_a_aumentado = pd.read_csv(pasta_raiz+'/testset_a_aumentado.txt', sep=' ', index_col='id')\n",
        "\n",
        "testset_b_aumentado = pd.read_csv(pasta_raiz+'/testset_b_aumentado.txt', sep=' ', index_col='id')\n",
        "\n",
        "\n",
        "\n",
        "\n",
        "vetores_trainset_aumentado_grande = pd.read_csv(pasta_raiz+'/vetores_trainset_aumentado_grande.txt', sep=' ', index_col = 'id')\n",
        "vetores_trainset_aumentado_grande.entities.fillna(\"\",inplace=True)\n",
        "\n",
        "vetores_trainset_aumentado_medio = pd.read_csv(pasta_raiz+'/vetores_trainset_aumentado_medio.txt', sep=' ', index_col = 'id')\n",
        "vetores_trainset_aumentado_medio.entities.fillna(\"\",inplace=True)\n",
        "\n",
        "vetores_trainset_aumentado_pequeno = pd.read_csv(pasta_raiz+'/vetores_trainset_aumentado_pequeno.txt', sep=' ', index_col = 'id')\n",
        "vetores_trainset_aumentado_pequeno.entities.fillna(\"\",inplace=True)\n",
        "\n",
        "vetores_testset_a_aumentado_grande = pd.read_csv(pasta_raiz+'/vetores_testset_a_aumentado_grande.txt', sep=' ', index_col = 'id')\n",
        "vetores_testset_a_aumentado_grande.entities.fillna(\"\",inplace=True)\n",
        "\n",
        "vetores_testset_a_aumentado_medio = pd.read_csv(pasta_raiz+'/vetores_testset_a_aumentado_medio.txt', sep=' ', index_col = 'id')\n",
        "vetores_testset_a_aumentado_medio.entities.fillna(\"\",inplace=True)\n",
        "\n",
        "vetores_testset_a_aumentado_pequeno = pd.read_csv(pasta_raiz+'/vetores_testset_a_aumentado_pequeno.txt', sep=' ', index_col = 'id')\n",
        "vetores_testset_a_aumentado_pequeno.entities.fillna(\"\",inplace=True)\n",
        "\n",
        "vetores_testset_b_aumentado_grande = pd.read_csv(pasta_raiz+'/vetores_testset_b_aumentado_grande.txt', sep=' ', index_col = 'id')\n",
        "vetores_testset_b_aumentado_grande.entities.fillna(\"\",inplace=True)\n",
        "\n",
        "vetores_testset_b_aumentado_medio = pd.read_csv(pasta_raiz+'/vetores_testset_b_aumentado_medio.txt', sep=' ', index_col = 'id')\n",
        "vetores_testset_b_aumentado_medio.entities.fillna(\"\",inplace=True)\n",
        "\n",
        "vetores_testset_b_aumentado_pequeno = pd.read_csv(pasta_raiz+'/vetores_testset_b_aumentado_pequeno.txt', sep=' ', index_col = 'id')\n",
        "vetores_testset_b_aumentado_pequeno.entities.fillna(\"\",inplace=True)\n",
        "\n",
        "dict_vetores = {'pequeno':[vetores_trainset_aumentado_pequeno, vetores_testset_a_aumentado_pequeno, vetores_testset_b_aumentado_pequeno],\n",
        "                'medio':[vetores_trainset_aumentado_medio, vetores_testset_a_aumentado_medio, vetores_testset_b_aumentado_medio],\n",
        "                'grande':[vetores_trainset_aumentado_grande, vetores_testset_a_aumentado_grande, vetores_testset_b_aumentado_grande]\n",
        "}\n",
        "\n",
        "VOCABULARIO_TWEETS = TfidfVectorizer().fit(pd.concat([testset_a_aumentado['tweet'], \n",
        "                                                      testset_b_aumentado['tweet'], \n",
        "                                                      trainset_aumentado['tweet']])).vocabulary_\n",
        "VOCABULARIO_ENTIDADES = TfidfVectorizer().fit(pd.concat([vetores_testset_a_aumentado_grande['entities'], \n",
        "                                                         vetores_testset_b_aumentado_grande['entities'], \n",
        "                                                         vetores_trainset_aumentado_grande['entities']])).vocabulary_"
      ],
      "execution_count": 5,
      "outputs": [
        {
          "output_type": "stream",
          "text": [
            "Collecting empath\n",
            "\u001b[?25l  Downloading https://files.pythonhosted.org/packages/d2/84/a5de61a99252f60d705d7982b3648db517a704c89fa7629d3d3637a6e604/empath-0.89.tar.gz (57kB)\n",
            "\r\u001b[K     |█████▊                          | 10kB 17.0MB/s eta 0:00:01\r\u001b[K     |███████████▍                    | 20kB 1.7MB/s eta 0:00:01\r\u001b[K     |█████████████████               | 30kB 2.3MB/s eta 0:00:01\r\u001b[K     |██████████████████████▊         | 40kB 2.2MB/s eta 0:00:01\r\u001b[K     |████████████████████████████▍   | 51kB 2.0MB/s eta 0:00:01\r\u001b[K     |████████████████████████████████| 61kB 1.8MB/s \n",
            "\u001b[?25hRequirement already satisfied: requests in /usr/local/lib/python3.6/dist-packages (from empath) (2.23.0)\n",
            "Requirement already satisfied: urllib3!=1.25.0,!=1.25.1,<1.26,>=1.21.1 in /usr/local/lib/python3.6/dist-packages (from requests->empath) (1.24.3)\n",
            "Requirement already satisfied: idna<3,>=2.5 in /usr/local/lib/python3.6/dist-packages (from requests->empath) (2.10)\n",
            "Requirement already satisfied: chardet<4,>=3.0.2 in /usr/local/lib/python3.6/dist-packages (from requests->empath) (3.0.4)\n",
            "Requirement already satisfied: certifi>=2017.4.17 in /usr/local/lib/python3.6/dist-packages (from requests->empath) (2020.6.20)\n",
            "Building wheels for collected packages: empath\n",
            "  Building wheel for empath (setup.py) ... \u001b[?25l\u001b[?25hdone\n",
            "  Created wheel for empath: filename=empath-0.89-cp36-none-any.whl size=57824 sha256=a602628ec5b9537901f419582447eb56bb4c46848a99ee3130fdfa05fcb00c93\n",
            "  Stored in directory: /root/.cache/pip/wheels/84/ea/2f/2bc54d4f9985ce61753ebc5b00cb2df51d855589267c667308\n",
            "Successfully built empath\n",
            "Installing collected packages: empath\n",
            "Successfully installed empath-0.89\n",
            "Cloning into 'Mineracao_dados_textos_web'...\n",
            "remote: Enumerating objects: 47, done.\u001b[K\n",
            "remote: Counting objects: 100% (47/47), done.\u001b[K\n",
            "remote: Compressing objects: 100% (46/46), done.\u001b[K\n",
            "remote: Total 234 (delta 29), reused 2 (delta 1), pack-reused 187\u001b[K\n",
            "Receiving objects: 100% (234/234), 166.90 MiB | 25.14 MiB/s, done.\n",
            "Resolving deltas: 100% (147/147), done.\n",
            "Checking out files: 100% (26/26), done.\n"
          ],
          "name": "stdout"
        }
      ]
    },
    {
      "cell_type": "markdown",
      "metadata": {
        "id": "-gbnEhAsbbgG",
        "colab_type": "text"
      },
      "source": [
        "### Otimização de hiperparâmetros"
      ]
    },
    {
      "cell_type": "markdown",
      "metadata": {
        "id": "UposDpwPcss4",
        "colab_type": "text"
      },
      "source": [
        "#### Pipeline"
      ]
    },
    {
      "cell_type": "code",
      "metadata": {
        "id": "_6RkdBLaxBnv",
        "colab_type": "code",
        "cellView": "form",
        "colab": {
          "base_uri": "https://localhost:8080/",
          "height": 414
        },
        "outputId": "71277f39-7f07-4187-95bb-09bdaaa5a2cc"
      },
      "source": [
        "#@markdown Formato dos dados de entrada\n",
        "trainset_aumentado.head(3)"
      ],
      "execution_count": 6,
      "outputs": [
        {
          "output_type": "execute_result",
          "data": {
            "text/html": [
              "<div>\n",
              "<style scoped>\n",
              "    .dataframe tbody tr th:only-of-type {\n",
              "        vertical-align: middle;\n",
              "    }\n",
              "\n",
              "    .dataframe tbody tr th {\n",
              "        vertical-align: top;\n",
              "    }\n",
              "\n",
              "    .dataframe thead th {\n",
              "        text-align: right;\n",
              "    }\n",
              "</style>\n",
              "<table border=\"1\" class=\"dataframe\">\n",
              "  <thead>\n",
              "    <tr style=\"text-align: right;\">\n",
              "      <th></th>\n",
              "      <th>tweet</th>\n",
              "      <th>subtask_a</th>\n",
              "      <th>subtask_b</th>\n",
              "      <th>subtask_c</th>\n",
              "      <th>length</th>\n",
              "      <th>hashtag_%</th>\n",
              "      <th>mentions_%</th>\n",
              "      <th>stop_words_%</th>\n",
              "      <th>uppercase_%</th>\n",
              "      <th>sent_count</th>\n",
              "      <th>has_url</th>\n",
              "    </tr>\n",
              "    <tr>\n",
              "      <th>id</th>\n",
              "      <th></th>\n",
              "      <th></th>\n",
              "      <th></th>\n",
              "      <th></th>\n",
              "      <th></th>\n",
              "      <th></th>\n",
              "      <th></th>\n",
              "      <th></th>\n",
              "      <th></th>\n",
              "      <th></th>\n",
              "      <th></th>\n",
              "    </tr>\n",
              "  </thead>\n",
              "  <tbody>\n",
              "    <tr>\n",
              "      <th>86426</th>\n",
              "      <td>@user ask native americans</td>\n",
              "      <td>OFF</td>\n",
              "      <td>UNT</td>\n",
              "      <td>NaN</td>\n",
              "      <td>0.108333</td>\n",
              "      <td>0.0</td>\n",
              "      <td>0.250000</td>\n",
              "      <td>0.0</td>\n",
              "      <td>0.0</td>\n",
              "      <td>1</td>\n",
              "      <td>0</td>\n",
              "    </tr>\n",
              "    <tr>\n",
              "      <th>90194</th>\n",
              "      <td>@user @user home drunk @user maga trump2020 👊 ...</td>\n",
              "      <td>OFF</td>\n",
              "      <td>TIN</td>\n",
              "      <td>IND</td>\n",
              "      <td>0.212500</td>\n",
              "      <td>0.0</td>\n",
              "      <td>0.272727</td>\n",
              "      <td>0.0</td>\n",
              "      <td>0.0</td>\n",
              "      <td>1</td>\n",
              "      <td>0</td>\n",
              "    </tr>\n",
              "    <tr>\n",
              "      <th>16820</th>\n",
              "      <td>amazon investigate chinese employee sell inter...</td>\n",
              "      <td>NOT</td>\n",
              "      <td>NaN</td>\n",
              "      <td>NaN</td>\n",
              "      <td>0.554167</td>\n",
              "      <td>0.0</td>\n",
              "      <td>0.000000</td>\n",
              "      <td>0.0</td>\n",
              "      <td>0.0</td>\n",
              "      <td>1</td>\n",
              "      <td>0</td>\n",
              "    </tr>\n",
              "  </tbody>\n",
              "</table>\n",
              "</div>"
            ],
            "text/plain": [
              "                                                   tweet  ... has_url\n",
              "id                                                        ...        \n",
              "86426                         @user ask native americans  ...       0\n",
              "90194  @user @user home drunk @user maga trump2020 👊 ...  ...       0\n",
              "16820  amazon investigate chinese employee sell inter...  ...       0\n",
              "\n",
              "[3 rows x 11 columns]"
            ]
          },
          "metadata": {
            "tags": []
          },
          "execution_count": 6
        }
      ]
    },
    {
      "cell_type": "markdown",
      "metadata": {
        "id": "fLh90Qqacvqq",
        "colab_type": "text"
      },
      "source": [
        "##### Anexação dos dados da base de conhecimento externo"
      ]
    },
    {
      "cell_type": "code",
      "metadata": {
        "id": "a32Ac04vuTZK",
        "colab_type": "code",
        "cellView": "form",
        "colab": {
          "base_uri": "https://localhost:8080/",
          "height": 119
        },
        "outputId": "0f1c08a2-5e40-4ebe-d72e-6041c6b8efac"
      },
      "source": [
        "#@markdown - São anexados ao trainset_aumentado os dados pesquisados das bases externas\n",
        "from sklearn.pipeline import FeatureUnion, Pipeline\n",
        "from sklearn.base import TransformerMixin, BaseEstimator\n",
        "import numpy as np\n",
        "import pandas as pd\n",
        "\n",
        "from empath import Empath \n",
        "from sklearn.decomposition import TruncatedSVD\n",
        "from nltk.tokenize import TweetTokenizer\n",
        "from sklearn.feature_extraction.text import TfidfVectorizer\n",
        "from sklearn.compose import ColumnTransformer\n",
        "from sklearn.decomposition import PCA\n",
        "class Anexar_Bases_Externas(BaseEstimator, TransformerMixin):\n",
        "    def __init__(self, tamanho = \"\"):\n",
        "        self.tamanho = tamanho\n",
        "        \n",
        "        \n",
        "    def fit(self, X, y=None):\n",
        "        return self\n",
        "    def transform(self, X):\n",
        "      \n",
        "      for vetor in dict_vetores[self.tamanho]:\n",
        "   \n",
        "\n",
        "        if X.index.isin(vetor.index).all():\n",
        "          return X.join(vetor.loc[X.index.values])\n",
        "\n",
        "class Redutor_Dimensionalidade_PCA(BaseEstimator, TransformerMixin):\n",
        "    def __init__(self, proporcao_colunas = 1.0):\n",
        "        self.proporcao_colunas = proporcao_colunas\n",
        "        \n",
        "        \n",
        "    def fit(self, X, y=None):\n",
        "        return self\n",
        "    def transform(self, X):\n",
        "      n_components_pca = int(X.shape[1] * self.proporcao_colunas)\n",
        "      # n_components_pca-=1\n",
        "      if n_components_pca > X.shape[0] or n_components_pca > X.shape[1]:\n",
        "        n_components_pca = min(X.shape[0],X.shape[1])\n",
        "      if n_components_pca == 0:\n",
        "        n_components_pca = 1\n",
        "      return PCA(n_components = n_components_pca).fit_transform(X)\n",
        "\n",
        "\n",
        "class Anexar_Bases_Externas2(BaseEstimator, TransformerMixin):\n",
        "    def __init__(self, \n",
        "                 tamanho = \"\",  \n",
        "                #  lista_colunas_empath = list(Empath().cats.keys()), \n",
        "                 remover_sent = 0 ,\n",
        "                 remover_embeddings = 0 ,\n",
        "                 remover_empath = 0 ,\n",
        "                 remover_entities = 0 ,\n",
        "                 remover_features_criadas = 0,\n",
        "                 ngram_range_tweets = (1,1),\n",
        "                 use_idf_tweets = 1,\n",
        "                 prop_components_tweets = 1.0,\n",
        "                 use_idf_entities = 1,\n",
        "                 prop_components_entities = 1.0,\n",
        "                 prop_components_empath = 1.0,\n",
        "                                 ):\n",
        "        self.tamanho = tamanho\n",
        "        # self.colunas_empath = lista_colunas_empath\n",
        "        self.remover_sent = remover_sent\n",
        "        self.remover_embeddings = remover_embeddings\n",
        "        self.remover_empath = remover_empath\n",
        "        self.remover_entities = remover_entities\n",
        "        self.remover_features_criadas = remover_features_criadas\n",
        "        self.ngram_range_tweets = ngram_range_tweets\n",
        "        self.use_idf_tweets = use_idf_tweets\n",
        "        self.prop_components_tweets = prop_components_tweets\n",
        "        self.use_idf_entities = use_idf_entities\n",
        "        self.prop_components_entities = prop_components_entities\n",
        "        self.prop_components_empath = prop_components_empath\n",
        "\n",
        "    def fit(self, X, y=None):\n",
        "        return self\n",
        "    def transform(self, X):\n",
        "                          \n",
        "      \n",
        "      for vetor in dict_vetores[self.tamanho]:\n",
        "       \n",
        "        if X.index.isin(vetor.index).all():\n",
        "          \n",
        "\n",
        "\n",
        "          X = X.join(vetor.loc[X.index.values])\n",
        "          if self.remover_features_criadas == 1:\n",
        "            X.drop(['length', 'hashtag_%', 'mentions_%', 'stop_words_%', 'uppercase_%', 'sent_count', 'has_url'], axis= 1, inplace= True)\n",
        "\n",
        "\n",
        "          #verifica se dropa ou trata colunas de sentimento:\n",
        "          if self.remover_sent == 1:\n",
        "            X.drop(['POSITIVE', 'NEGATIVE'], axis= 1, inplace= True)\n",
        "          #verifica se dropa ou mantém as embeddings\n",
        "          lista_glove = []\n",
        "          if self.tamanho == 'pequeno':\n",
        "            lista_glove = [str(x) for x in list(np.arange(0,96,1))]\n",
        "          else:\n",
        "            lista_glove = [str(x) for x in list(np.arange(0,300,1))]\n",
        "\n",
        "          if self.remover_embeddings == 1:\n",
        "            X.drop(lista_glove, axis= 1, inplace= True)\n",
        "          \n",
        "          #empath\n",
        "          colunas_empath = list(Empath().cats.keys())\n",
        "          if self.remover_empath == 1:\n",
        "            # print(colunas_empath)\n",
        "            X.drop(colunas_empath, axis= 1, inplace= True)\n",
        "          else:\n",
        "            n_components = int(self.prop_components_empath * X[colunas_empath].shape[1])\n",
        "            n_components-=1\n",
        "            if n_components == 0:\n",
        "              n_components = 1\n",
        "\n",
        "            redutor = TruncatedSVD(n_components = n_components) \n",
        "            t = pd.DataFrame(redutor.fit_transform(X[colunas_empath]))\n",
        "            t.index = X.index\n",
        "            \n",
        "            t.columns = [\"empath\"+str(i) for i in range(t.shape[1])]\n",
        "            \n",
        "            X = X.join(t, on='id')\n",
        "            X.drop(colunas_empath, axis= 1, inplace= True)\n",
        "            \n",
        "          #Entidades\n",
        "          if self.remover_entities == 1:\n",
        "            X.drop(['entities'], axis= 1, inplace= True)\n",
        "          else:\n",
        "            vetorizador_entities = TfidfVectorizer(vocabulary= VOCABULARIO_ENTIDADES, \n",
        "                                                    use_idf = self.use_idf_entities)\n",
        "        \n",
        "            n_components = int(self.prop_components_entities * len(VOCABULARIO_ENTIDADES.keys()))\n",
        "            n_components-=1\n",
        "            if n_components == 0:\n",
        "              n_components = 1\n",
        "\n",
        "            redutor = TruncatedSVD(n_components = n_components)\n",
        "            t =  pd.DataFrame(redutor.fit_transform(vetorizador_entities.fit_transform(X['entities']).toarray()))\n",
        "            \n",
        "            t.index=X.index\n",
        "            t.columns = [\"entities\"+str(i) for i in range(t.shape[1])]\n",
        "            \n",
        "            X = X.join(t, on='id',)\n",
        "\n",
        "            X.drop(['entities'], axis= 1, inplace= True)\n",
        "            \n",
        "          n_components = int(self.prop_components_tweets * len(VOCABULARIO_TWEETS.keys()))\n",
        "          n_components-=1\n",
        "          if n_components == 0:\n",
        "            n_components = 1\n",
        "          \n",
        "          vetorizador_tweet = TfidfVectorizer(tokenizer= TweetTokenizer().tokenize,\n",
        "                                                 vocabulary= VOCABULARIO_TWEETS, \n",
        "                                                 ngram_range= self.ngram_range_tweets,\n",
        "                                                 use_idf = self.use_idf_tweets)\n",
        "\n",
        "\n",
        "          redutor = TruncatedSVD(n_components = n_components)        \n",
        "          b = ColumnTransformer([('tweet',\n",
        "                                  Pipeline([('vetorizar', vetorizador_tweet),\n",
        "                                            ('reduzir',   redutor)]), \n",
        "                                  'tweet')], \n",
        "                                remainder=  'passthrough')\n",
        "         \n",
        "         \n",
        "          \n",
        "\n",
        "          return b.fit_transform(X)\n",
        "\n",
        "\n",
        "\n",
        "#Parâmetros testados:\n",
        "param_grid_anexar_bases_externas = {'anexar_bases_externas__tamanho': ['pequeno', 'medio', 'grande']}\n",
        "  \n",
        "# Anexar_Bases_Externas('pequeno').fit_transform(trainset_aumentado).head(2)\n",
        "\n",
        "v = Anexar_Bases_Externas2('grande',prop_components_tweets=0.00091)\n",
        "c = v.fit_transform(trainset_aumentado.drop(trainset_aumentado.loc[:,trainset_aumentado.columns.str.startswith('subtask')], axis=1))\n",
        "v_reduzido = Redutor_Dimensionalidade_PCA(0.1).fit_transform(c)\n",
        "v"
      ],
      "execution_count": 7,
      "outputs": [
        {
          "output_type": "execute_result",
          "data": {
            "text/plain": [
              "Anexar_Bases_Externas2(ngram_range_tweets=(1, 1), prop_components_empath=1.0,\n",
              "                       prop_components_entities=1.0,\n",
              "                       prop_components_tweets=0.00091, remover_embeddings=0,\n",
              "                       remover_empath=0, remover_entities=0,\n",
              "                       remover_features_criadas=0, remover_sent=0,\n",
              "                       tamanho='grande', use_idf_entities=1, use_idf_tweets=1)"
            ]
          },
          "metadata": {
            "tags": []
          },
          "execution_count": 7
        }
      ]
    },
    {
      "cell_type": "markdown",
      "metadata": {
        "id": "xaIsfXkBc6hP",
        "colab_type": "text"
      },
      "source": [
        "##### Tratamento das colunas"
      ]
    },
    {
      "cell_type": "code",
      "metadata": {
        "id": "coYlVbxV77cD",
        "colab_type": "code",
        "cellView": "form",
        "colab": {
          "base_uri": "https://localhost:8080/",
          "height": 355
        },
        "outputId": "1e53b8ad-fad4-424f-b4b0-975925880f61"
      },
      "source": [
        "#@markdown - Transformação de features textuais em vetores via Tfidf e redução de dimensionalidade via TruncatedSVD\n",
        "from sklearn.compose import ColumnTransformer\n",
        "from sklearn.pipeline import FeatureUnion, Pipeline\n",
        "from nltk.tokenize import TweetTokenizer\n",
        "from sklearn.decomposition import TruncatedSVD\n",
        "!pip install empath\n",
        "from empath import Empath \n",
        "from scipy.stats import randint\n",
        "\n",
        "#Pipeline de tratamento de colunas\n",
        "transformar_colunas = ColumnTransformer([('tweet',    Pipeline([('vetorizar',  TfidfVectorizer(vocabulary= VOCABULARIO_TWEETS, \n",
        "                                                                                               tokenizer = TweetTokenizer().tokenize)),\n",
        "                                                                ('reduzir',    TruncatedSVD())]), 'tweet'),\n",
        "                                         \n",
        "                                         ('empath',   TruncatedSVD(),          list(Empath().cats.keys())),\n",
        "\n",
        "                                         ('entities', Pipeline([('vetorizar',  TfidfVectorizer(vocabulary= VOCABULARIO_ENTIDADES)),\n",
        "                                                                ('reduzir',    TruncatedSVD())]), 'entities')],\n",
        "                                          remainder=  'passthrough') #colunas remanescentes\n",
        "\n",
        "#Parâmetros de tratamento testados:\n",
        "\n",
        "param_grid_transformar_colunas = {'transformar_colunas__tweet__vetorizar__ngram_range': [(1,1),(2,2),(1,2)],\n",
        "                                  'transformar_colunas__tweet__vetorizar__tokenizer'  : [TweetTokenizer().tokenize],\n",
        "                                  'transformar_colunas__tweet__vetorizar__use_idf'    : [True,False],\n",
        "                                  'transformar_colunas__tweet__reduzir__n_components' : randint(10,1000),\n",
        "                                  \n",
        "                                  'transformar_colunas__empath__n_components'         : randint(10,80),\n",
        "                                  \n",
        "                                  'transformar_colunas__entities__vetorizar__use_idf' : [True,False],\n",
        "                                  'transformar_colunas__entities__reduzir__n_components' : [2,5,10],\n",
        "                            }\n",
        "\n",
        "\n",
        "\n",
        "colunas_tratadas = pd.DataFrame(transformar_colunas.fit_transform(Anexar_Bases_Externas('pequeno').fit_transform(trainset_aumentado.drop(trainset_aumentado.loc[:,trainset_aumentado.columns.str.startswith('subtask')], axis=1))))\n",
        "colunas_tratadas.head()"
      ],
      "execution_count": 8,
      "outputs": [
        {
          "output_type": "stream",
          "text": [
            "Requirement already satisfied: empath in /usr/local/lib/python3.6/dist-packages (0.89)\n",
            "Requirement already satisfied: requests in /usr/local/lib/python3.6/dist-packages (from empath) (2.23.0)\n",
            "Requirement already satisfied: urllib3!=1.25.0,!=1.25.1,<1.26,>=1.21.1 in /usr/local/lib/python3.6/dist-packages (from requests->empath) (1.24.3)\n",
            "Requirement already satisfied: idna<3,>=2.5 in /usr/local/lib/python3.6/dist-packages (from requests->empath) (2.10)\n",
            "Requirement already satisfied: certifi>=2017.4.17 in /usr/local/lib/python3.6/dist-packages (from requests->empath) (2020.6.20)\n",
            "Requirement already satisfied: chardet<4,>=3.0.2 in /usr/local/lib/python3.6/dist-packages (from requests->empath) (3.0.4)\n"
          ],
          "name": "stdout"
        },
        {
          "output_type": "execute_result",
          "data": {
            "text/html": [
              "<div>\n",
              "<style scoped>\n",
              "    .dataframe tbody tr th:only-of-type {\n",
              "        vertical-align: middle;\n",
              "    }\n",
              "\n",
              "    .dataframe tbody tr th {\n",
              "        vertical-align: top;\n",
              "    }\n",
              "\n",
              "    .dataframe thead th {\n",
              "        text-align: right;\n",
              "    }\n",
              "</style>\n",
              "<table border=\"1\" class=\"dataframe\">\n",
              "  <thead>\n",
              "    <tr style=\"text-align: right;\">\n",
              "      <th></th>\n",
              "      <th>0</th>\n",
              "      <th>1</th>\n",
              "      <th>2</th>\n",
              "      <th>3</th>\n",
              "      <th>4</th>\n",
              "      <th>5</th>\n",
              "      <th>6</th>\n",
              "      <th>7</th>\n",
              "      <th>8</th>\n",
              "      <th>9</th>\n",
              "      <th>10</th>\n",
              "      <th>11</th>\n",
              "      <th>12</th>\n",
              "      <th>13</th>\n",
              "      <th>14</th>\n",
              "      <th>15</th>\n",
              "      <th>16</th>\n",
              "      <th>17</th>\n",
              "      <th>18</th>\n",
              "      <th>19</th>\n",
              "      <th>20</th>\n",
              "      <th>21</th>\n",
              "      <th>22</th>\n",
              "      <th>23</th>\n",
              "      <th>24</th>\n",
              "      <th>25</th>\n",
              "      <th>26</th>\n",
              "      <th>27</th>\n",
              "      <th>28</th>\n",
              "      <th>29</th>\n",
              "      <th>30</th>\n",
              "      <th>31</th>\n",
              "      <th>32</th>\n",
              "      <th>33</th>\n",
              "      <th>34</th>\n",
              "      <th>35</th>\n",
              "      <th>36</th>\n",
              "      <th>37</th>\n",
              "      <th>38</th>\n",
              "      <th>39</th>\n",
              "      <th>...</th>\n",
              "      <th>71</th>\n",
              "      <th>72</th>\n",
              "      <th>73</th>\n",
              "      <th>74</th>\n",
              "      <th>75</th>\n",
              "      <th>76</th>\n",
              "      <th>77</th>\n",
              "      <th>78</th>\n",
              "      <th>79</th>\n",
              "      <th>80</th>\n",
              "      <th>81</th>\n",
              "      <th>82</th>\n",
              "      <th>83</th>\n",
              "      <th>84</th>\n",
              "      <th>85</th>\n",
              "      <th>86</th>\n",
              "      <th>87</th>\n",
              "      <th>88</th>\n",
              "      <th>89</th>\n",
              "      <th>90</th>\n",
              "      <th>91</th>\n",
              "      <th>92</th>\n",
              "      <th>93</th>\n",
              "      <th>94</th>\n",
              "      <th>95</th>\n",
              "      <th>96</th>\n",
              "      <th>97</th>\n",
              "      <th>98</th>\n",
              "      <th>99</th>\n",
              "      <th>100</th>\n",
              "      <th>101</th>\n",
              "      <th>102</th>\n",
              "      <th>103</th>\n",
              "      <th>104</th>\n",
              "      <th>105</th>\n",
              "      <th>106</th>\n",
              "      <th>107</th>\n",
              "      <th>108</th>\n",
              "      <th>109</th>\n",
              "      <th>110</th>\n",
              "    </tr>\n",
              "  </thead>\n",
              "  <tbody>\n",
              "    <tr>\n",
              "      <th>0</th>\n",
              "      <td>0.021295</td>\n",
              "      <td>0.018440</td>\n",
              "      <td>0.328387</td>\n",
              "      <td>-0.229118</td>\n",
              "      <td>0.041569</td>\n",
              "      <td>0.085055</td>\n",
              "      <td>0.108333</td>\n",
              "      <td>0.0</td>\n",
              "      <td>0.250000</td>\n",
              "      <td>0.0</td>\n",
              "      <td>0.0</td>\n",
              "      <td>1.0</td>\n",
              "      <td>0.0</td>\n",
              "      <td>0.038587</td>\n",
              "      <td>0.644985</td>\n",
              "      <td>-1.041346</td>\n",
              "      <td>-1.257343</td>\n",
              "      <td>-0.500457</td>\n",
              "      <td>0.408931</td>\n",
              "      <td>1.528452</td>\n",
              "      <td>2.627227</td>\n",
              "      <td>-0.565433</td>\n",
              "      <td>-0.308709</td>\n",
              "      <td>0.589683</td>\n",
              "      <td>-0.658479</td>\n",
              "      <td>2.245854</td>\n",
              "      <td>-1.227979</td>\n",
              "      <td>2.843073</td>\n",
              "      <td>-1.752706</td>\n",
              "      <td>-0.953441</td>\n",
              "      <td>-0.419641</td>\n",
              "      <td>-0.526252</td>\n",
              "      <td>1.516921</td>\n",
              "      <td>1.228042</td>\n",
              "      <td>-1.480825</td>\n",
              "      <td>-0.835894</td>\n",
              "      <td>0.108070</td>\n",
              "      <td>-0.590261</td>\n",
              "      <td>-0.683896</td>\n",
              "      <td>0.489676</td>\n",
              "      <td>...</td>\n",
              "      <td>0.013714</td>\n",
              "      <td>1.915758</td>\n",
              "      <td>-0.026623</td>\n",
              "      <td>-0.108559</td>\n",
              "      <td>1.840862</td>\n",
              "      <td>0.753077</td>\n",
              "      <td>0.596307</td>\n",
              "      <td>0.633468</td>\n",
              "      <td>0.802329</td>\n",
              "      <td>-0.620325</td>\n",
              "      <td>-1.157371</td>\n",
              "      <td>-0.202152</td>\n",
              "      <td>-1.665904</td>\n",
              "      <td>-0.488559</td>\n",
              "      <td>-0.325713</td>\n",
              "      <td>0.220623</td>\n",
              "      <td>-0.497717</td>\n",
              "      <td>0.560385</td>\n",
              "      <td>-1.142930</td>\n",
              "      <td>0.045411</td>\n",
              "      <td>0.094072</td>\n",
              "      <td>-0.561355</td>\n",
              "      <td>0.401169</td>\n",
              "      <td>0.100222</td>\n",
              "      <td>0.201138</td>\n",
              "      <td>0.318948</td>\n",
              "      <td>-0.533064</td>\n",
              "      <td>-1.886784</td>\n",
              "      <td>1.250545</td>\n",
              "      <td>1.990115</td>\n",
              "      <td>-0.318942</td>\n",
              "      <td>-0.590662</td>\n",
              "      <td>0.109791</td>\n",
              "      <td>-0.605047</td>\n",
              "      <td>-0.204225</td>\n",
              "      <td>-1.452996</td>\n",
              "      <td>0.377721</td>\n",
              "      <td>1.469993</td>\n",
              "      <td>-0.164934</td>\n",
              "      <td>0.290542</td>\n",
              "    </tr>\n",
              "    <tr>\n",
              "      <th>1</th>\n",
              "      <td>0.053309</td>\n",
              "      <td>0.132492</td>\n",
              "      <td>0.573812</td>\n",
              "      <td>-0.643804</td>\n",
              "      <td>0.454750</td>\n",
              "      <td>0.032912</td>\n",
              "      <td>0.212500</td>\n",
              "      <td>0.0</td>\n",
              "      <td>0.272727</td>\n",
              "      <td>0.0</td>\n",
              "      <td>0.0</td>\n",
              "      <td>1.0</td>\n",
              "      <td>0.0</td>\n",
              "      <td>0.122446</td>\n",
              "      <td>0.528339</td>\n",
              "      <td>0.696464</td>\n",
              "      <td>-0.722578</td>\n",
              "      <td>-0.737777</td>\n",
              "      <td>0.867711</td>\n",
              "      <td>1.398233</td>\n",
              "      <td>1.998041</td>\n",
              "      <td>0.266691</td>\n",
              "      <td>0.601211</td>\n",
              "      <td>1.760921</td>\n",
              "      <td>-0.005778</td>\n",
              "      <td>2.159467</td>\n",
              "      <td>-0.673866</td>\n",
              "      <td>-0.066159</td>\n",
              "      <td>-1.201520</td>\n",
              "      <td>-1.598888</td>\n",
              "      <td>-0.620495</td>\n",
              "      <td>-0.061755</td>\n",
              "      <td>1.140358</td>\n",
              "      <td>-1.041767</td>\n",
              "      <td>-0.863361</td>\n",
              "      <td>0.388487</td>\n",
              "      <td>-1.102230</td>\n",
              "      <td>-0.402286</td>\n",
              "      <td>-0.253979</td>\n",
              "      <td>-0.266001</td>\n",
              "      <td>...</td>\n",
              "      <td>0.440465</td>\n",
              "      <td>0.807061</td>\n",
              "      <td>0.833678</td>\n",
              "      <td>-0.318138</td>\n",
              "      <td>0.602203</td>\n",
              "      <td>0.814097</td>\n",
              "      <td>1.572616</td>\n",
              "      <td>-1.401342</td>\n",
              "      <td>1.077444</td>\n",
              "      <td>-0.400720</td>\n",
              "      <td>-0.274382</td>\n",
              "      <td>-0.583266</td>\n",
              "      <td>-0.767601</td>\n",
              "      <td>0.193581</td>\n",
              "      <td>0.492965</td>\n",
              "      <td>-0.717458</td>\n",
              "      <td>0.309168</td>\n",
              "      <td>0.958659</td>\n",
              "      <td>-0.427471</td>\n",
              "      <td>-0.633324</td>\n",
              "      <td>-0.079002</td>\n",
              "      <td>1.305284</td>\n",
              "      <td>0.274873</td>\n",
              "      <td>0.311162</td>\n",
              "      <td>1.892246</td>\n",
              "      <td>-1.055072</td>\n",
              "      <td>-0.233875</td>\n",
              "      <td>-0.246164</td>\n",
              "      <td>1.612857</td>\n",
              "      <td>1.078842</td>\n",
              "      <td>-0.976746</td>\n",
              "      <td>-1.042896</td>\n",
              "      <td>-0.119293</td>\n",
              "      <td>0.282059</td>\n",
              "      <td>0.715001</td>\n",
              "      <td>-0.866100</td>\n",
              "      <td>-0.560081</td>\n",
              "      <td>0.567642</td>\n",
              "      <td>0.426799</td>\n",
              "      <td>-0.281517</td>\n",
              "    </tr>\n",
              "    <tr>\n",
              "      <th>2</th>\n",
              "      <td>0.027495</td>\n",
              "      <td>0.060489</td>\n",
              "      <td>2.530323</td>\n",
              "      <td>0.418593</td>\n",
              "      <td>0.374324</td>\n",
              "      <td>0.082631</td>\n",
              "      <td>0.554167</td>\n",
              "      <td>0.0</td>\n",
              "      <td>0.000000</td>\n",
              "      <td>0.0</td>\n",
              "      <td>0.0</td>\n",
              "      <td>1.0</td>\n",
              "      <td>0.0</td>\n",
              "      <td>0.222222</td>\n",
              "      <td>0.721776</td>\n",
              "      <td>-0.615152</td>\n",
              "      <td>-0.853825</td>\n",
              "      <td>-2.274851</td>\n",
              "      <td>1.051427</td>\n",
              "      <td>-0.128762</td>\n",
              "      <td>2.064911</td>\n",
              "      <td>-0.950929</td>\n",
              "      <td>0.541458</td>\n",
              "      <td>1.183291</td>\n",
              "      <td>1.666126</td>\n",
              "      <td>1.882830</td>\n",
              "      <td>-1.186785</td>\n",
              "      <td>1.616406</td>\n",
              "      <td>-1.432544</td>\n",
              "      <td>-0.670968</td>\n",
              "      <td>0.114158</td>\n",
              "      <td>0.121697</td>\n",
              "      <td>1.425728</td>\n",
              "      <td>-0.778844</td>\n",
              "      <td>-1.237028</td>\n",
              "      <td>1.138319</td>\n",
              "      <td>-0.346268</td>\n",
              "      <td>-0.375115</td>\n",
              "      <td>-0.457941</td>\n",
              "      <td>-1.011506</td>\n",
              "      <td>...</td>\n",
              "      <td>1.411310</td>\n",
              "      <td>2.554292</td>\n",
              "      <td>-0.487833</td>\n",
              "      <td>-0.185452</td>\n",
              "      <td>1.637249</td>\n",
              "      <td>-0.446635</td>\n",
              "      <td>0.137360</td>\n",
              "      <td>0.493168</td>\n",
              "      <td>1.539407</td>\n",
              "      <td>-0.156815</td>\n",
              "      <td>1.137135</td>\n",
              "      <td>-2.009736</td>\n",
              "      <td>-0.017837</td>\n",
              "      <td>-0.019673</td>\n",
              "      <td>-0.658917</td>\n",
              "      <td>0.629225</td>\n",
              "      <td>0.237023</td>\n",
              "      <td>-0.335258</td>\n",
              "      <td>-1.475249</td>\n",
              "      <td>-1.144829</td>\n",
              "      <td>1.217227</td>\n",
              "      <td>-0.737502</td>\n",
              "      <td>-0.270369</td>\n",
              "      <td>1.223916</td>\n",
              "      <td>1.014272</td>\n",
              "      <td>-1.666876</td>\n",
              "      <td>-0.755022</td>\n",
              "      <td>-0.627115</td>\n",
              "      <td>1.445332</td>\n",
              "      <td>2.273419</td>\n",
              "      <td>0.189335</td>\n",
              "      <td>-1.557255</td>\n",
              "      <td>-0.763483</td>\n",
              "      <td>1.165960</td>\n",
              "      <td>0.795845</td>\n",
              "      <td>0.092238</td>\n",
              "      <td>0.022737</td>\n",
              "      <td>2.618931</td>\n",
              "      <td>1.011205</td>\n",
              "      <td>0.231510</td>\n",
              "    </tr>\n",
              "    <tr>\n",
              "      <th>3</th>\n",
              "      <td>0.015025</td>\n",
              "      <td>0.029800</td>\n",
              "      <td>0.065006</td>\n",
              "      <td>-0.103161</td>\n",
              "      <td>0.994964</td>\n",
              "      <td>-0.077238</td>\n",
              "      <td>0.170833</td>\n",
              "      <td>0.0</td>\n",
              "      <td>0.166667</td>\n",
              "      <td>0.0</td>\n",
              "      <td>0.0</td>\n",
              "      <td>1.0</td>\n",
              "      <td>0.0</td>\n",
              "      <td>0.043773</td>\n",
              "      <td>0.471979</td>\n",
              "      <td>0.394033</td>\n",
              "      <td>-0.402712</td>\n",
              "      <td>-1.691887</td>\n",
              "      <td>1.592296</td>\n",
              "      <td>-0.195483</td>\n",
              "      <td>1.436344</td>\n",
              "      <td>0.832459</td>\n",
              "      <td>1.509919</td>\n",
              "      <td>1.344776</td>\n",
              "      <td>1.392124</td>\n",
              "      <td>1.797900</td>\n",
              "      <td>-1.534125</td>\n",
              "      <td>0.583209</td>\n",
              "      <td>-1.500708</td>\n",
              "      <td>-0.337456</td>\n",
              "      <td>0.463184</td>\n",
              "      <td>-1.148427</td>\n",
              "      <td>-1.226802</td>\n",
              "      <td>0.262132</td>\n",
              "      <td>-0.654197</td>\n",
              "      <td>0.390067</td>\n",
              "      <td>0.794006</td>\n",
              "      <td>0.177037</td>\n",
              "      <td>0.268509</td>\n",
              "      <td>-0.695805</td>\n",
              "      <td>...</td>\n",
              "      <td>2.800806</td>\n",
              "      <td>0.175926</td>\n",
              "      <td>0.337968</td>\n",
              "      <td>0.085569</td>\n",
              "      <td>1.015790</td>\n",
              "      <td>1.052368</td>\n",
              "      <td>1.060033</td>\n",
              "      <td>-1.065626</td>\n",
              "      <td>0.441401</td>\n",
              "      <td>-1.990651</td>\n",
              "      <td>0.839566</td>\n",
              "      <td>-1.337828</td>\n",
              "      <td>-1.679889</td>\n",
              "      <td>0.043738</td>\n",
              "      <td>0.581153</td>\n",
              "      <td>-1.192460</td>\n",
              "      <td>1.246262</td>\n",
              "      <td>0.677392</td>\n",
              "      <td>-0.879031</td>\n",
              "      <td>0.709988</td>\n",
              "      <td>1.009378</td>\n",
              "      <td>1.531737</td>\n",
              "      <td>0.316778</td>\n",
              "      <td>0.677426</td>\n",
              "      <td>1.719754</td>\n",
              "      <td>-0.935622</td>\n",
              "      <td>-0.643598</td>\n",
              "      <td>0.052292</td>\n",
              "      <td>1.293263</td>\n",
              "      <td>0.438658</td>\n",
              "      <td>-1.427367</td>\n",
              "      <td>0.769587</td>\n",
              "      <td>-0.240995</td>\n",
              "      <td>0.393086</td>\n",
              "      <td>1.183709</td>\n",
              "      <td>-1.916518</td>\n",
              "      <td>-0.792273</td>\n",
              "      <td>0.660601</td>\n",
              "      <td>1.087136</td>\n",
              "      <td>-0.100614</td>\n",
              "    </tr>\n",
              "    <tr>\n",
              "      <th>4</th>\n",
              "      <td>0.096624</td>\n",
              "      <td>0.163397</td>\n",
              "      <td>0.840981</td>\n",
              "      <td>0.861636</td>\n",
              "      <td>0.994964</td>\n",
              "      <td>-0.077238</td>\n",
              "      <td>0.208333</td>\n",
              "      <td>0.0</td>\n",
              "      <td>0.250000</td>\n",
              "      <td>0.0</td>\n",
              "      <td>0.0</td>\n",
              "      <td>1.0</td>\n",
              "      <td>0.0</td>\n",
              "      <td>0.127577</td>\n",
              "      <td>0.534496</td>\n",
              "      <td>0.514337</td>\n",
              "      <td>-1.533549</td>\n",
              "      <td>-0.858121</td>\n",
              "      <td>0.899231</td>\n",
              "      <td>2.499733</td>\n",
              "      <td>0.871216</td>\n",
              "      <td>0.465504</td>\n",
              "      <td>0.934160</td>\n",
              "      <td>1.231368</td>\n",
              "      <td>-0.047256</td>\n",
              "      <td>2.483899</td>\n",
              "      <td>-0.284461</td>\n",
              "      <td>0.938099</td>\n",
              "      <td>-1.669887</td>\n",
              "      <td>-1.187995</td>\n",
              "      <td>0.173517</td>\n",
              "      <td>-0.623283</td>\n",
              "      <td>1.060048</td>\n",
              "      <td>-0.575847</td>\n",
              "      <td>-1.205700</td>\n",
              "      <td>0.868243</td>\n",
              "      <td>-0.366159</td>\n",
              "      <td>-0.615841</td>\n",
              "      <td>-0.485167</td>\n",
              "      <td>-0.417877</td>\n",
              "      <td>...</td>\n",
              "      <td>1.805321</td>\n",
              "      <td>0.937808</td>\n",
              "      <td>0.131991</td>\n",
              "      <td>-0.024218</td>\n",
              "      <td>2.396851</td>\n",
              "      <td>-0.712626</td>\n",
              "      <td>1.297234</td>\n",
              "      <td>-0.846530</td>\n",
              "      <td>1.546052</td>\n",
              "      <td>-0.524500</td>\n",
              "      <td>0.892556</td>\n",
              "      <td>-0.756907</td>\n",
              "      <td>-1.034634</td>\n",
              "      <td>0.109972</td>\n",
              "      <td>-0.161082</td>\n",
              "      <td>0.914799</td>\n",
              "      <td>0.547630</td>\n",
              "      <td>0.925543</td>\n",
              "      <td>-0.555662</td>\n",
              "      <td>-0.712496</td>\n",
              "      <td>-0.057928</td>\n",
              "      <td>0.841996</td>\n",
              "      <td>0.958830</td>\n",
              "      <td>1.723245</td>\n",
              "      <td>0.651187</td>\n",
              "      <td>-0.253526</td>\n",
              "      <td>-0.884392</td>\n",
              "      <td>-0.533880</td>\n",
              "      <td>0.855391</td>\n",
              "      <td>0.542294</td>\n",
              "      <td>-1.114131</td>\n",
              "      <td>-1.601093</td>\n",
              "      <td>0.265150</td>\n",
              "      <td>-0.044628</td>\n",
              "      <td>0.340354</td>\n",
              "      <td>-0.449549</td>\n",
              "      <td>0.144594</td>\n",
              "      <td>0.876419</td>\n",
              "      <td>-1.168657</td>\n",
              "      <td>0.201855</td>\n",
              "    </tr>\n",
              "  </tbody>\n",
              "</table>\n",
              "<p>5 rows × 111 columns</p>\n",
              "</div>"
            ],
            "text/plain": [
              "        0         1         2    ...       108       109       110\n",
              "0  0.021295  0.018440  0.328387  ...  1.469993 -0.164934  0.290542\n",
              "1  0.053309  0.132492  0.573812  ...  0.567642  0.426799 -0.281517\n",
              "2  0.027495  0.060489  2.530323  ...  2.618931  1.011205  0.231510\n",
              "3  0.015025  0.029800  0.065006  ...  0.660601  1.087136 -0.100614\n",
              "4  0.096624  0.163397  0.840981  ...  0.876419 -1.168657  0.201855\n",
              "\n",
              "[5 rows x 111 columns]"
            ]
          },
          "metadata": {
            "tags": []
          },
          "execution_count": 8
        }
      ]
    },
    {
      "cell_type": "markdown",
      "metadata": {
        "id": "6Rf5UYnreKc2",
        "colab_type": "text"
      },
      "source": [
        "##### Redução de dimensionalidade"
      ]
    },
    {
      "cell_type": "code",
      "metadata": {
        "id": "Jb9GZjpPeWVl",
        "colab_type": "code",
        "cellView": "both",
        "colab": {
          "base_uri": "https://localhost:8080/",
          "height": 204
        },
        "outputId": "78309795-ec02-4770-bb14-3f2a50e6e811"
      },
      "source": [
        "#@markdown - Os parâmetros serão ajustados para otimização do f1 score\n",
        "from sklearn.decomposition import PCA\n",
        "from scipy.stats import randint\n",
        "\n",
        "\n",
        "#Parâmetros de redução de dimensionalidade testados:\n",
        "param_grid_reducao_dimensionalidade = {'reducao_dimensionalidade__n_components' : randint(10,350),\n",
        "                                       'reducao_dimensionalidade__whiten'      : [True,False],\n",
        "                                       'reducao_dimensionalidade__svd_solver'   : ['auto']#, 'full', 'arpack', 'randomized']\n",
        "                                       }\n",
        "\n",
        "\n",
        "\n",
        "pd.DataFrame(PCA(n_components= 10, svd_solver='full').fit_transform(colunas_tratadas)).head()"
      ],
      "execution_count": 9,
      "outputs": [
        {
          "output_type": "execute_result",
          "data": {
            "text/html": [
              "<div>\n",
              "<style scoped>\n",
              "    .dataframe tbody tr th:only-of-type {\n",
              "        vertical-align: middle;\n",
              "    }\n",
              "\n",
              "    .dataframe tbody tr th {\n",
              "        vertical-align: top;\n",
              "    }\n",
              "\n",
              "    .dataframe thead th {\n",
              "        text-align: right;\n",
              "    }\n",
              "</style>\n",
              "<table border=\"1\" class=\"dataframe\">\n",
              "  <thead>\n",
              "    <tr style=\"text-align: right;\">\n",
              "      <th></th>\n",
              "      <th>0</th>\n",
              "      <th>1</th>\n",
              "      <th>2</th>\n",
              "      <th>3</th>\n",
              "      <th>4</th>\n",
              "      <th>5</th>\n",
              "      <th>6</th>\n",
              "      <th>7</th>\n",
              "      <th>8</th>\n",
              "      <th>9</th>\n",
              "    </tr>\n",
              "  </thead>\n",
              "  <tbody>\n",
              "    <tr>\n",
              "      <th>0</th>\n",
              "      <td>-0.779779</td>\n",
              "      <td>2.521703</td>\n",
              "      <td>1.864410</td>\n",
              "      <td>-1.715927</td>\n",
              "      <td>-0.177772</td>\n",
              "      <td>-0.955763</td>\n",
              "      <td>-0.585355</td>\n",
              "      <td>3.548369</td>\n",
              "      <td>-1.151719</td>\n",
              "      <td>0.071388</td>\n",
              "    </tr>\n",
              "    <tr>\n",
              "      <th>1</th>\n",
              "      <td>0.917858</td>\n",
              "      <td>1.901204</td>\n",
              "      <td>-0.540953</td>\n",
              "      <td>0.945251</td>\n",
              "      <td>-1.959809</td>\n",
              "      <td>1.083120</td>\n",
              "      <td>0.748264</td>\n",
              "      <td>0.508118</td>\n",
              "      <td>-0.004201</td>\n",
              "      <td>-1.050178</td>\n",
              "    </tr>\n",
              "    <tr>\n",
              "      <th>2</th>\n",
              "      <td>-5.577091</td>\n",
              "      <td>0.004343</td>\n",
              "      <td>-0.307716</td>\n",
              "      <td>-0.432736</td>\n",
              "      <td>-0.283215</td>\n",
              "      <td>-0.802521</td>\n",
              "      <td>-1.740788</td>\n",
              "      <td>0.263693</td>\n",
              "      <td>0.792927</td>\n",
              "      <td>0.793056</td>\n",
              "    </tr>\n",
              "    <tr>\n",
              "      <th>3</th>\n",
              "      <td>1.074051</td>\n",
              "      <td>-1.626713</td>\n",
              "      <td>-0.344222</td>\n",
              "      <td>-0.585309</td>\n",
              "      <td>1.567293</td>\n",
              "      <td>2.366717</td>\n",
              "      <td>1.074269</td>\n",
              "      <td>0.363861</td>\n",
              "      <td>0.648136</td>\n",
              "      <td>-0.648537</td>\n",
              "    </tr>\n",
              "    <tr>\n",
              "      <th>4</th>\n",
              "      <td>1.133130</td>\n",
              "      <td>0.343296</td>\n",
              "      <td>0.480384</td>\n",
              "      <td>0.442236</td>\n",
              "      <td>-0.040029</td>\n",
              "      <td>0.402980</td>\n",
              "      <td>-1.157933</td>\n",
              "      <td>1.295310</td>\n",
              "      <td>-0.071181</td>\n",
              "      <td>-1.536690</td>\n",
              "    </tr>\n",
              "  </tbody>\n",
              "</table>\n",
              "</div>"
            ],
            "text/plain": [
              "          0         1         2  ...         7         8         9\n",
              "0 -0.779779  2.521703  1.864410  ...  3.548369 -1.151719  0.071388\n",
              "1  0.917858  1.901204 -0.540953  ...  0.508118 -0.004201 -1.050178\n",
              "2 -5.577091  0.004343 -0.307716  ...  0.263693  0.792927  0.793056\n",
              "3  1.074051 -1.626713 -0.344222  ...  0.363861  0.648136 -0.648537\n",
              "4  1.133130  0.343296  0.480384  ...  1.295310 -0.071181 -1.536690\n",
              "\n",
              "[5 rows x 10 columns]"
            ]
          },
          "metadata": {
            "tags": []
          },
          "execution_count": 9
        }
      ]
    },
    {
      "cell_type": "markdown",
      "metadata": {
        "id": "Q0Zpe3IlenKT",
        "colab_type": "text"
      },
      "source": [
        "##### Algoritmos de classificação\n"
      ]
    },
    {
      "cell_type": "code",
      "metadata": {
        "id": "V0Bu2Qahe8jH",
        "colab_type": "code",
        "cellView": "form",
        "colab": {}
      },
      "source": [
        "#@markdown - Logistic regression\n",
        "#@markdown - K Neighbors\n",
        "#@markdown - SVM\n",
        "#@markdown - SGD classifier\n",
        "#@markdown - Random Forest\n",
        "#@markdown - Adaptative boosting\n",
        "#@markdown - Extra trees\n",
        "#@markdown - Gradient boosting\n",
        "#@markdown - Extreme gradient boosting\n",
        "\n",
        "import xgboost as xgb\n",
        "from sklearn.linear_model import LogisticRegression, SGDClassifier\n",
        "from sklearn.svm import SVC\n",
        "from sklearn.ensemble import RandomForestClassifier, AdaBoostClassifier, ExtraTreesClassifier, GradientBoostingClassifier\n",
        "from sklearn.neighbors import KNeighborsClassifier\n",
        "from sklearn.tree import DecisionTreeClassifier\n",
        "import numpy as np\n",
        "from nltk.tokenize import TweetTokenizer\n",
        "from scipy.stats import randint, uniform\n",
        "\n",
        "#Dicionário de algoritmos\n",
        "dict_algoritmos = {'logistic_regression_1': LogisticRegression(),\n",
        "                   'logistic_regression_2': LogisticRegression(),\n",
        "                   'knn'                  : KNeighborsClassifier(), \n",
        "                   'svc'                  : SVC(),\n",
        "                   'sgdc'                 : SGDClassifier(),\n",
        "                   'random_forest'        : RandomForestClassifier(),\n",
        "                   'ada_boost'            : AdaBoostClassifier(),\n",
        "                   'extra_trees'          : ExtraTreesClassifier(),\n",
        "                   'grad_boost'           : GradientBoostingClassifier(), \n",
        "                   'xgboost'              : xgb.XGBClassifier()}\n",
        "\n",
        "#Hiperparâmetros testados\n",
        "dict_param_grid_algoritmos = {'logistic_regression_1': {'classificador__penalty'        : ['l1'], \n",
        "                                                       'classificador__C'               : [100, 10, 1.0, 0.1, 0.01], \n",
        "                                                       'classificador__fit_intercept'   : [False, True], \n",
        "                                                       'classificador__solver'          : ['liblinear', 'saga'],\n",
        "                                                       'classificador__n_jobs'          : [-1]},\n",
        "                             'logistic_regression_2': {'classificador__penalty'         : ['l2'], \n",
        "                                                       'classificador__C'               : [100, 10, 1.0, 0.1, 0.01], \n",
        "                                                       'classificador__fit_intercept'   : [False, True], \n",
        "                                                       'classificador__solver'          : ['newton-cg', 'lbfgs', 'sag', 'saga'],\n",
        "                                                       'classificador__n_jobs'          : [-1]},\n",
        "                             'knn'                  : {}, \n",
        "                             'svc'                  : {'classificador__C'               : randint(1.0, 100.0),\n",
        "                                                       'classificador__gamma'           : ['scale', 'auto'], \n",
        "                                                       'classificador__kernel'          : ['linear', 'poly', 'rbf']},\n",
        "                             'sgdc'                 : {},\n",
        "                             'random_forest'        : {'classificador__n_estimators'    : randint(100,1000), \n",
        "                                                       'classificador__max_depth'       : [None, 2, 3, 4, 5, 7, 10,100,200],\n",
        "                                                       'classificador__min_samples_leaf': randint(1,4),\n",
        "                                                       'classificador__bootstrap'       : [True,False],\n",
        "                                                       'classificador__criterion'       : ['gini', 'entropy']},\n",
        "                             'ada_boost'            : {\n",
        "                                                      #  'classificador__criterion'       : [DecisionTreeClassifier(max_depth=1),\n",
        "                                                      #                                     DecisionTreeClassifier(max_depth=2),\n",
        "                                                      #                                     DecisionTreeClassifier(max_depth=3),\n",
        "                                                      #                                     DecisionTreeClassifier(max_depth=4)],\n",
        "                                                      'classificador__n_estimators'      : randint(10,1000),\n",
        "                                                      'classificador__learning_rate'     : uniform(0.1,10.0),\n",
        "                                                      'classificador__algorithm'         : ['SAMME.R']},\n",
        "                             'extra_trees'          : {'classificador__n_estimators'    : randint(100,1000), \n",
        "                                                       'classificador__max_depth'       : [None, 2, 3, 4, 5, 7, 10,100,200],\n",
        "                                                       'classificador__min_samples_leaf': randint(1,4),\n",
        "                                                       'classificador__bootstrap'       : [True,False],\n",
        "                                                       'classificador__criterion'       : ['gini', 'entropy'],\n",
        "                                                       'classificador__max_features'    : ['auto', 'sqrt', 'log2']},\n",
        "                             'grad_boost'           : {}, \n",
        "                             'xgboost'              : {'classificador__learning_rate'   : uniform(0.05, 0.3),\n",
        "                                                       'classificador__max_depth'       : randint(3,20) ,\n",
        "                                                       'classificador__min_child_weight': randint(1,7),\n",
        "                                                       'classificador__gamma'           : uniform(0.0, 1.0),\n",
        "                                                       'classificador__colsample_bytree': uniform(0.1, 1.0)}}\n",
        "\n",
        "\n",
        "param_grid_linear_svm = {'penalty' : ['l1','l2'] , 'loss' : ['hinge', 'squared_hinge'], 'C' : [0.01, 1, 10, 100], 'random_state' : [0, 42]}\n",
        "\n",
        "param_grid_nb_multi = {'alpha' : [0.1, 1.0, 2] , 'fit_prior' : [False, True]}\n",
        "\n",
        "param_grid_nb_gauss = {'var_smoothing' : [0.1, 1.0, 2]}"
      ],
      "execution_count": 10,
      "outputs": []
    },
    {
      "cell_type": "markdown",
      "metadata": {
        "colab_type": "text",
        "id": "f6Phh3mzbe-E"
      },
      "source": [
        "#### Tentativa excluindo features"
      ]
    },
    {
      "cell_type": "markdown",
      "metadata": {
        "colab_type": "text",
        "id": "e3RFjEMNbe-E"
      },
      "source": [
        "##### Modelo testado: Random Forest"
      ]
    },
    {
      "cell_type": "markdown",
      "metadata": {
        "colab_type": "text",
        "id": "6ujuphtJbe-F"
      },
      "source": [
        "###### Segregação de dados de treino e de teste"
      ]
    },
    {
      "cell_type": "code",
      "metadata": {
        "colab_type": "code",
        "cellView": "form",
        "id": "c-URZEfybe-F",
        "colab": {
          "base_uri": "https://localhost:8080/",
          "height": 0
        },
        "outputId": "fb5ba2ff-cdf3-4422-acea-583ca11a1c8d"
      },
      "source": [
        "#@markdown train_test_split\n",
        "test_size = 0.2 #@param {type:\"slider\", min:0, max:1, step:0.01}\n",
        "target = \"subtask_a\" #@param [\"subtask_a\", \"subtask_b\", \"subtask_c\"]\n",
        "estratificar_alvo = True #@param {type:\"boolean\"}\n",
        "remover_nan = True\n",
        "from sklearn.preprocessing import LabelBinarizer\n",
        "import numpy as np\n",
        "\n",
        "from sklearn.model_selection import train_test_split\n",
        "\n",
        "X = trainset_aumentado.drop(trainset_aumentado.loc[:,trainset_aumentado.columns.str.startswith('subtask')], axis=1)\n",
        "if remover_nan:\n",
        "  y = trainset_aumentado[[target]].dropna()\n",
        "  \n",
        "  X = X[trainset_aumentado[target] == trainset_aumentado[target]]\n",
        "else:\n",
        "  y = trainset_aumentado[[target]].fillna(\"NOT\")\n",
        "binarizador_label = LabelBinarizer()\n",
        "y = binarizador_label.fit_transform(y)\n",
        "stratify = None \n",
        "if estratificar_alvo == True:\n",
        "  stratify = y\n",
        "\n",
        "X_train, X_test, y_train, y_test = train_test_split(X, y, test_size=test_size, stratify= stratify)\n",
        "\n",
        "print(\"Quantidade de observações de teste: \", pd.Series(binarizador_label.inverse_transform(y_test)).count())\n",
        "print(\"Percentual por categoria\")\n",
        "print(pd.Series(binarizador_label.inverse_transform(y_test)).value_counts()*100/pd.Series(binarizador_label.inverse_transform(y_test)).count())\n",
        "print('-------------')\n",
        "print(\"Quantidade de observações de treino: \", pd.Series(binarizador_label.inverse_transform(y_train)).count())\n",
        "print(\"Percentual por categoria\")\n",
        "print(pd.Series(binarizador_label.inverse_transform(y_train)).value_counts()*100/pd.Series(binarizador_label.inverse_transform(y_train)).count())\n",
        "y = pd.Series(np.ravel(y))\n",
        "y_train = pd.Series(np.ravel(y_train))\n",
        "y_test = pd.Series(np.ravel(y_test))"
      ],
      "execution_count": 466,
      "outputs": [
        {
          "output_type": "stream",
          "text": [
            "Quantidade de observações de teste:  2642\n",
            "Percentual por categoria\n",
            "NOT    66.72975\n",
            "OFF    33.27025\n",
            "dtype: float64\n",
            "-------------\n",
            "Quantidade de observações de treino:  10565\n",
            "Percentual por categoria\n",
            "NOT    66.748699\n",
            "OFF    33.251301\n",
            "dtype: float64\n"
          ],
          "name": "stdout"
        }
      ]
    },
    {
      "cell_type": "markdown",
      "metadata": {
        "colab_type": "text",
        "id": "L7NpBUYFbe-L"
      },
      "source": [
        "###### Otimização de hiperparâmetros\n"
      ]
    },
    {
      "cell_type": "code",
      "metadata": {
        "colab_type": "code",
        "cellView": "form",
        "id": "gQLG939Hbe-M",
        "colab": {
          "base_uri": "https://localhost:8080/",
          "height": 0
        },
        "outputId": "ad61ba7a-9369-4071-9e6d-e3d4cd42169c"
      },
      "source": [
        "#@markdown RandomSearchCV\n",
        "algoritmo = \"xgboost\" #@param ['logistic_regression_1', 'logistic_regression_2', 'knn', 'svc', 'sgdc', 'random_forest', 'ada_boost', 'extra_trees', 'grad_boost', 'xgboost']\n",
        "num_folds = 5 #@param {type:\"integer\"}\n",
        "\n",
        "class Equilibrar_Classes(BaseEstimator, TransformerMixin):\n",
        "    def __init__(self, proporcao):\n",
        "      self.proporcao = proporcao\n",
        "       \n",
        "      return None  \n",
        "        \n",
        "    def fit(self, X, y):\n",
        "        return self\n",
        "    def transform(self, X, y):\n",
        "      self.fit(X,y)\n",
        "      df = X.copy()\n",
        "      Y = pd.Series(y)\n",
        "      Y.index = df.index\n",
        "      \n",
        "      df['target'] = Y\n",
        "      value_counts = df['target'].value_counts()\n",
        "      print(value_counts)\n",
        "      num_sample = value_counts[1] + int(self.proporcao*(value_counts[0]-value_counts[1]))\n",
        "      print('num amostras: ',num_sample)\n",
        "      classe_maior =  df['target'].value_counts().argmax()\n",
        "      classe_menor =  df['target'].value_counts().argmin()\n",
        "      amostra = df[df['target'] == classe_maior].sample(num_sample, replace=False)\n",
        "\n",
        "      \n",
        "      saida = pd.concat([amostra, df[df['target'] == classe_menor]])\n",
        "      \n",
        "      print(saida.target.value_counts())\n",
        "      \n",
        "      return saida.loc[:, saida.columns != 'target'], saida['target']\n",
        "\n",
        "\n",
        "\n",
        "# busca_randomizada = True #@param {type:\"boolean\"}\n",
        "num_inter =  80#@param {type:\"integer\"}\n",
        "undersample = True #@param {type:\"boolean\"}\n",
        "realizar_download = True #@param {type:\"boolean\"}\n",
        "proporcao_extra_undersampling = 0.74 #@param {type:\"slider\", min:0, max:1, step:0.01}\n",
        "from sklearn.preprocessing import LabelBinarizer\n",
        "from sklearn.model_selection import RandomizedSearchCV \n",
        "from sklearn.metrics import f1_score\n",
        "from sklearn.decomposition import PCA\n",
        "from sklearn.model_selection import StratifiedKFold\n",
        "import pickle\n",
        "from scipy.stats import randint, uniform\n",
        "\n",
        "param_grid_anexar_bases_externas2={'anexar_bases_externas__tamanho' : ['pequeno','medio','grande'],\n",
        "                                   'anexar_bases_externas__remover_sent' : [True,False],\n",
        "                                   'anexar_bases_externas__remover_embeddings':  [True,False],\n",
        "                                   'anexar_bases_externas__remover_empath' :  [True,False],\n",
        "                                   'anexar_bases_externas__remover_entities' :  [True,False],                  \n",
        "                                   'anexar_bases_externas__ngram_range_tweets' : [(1,1),(2,2)],\n",
        "                                   'anexar_bases_externas__use_idf_tweets' : [True,False],\n",
        "                                   'anexar_bases_externas__prop_components_tweets' : uniform(0.001,0.0035),\n",
        "                                   'anexar_bases_externas__use_idf_entities' : [True,False],\n",
        "                                   'anexar_bases_externas__prop_components_entities' : uniform(0.0,0.6),\n",
        "                                   'anexar_bases_externas__prop_components_empath' : uniform(0.0,0.6)}\n",
        "\n",
        "param_grid_reducao_dimensionalidade2 = {'reducao_dimensionalidade__proporcao_colunas':uniform(0.0,0.5)}\n",
        "\n",
        "param_grid = {**param_grid_anexar_bases_externas2,              \n",
        "              **param_grid_reducao_dimensionalidade2, \n",
        "              **dict_param_grid_algoritmos[algoritmo]}\n",
        "\n",
        "\n",
        "canal_dados = Pipeline([#('undersampler', eq),\n",
        "                        (\"anexar_bases_externas\", Anexar_Bases_Externas2()),\n",
        "                        ('reducao_dimensionalidade', Redutor_Dimensionalidade_PCA()), \n",
        "                        ('classificador', dict_algoritmos[algoritmo])\n",
        "    ])\n",
        "cv = StratifiedKFold(n_splits= num_folds, shuffle= True)\n",
        "args_random_search = {'estimator'          : canal_dados, \n",
        "                      'cv'                 : cv, \n",
        "                      'scoring'            :'f1_macro', \n",
        "                      'n_jobs'             : -1,\n",
        "                      'verbose'            : 10,\n",
        "                      'n_iter'             : num_inter,\n",
        "                      'param_distributions': param_grid}\n",
        "\n",
        "random_search = RandomizedSearchCV(**args_random_search) \n",
        "X_res, y_res = X, y\n",
        "if undersample:\n",
        "  eq = Equilibrar_Classes(proporcao_extra_undersampling)\n",
        "  eq.fit(X,y)\n",
        "  \n",
        "  X_res, y_res = eq.transform(X, y)\n",
        "\n",
        "print(y_res.value_counts())  \n",
        "random_search.fit( X_res, y_res)\n",
        "\n",
        "\n",
        "# X.drop('target', axis=1, inplace=True)\n",
        "#salvar modelo\n",
        "import os, joblib\n",
        "\n",
        "# f1score = random_search.best_score_*100\n",
        "# print(f1score)\n",
        "nome_modelo = algoritmo +'_' + target# +\"_f1_\"+str(int(f1score))\n",
        "modelo_otimizado = random_search.best_estimator_\n",
        "# modelo_otimizado.steps.pop(0)\n",
        "caminho = '/content/Mineracao_dados_textos_web/modelos_salvos/'\n",
        "joblib.dump(modelo_otimizado, caminho + nome_modelo+'_v2.joblib')\n",
        "from google.colab import files\n",
        "if 'COLAB_GPU' in os.environ and realizar_download:\n",
        "  files.download(caminho + nome_modelo+'_v2.joblib')\n",
        "print(\"--\"*20)\n",
        "print(\"Melhores parâmetros encontrados: \")\n",
        "print(random_search.best_params_)\n",
        "print(\"--\"*20)\n",
        "print(\"Modelo salvo em: \")\n",
        "print(caminho + nome_modelo+'.joblib')"
      ],
      "execution_count": 456,
      "outputs": [
        {
          "output_type": "stream",
          "text": [
            "0    8815\n",
            "1    4392\n",
            "Name: target, dtype: int64\n",
            "num amostras:  7665\n",
            "0    7665\n",
            "1    4392\n",
            "Name: target, dtype: int64\n",
            "0    7665\n",
            "1    4392\n",
            "Name: target, dtype: int64\n",
            "Fitting 5 folds for each of 80 candidates, totalling 400 fits\n"
          ],
          "name": "stdout"
        },
        {
          "output_type": "stream",
          "text": [
            "[Parallel(n_jobs=-1)]: Using backend LokyBackend with 2 concurrent workers.\n",
            "[Parallel(n_jobs=-1)]: Done   1 tasks      | elapsed:    9.7s\n",
            "[Parallel(n_jobs=-1)]: Done   4 tasks      | elapsed:   19.8s\n",
            "[Parallel(n_jobs=-1)]: Done   9 tasks      | elapsed:   56.1s\n",
            "[Parallel(n_jobs=-1)]: Done  14 tasks      | elapsed:  1.1min\n",
            "[Parallel(n_jobs=-1)]: Done  21 tasks      | elapsed:  1.3min\n",
            "[Parallel(n_jobs=-1)]: Done  28 tasks      | elapsed:  2.1min\n",
            "[Parallel(n_jobs=-1)]: Done  37 tasks      | elapsed:  2.6min\n",
            "[Parallel(n_jobs=-1)]: Done  46 tasks      | elapsed:  3.3min\n",
            "[Parallel(n_jobs=-1)]: Done  57 tasks      | elapsed:  6.2min\n",
            "[Parallel(n_jobs=-1)]: Done  68 tasks      | elapsed:  6.8min\n",
            "[Parallel(n_jobs=-1)]: Done  81 tasks      | elapsed:  8.9min\n",
            "[Parallel(n_jobs=-1)]: Done  94 tasks      | elapsed:  9.7min\n",
            "[Parallel(n_jobs=-1)]: Done 109 tasks      | elapsed: 11.6min\n",
            "[Parallel(n_jobs=-1)]: Done 124 tasks      | elapsed: 12.7min\n",
            "[Parallel(n_jobs=-1)]: Done 141 tasks      | elapsed: 14.9min\n",
            "[Parallel(n_jobs=-1)]: Done 158 tasks      | elapsed: 17.0min\n",
            "[Parallel(n_jobs=-1)]: Done 177 tasks      | elapsed: 18.6min\n",
            "[Parallel(n_jobs=-1)]: Done 196 tasks      | elapsed: 20.0min\n",
            "[Parallel(n_jobs=-1)]: Done 217 tasks      | elapsed: 20.9min\n",
            "[Parallel(n_jobs=-1)]: Done 238 tasks      | elapsed: 23.8min\n",
            "[Parallel(n_jobs=-1)]: Done 261 tasks      | elapsed: 25.2min\n",
            "[Parallel(n_jobs=-1)]: Done 284 tasks      | elapsed: 27.2min\n",
            "[Parallel(n_jobs=-1)]: Done 309 tasks      | elapsed: 30.2min\n",
            "[Parallel(n_jobs=-1)]: Done 334 tasks      | elapsed: 32.4min\n",
            "[Parallel(n_jobs=-1)]: Done 361 tasks      | elapsed: 34.2min\n",
            "[Parallel(n_jobs=-1)]: Done 388 tasks      | elapsed: 35.8min\n",
            "[Parallel(n_jobs=-1)]: Done 400 out of 400 | elapsed: 36.3min finished\n",
            "/usr/local/lib/python3.6/dist-packages/sklearn/decomposition/_truncated_svd.py:194: RuntimeWarning: invalid value encountered in true_divide\n",
            "  self.explained_variance_ratio_ = exp_var / full_var\n"
          ],
          "name": "stderr"
        },
        {
          "output_type": "display_data",
          "data": {
            "application/javascript": [
              "\n",
              "    async function download(id, filename, size) {\n",
              "      if (!google.colab.kernel.accessAllowed) {\n",
              "        return;\n",
              "      }\n",
              "      const div = document.createElement('div');\n",
              "      const label = document.createElement('label');\n",
              "      label.textContent = `Downloading \"${filename}\": `;\n",
              "      div.appendChild(label);\n",
              "      const progress = document.createElement('progress');\n",
              "      progress.max = size;\n",
              "      div.appendChild(progress);\n",
              "      document.body.appendChild(div);\n",
              "\n",
              "      const buffers = [];\n",
              "      let downloaded = 0;\n",
              "\n",
              "      const channel = await google.colab.kernel.comms.open(id);\n",
              "      // Send a message to notify the kernel that we're ready.\n",
              "      channel.send({})\n",
              "\n",
              "      for await (const message of channel.messages) {\n",
              "        // Send a message to notify the kernel that we're ready.\n",
              "        channel.send({})\n",
              "        if (message.buffers) {\n",
              "          for (const buffer of message.buffers) {\n",
              "            buffers.push(buffer);\n",
              "            downloaded += buffer.byteLength;\n",
              "            progress.value = downloaded;\n",
              "          }\n",
              "        }\n",
              "      }\n",
              "      const blob = new Blob(buffers, {type: 'application/binary'});\n",
              "      const a = document.createElement('a');\n",
              "      a.href = window.URL.createObjectURL(blob);\n",
              "      a.download = filename;\n",
              "      div.appendChild(a);\n",
              "      a.click();\n",
              "      div.remove();\n",
              "    }\n",
              "  "
            ],
            "text/plain": [
              "<IPython.core.display.Javascript object>"
            ]
          },
          "metadata": {
            "tags": []
          }
        },
        {
          "output_type": "display_data",
          "data": {
            "application/javascript": [
              "download(\"download_11b660fe-fd06-4bbc-a1d1-7c62209ddce9\", \"xgboost_subtask_a_v2.joblib\", 192483)"
            ],
            "text/plain": [
              "<IPython.core.display.Javascript object>"
            ]
          },
          "metadata": {
            "tags": []
          }
        },
        {
          "output_type": "stream",
          "text": [
            "----------------------------------------\n",
            "Melhores parâmetros encontrados: \n",
            "{'anexar_bases_externas__ngram_range_tweets': (2, 2), 'anexar_bases_externas__prop_components_empath': 0.143893700641058, 'anexar_bases_externas__prop_components_entities': 0.4886867781002149, 'anexar_bases_externas__prop_components_tweets': 0.0026562192517607837, 'anexar_bases_externas__remover_embeddings': False, 'anexar_bases_externas__remover_empath': True, 'anexar_bases_externas__remover_entities': True, 'anexar_bases_externas__remover_sent': False, 'anexar_bases_externas__tamanho': 'medio', 'anexar_bases_externas__use_idf_entities': True, 'anexar_bases_externas__use_idf_tweets': False, 'classificador__colsample_bytree': 0.9546594911994202, 'classificador__gamma': 0.40596266231399714, 'classificador__learning_rate': 0.11249126084778863, 'classificador__max_depth': 5, 'classificador__min_child_weight': 6, 'reducao_dimensionalidade__proporcao_colunas': 0.18951069627187972}\n",
            "----------------------------------------\n",
            "Modelo salvo em: \n",
            "/content/Mineracao_dados_textos_web/modelos_salvos/xgboost_subtask_a.joblib\n"
          ],
          "name": "stdout"
        }
      ]
    },
    {
      "cell_type": "markdown",
      "metadata": {
        "colab_type": "text",
        "id": "q0SmzJwFbe-Q"
      },
      "source": [
        "###### Avaliação da busca de parâmetros"
      ]
    },
    {
      "cell_type": "code",
      "metadata": {
        "colab_type": "code",
        "cellView": "form",
        "id": "kaz64A4cJeI8",
        "colab": {
          "base_uri": "https://localhost:8080/",
          "height": 0
        },
        "outputId": "134e9455-e97f-4cdf-949e-7a8853867437"
      },
      "source": [
        "#@markdown Cross validation\n",
        "num_folds = 5 #@param {type:\"integer\"}\n",
        "from sklearn.model_selection import cross_validate\n",
        "\n",
        "cross_validation_modelo_otimizado = cross_validate(modelo_otimizado, X, y, \n",
        "                        scoring= \"f1_macro\",\n",
        "                        cv= StratifiedKFold(n_splits= num_folds, shuffle= True),\n",
        "                        return_train_score= True)\n",
        "\n",
        "scores_treino_modelo_otimizado = cross_validation_modelo_otimizado['train_score'].mean()\n",
        "\n",
        "scores_teste_modelo_otimizado = cross_validation_modelo_otimizado['test_score'].mean()\n",
        "\n",
        "print(\"Média do F1 score de treinamento: \", round(scores_treino_modelo_otimizado,3))\n",
        "\n",
        "print(\"Média do F1 score de teste: \", round(scores_teste_modelo_otimizado,3))"
      ],
      "execution_count": 457,
      "outputs": [
        {
          "output_type": "stream",
          "text": [
            "/usr/local/lib/python3.6/dist-packages/sklearn/decomposition/_truncated_svd.py:194: RuntimeWarning: invalid value encountered in true_divide\n",
            "  self.explained_variance_ratio_ = exp_var / full_var\n",
            "/usr/local/lib/python3.6/dist-packages/sklearn/decomposition/_truncated_svd.py:194: RuntimeWarning: invalid value encountered in true_divide\n",
            "  self.explained_variance_ratio_ = exp_var / full_var\n",
            "/usr/local/lib/python3.6/dist-packages/sklearn/decomposition/_truncated_svd.py:194: RuntimeWarning: invalid value encountered in true_divide\n",
            "  self.explained_variance_ratio_ = exp_var / full_var\n",
            "/usr/local/lib/python3.6/dist-packages/sklearn/decomposition/_truncated_svd.py:194: RuntimeWarning: invalid value encountered in true_divide\n",
            "  self.explained_variance_ratio_ = exp_var / full_var\n",
            "/usr/local/lib/python3.6/dist-packages/sklearn/decomposition/_truncated_svd.py:194: RuntimeWarning: invalid value encountered in true_divide\n",
            "  self.explained_variance_ratio_ = exp_var / full_var\n",
            "/usr/local/lib/python3.6/dist-packages/sklearn/decomposition/_truncated_svd.py:194: RuntimeWarning: invalid value encountered in true_divide\n",
            "  self.explained_variance_ratio_ = exp_var / full_var\n",
            "/usr/local/lib/python3.6/dist-packages/sklearn/decomposition/_truncated_svd.py:194: RuntimeWarning: invalid value encountered in true_divide\n",
            "  self.explained_variance_ratio_ = exp_var / full_var\n",
            "/usr/local/lib/python3.6/dist-packages/sklearn/decomposition/_truncated_svd.py:194: RuntimeWarning: invalid value encountered in true_divide\n",
            "  self.explained_variance_ratio_ = exp_var / full_var\n",
            "/usr/local/lib/python3.6/dist-packages/sklearn/decomposition/_truncated_svd.py:194: RuntimeWarning: invalid value encountered in true_divide\n",
            "  self.explained_variance_ratio_ = exp_var / full_var\n",
            "/usr/local/lib/python3.6/dist-packages/sklearn/decomposition/_truncated_svd.py:194: RuntimeWarning: invalid value encountered in true_divide\n",
            "  self.explained_variance_ratio_ = exp_var / full_var\n",
            "/usr/local/lib/python3.6/dist-packages/sklearn/decomposition/_truncated_svd.py:194: RuntimeWarning: invalid value encountered in true_divide\n",
            "  self.explained_variance_ratio_ = exp_var / full_var\n",
            "/usr/local/lib/python3.6/dist-packages/sklearn/decomposition/_truncated_svd.py:194: RuntimeWarning: invalid value encountered in true_divide\n",
            "  self.explained_variance_ratio_ = exp_var / full_var\n",
            "/usr/local/lib/python3.6/dist-packages/sklearn/decomposition/_truncated_svd.py:194: RuntimeWarning: invalid value encountered in true_divide\n",
            "  self.explained_variance_ratio_ = exp_var / full_var\n",
            "/usr/local/lib/python3.6/dist-packages/sklearn/decomposition/_truncated_svd.py:194: RuntimeWarning: invalid value encountered in true_divide\n",
            "  self.explained_variance_ratio_ = exp_var / full_var\n",
            "/usr/local/lib/python3.6/dist-packages/sklearn/decomposition/_truncated_svd.py:194: RuntimeWarning: invalid value encountered in true_divide\n",
            "  self.explained_variance_ratio_ = exp_var / full_var\n"
          ],
          "name": "stderr"
        },
        {
          "output_type": "stream",
          "text": [
            "Média do F1 score de treinamento:  0.801\n",
            "Média do F1 score de teste:  0.628\n"
          ],
          "name": "stdout"
        }
      ]
    },
    {
      "cell_type": "code",
      "metadata": {
        "colab_type": "code",
        "cellView": "form",
        "id": "X_pZCX9abe-X",
        "colab": {
          "base_uri": "https://localhost:8080/",
          "height": 0
        },
        "outputId": "cba6c786-be40-4da9-ee68-afa059d8423b"
      },
      "source": [
        "#@markdown Para todo os dados do trainset\n",
        "\n",
        "from sklearn.metrics import classification_report, plot_confusion_matrix\n",
        "y_pred = modelo_otimizado.predict(X)\n",
        "print(classification_report(y, \n",
        "                            y_pred, \n",
        "                            target_names= \n",
        "                            binarizador_label.classes_))\n",
        "plot_confusion_matrix(modelo_otimizado, \n",
        "                      X, \n",
        "                      y, \n",
        "                      display_labels= binarizador_label.classes_,\n",
        "                      values_format= \".0f\")"
      ],
      "execution_count": 458,
      "outputs": [
        {
          "output_type": "stream",
          "text": [
            "/usr/local/lib/python3.6/dist-packages/sklearn/decomposition/_truncated_svd.py:194: RuntimeWarning: invalid value encountered in true_divide\n",
            "  self.explained_variance_ratio_ = exp_var / full_var\n"
          ],
          "name": "stderr"
        },
        {
          "output_type": "stream",
          "text": [
            "              precision    recall  f1-score   support\n",
            "\n",
            "         NOT       0.82      0.88      0.85      8815\n",
            "         OFF       0.72      0.62      0.67      4392\n",
            "\n",
            "    accuracy                           0.79     13207\n",
            "   macro avg       0.77      0.75      0.76     13207\n",
            "weighted avg       0.79      0.79      0.79     13207\n",
            "\n"
          ],
          "name": "stdout"
        },
        {
          "output_type": "stream",
          "text": [
            "/usr/local/lib/python3.6/dist-packages/sklearn/decomposition/_truncated_svd.py:194: RuntimeWarning: invalid value encountered in true_divide\n",
            "  self.explained_variance_ratio_ = exp_var / full_var\n"
          ],
          "name": "stderr"
        },
        {
          "output_type": "execute_result",
          "data": {
            "text/plain": [
              "<sklearn.metrics._plot.confusion_matrix.ConfusionMatrixDisplay at 0x7f0ca27ab390>"
            ]
          },
          "metadata": {
            "tags": []
          },
          "execution_count": 458
        },
        {
          "output_type": "display_data",
          "data": {
            "image/png": "[encoded data removed]",
            "text/plain": [
              "<Figure size 432x288 with 2 Axes>"
            ]
          },
          "metadata": {
            "tags": [],
            "needs_background": "light"
          }
        }
      ]
    },
    {
      "cell_type": "code",
      "metadata": {
        "colab_type": "code",
        "cellView": "form",
        "id": "tytwZO8ILSb8",
        "colab": {
          "base_uri": "https://localhost:8080/",
          "height": 0
        },
        "outputId": "e7dd5401-5258-4fe6-9ae5-699d1cf6c97a"
      },
      "source": [
        "#@markdown Classificação dos tweets da subtask\n",
        "target = \"subtask_a\" #@param [\"subtask_a\", \"subtask_b\", \"subtask_c\"]\n",
        "testset = testset_a_aumentado\n",
        "if target == \"subtask_b\":\n",
        "  testset = testset_b_aumentado\n",
        "\n",
        "# modelo_otimizado.fit(X,y)\n",
        "predicoes = modelo_otimizado.predict(testset)\n",
        "y_pred = pd.Series(binarizador_label.inverse_transform(predicoes),name= target)\n",
        "y_pred.index = testset.index\n",
        "resultado = pd.concat([testset[['tweet']] , y_pred], axis=1)\n",
        "resultado[target].hist()\n",
        "print(resultado.head(5))\n",
        "print(resultado[target].value_counts())\n"
      ],
      "execution_count": 467,
      "outputs": [
        {
          "output_type": "stream",
          "text": [
            "/usr/local/lib/python3.6/dist-packages/sklearn/decomposition/_truncated_svd.py:194: RuntimeWarning: invalid value encountered in true_divide\n",
            "  self.explained_variance_ratio_ = exp_var / full_var\n"
          ],
          "name": "stderr"
        },
        {
          "output_type": "stream",
          "text": [
            "                                                   tweet subtask_a\n",
            "id                                                                \n",
            "15923  whoisq wherestheserver dumpnike declasfisa dem...       NOT\n",
            "27014  constitutionday revere conservative hate progr...       NOT\n",
            "30530  foxnews nra maga potus trump 2ndamendment rnc ...       OFF\n",
            "13876  watch boomer get news parole make smile wentwo...       NOT\n",
            "60133  nopasaran unity demo oppose far right london a...       NOT\n",
            "NOT    628\n",
            "OFF    232\n",
            "Name: subtask_a, dtype: int64\n"
          ],
          "name": "stdout"
        },
        {
          "output_type": "display_data",
          "data": {
            "image/png": "[encoded data removed]",
            "text/plain": [
              "<Figure size 432x288 with 1 Axes>"
            ]
          },
          "metadata": {
            "tags": [],
            "needs_background": "light"
          }
        }
      ]
    },
    {
      "cell_type": "markdown",
      "metadata": {
        "colab_type": "text",
        "id": "YjnEyP23SEBF"
      },
      "source": [
        "##### Comparação com gabarito"
      ]
    },
    {
      "cell_type": "code",
      "metadata": {
        "id": "gQZCWqLgNqyg",
        "colab_type": "code",
        "colab": {
          "base_uri": "https://localhost:8080/",
          "height": 0
        },
        "outputId": "ca9bfd3f-e480-4de1-d85a-b060f007a021"
      },
      "source": [
        "testset_a_aumentado"
      ],
      "execution_count": 464,
      "outputs": [
        {
          "output_type": "execute_result",
          "data": {
            "text/html": [
              "<div>\n",
              "<style scoped>\n",
              "    .dataframe tbody tr th:only-of-type {\n",
              "        vertical-align: middle;\n",
              "    }\n",
              "\n",
              "    .dataframe tbody tr th {\n",
              "        vertical-align: top;\n",
              "    }\n",
              "\n",
              "    .dataframe thead th {\n",
              "        text-align: right;\n",
              "    }\n",
              "</style>\n",
              "<table border=\"1\" class=\"dataframe\">\n",
              "  <thead>\n",
              "    <tr style=\"text-align: right;\">\n",
              "      <th></th>\n",
              "      <th>tweet</th>\n",
              "      <th>length</th>\n",
              "      <th>hashtag_%</th>\n",
              "      <th>mentions_%</th>\n",
              "      <th>stop_words_%</th>\n",
              "      <th>uppercase_%</th>\n",
              "      <th>sent_count</th>\n",
              "      <th>has_url</th>\n",
              "    </tr>\n",
              "    <tr>\n",
              "      <th>id</th>\n",
              "      <th></th>\n",
              "      <th></th>\n",
              "      <th></th>\n",
              "      <th></th>\n",
              "      <th></th>\n",
              "      <th></th>\n",
              "      <th></th>\n",
              "      <th></th>\n",
              "    </tr>\n",
              "  </thead>\n",
              "  <tbody>\n",
              "    <tr>\n",
              "      <th>15923</th>\n",
              "      <td>whoisq wherestheserver dumpnike declasfisa dem...</td>\n",
              "      <td>1.020833</td>\n",
              "      <td>0.259259</td>\n",
              "      <td>0.000000</td>\n",
              "      <td>0.000000</td>\n",
              "      <td>0.222222</td>\n",
              "      <td>2</td>\n",
              "      <td>1</td>\n",
              "    </tr>\n",
              "    <tr>\n",
              "      <th>27014</th>\n",
              "      <td>constitutionday revere conservative hate progr...</td>\n",
              "      <td>0.462500</td>\n",
              "      <td>0.076923</td>\n",
              "      <td>0.000000</td>\n",
              "      <td>0.384615</td>\n",
              "      <td>0.000000</td>\n",
              "      <td>1</td>\n",
              "      <td>0</td>\n",
              "    </tr>\n",
              "    <tr>\n",
              "      <th>30530</th>\n",
              "      <td>foxnews nra maga potus trump 2ndamendment rnc ...</td>\n",
              "      <td>0.850000</td>\n",
              "      <td>0.500000</td>\n",
              "      <td>0.285714</td>\n",
              "      <td>0.107143</td>\n",
              "      <td>0.571429</td>\n",
              "      <td>1</td>\n",
              "      <td>1</td>\n",
              "    </tr>\n",
              "    <tr>\n",
              "      <th>13876</th>\n",
              "      <td>watch boomer get news parole make smile wentwo...</td>\n",
              "      <td>0.579167</td>\n",
              "      <td>0.130435</td>\n",
              "      <td>0.000000</td>\n",
              "      <td>0.521739</td>\n",
              "      <td>0.043478</td>\n",
              "      <td>3</td>\n",
              "      <td>1</td>\n",
              "    </tr>\n",
              "    <tr>\n",
              "      <th>60133</th>\n",
              "      <td>nopasaran unity demo oppose far right london a...</td>\n",
              "      <td>0.408333</td>\n",
              "      <td>0.235294</td>\n",
              "      <td>0.000000</td>\n",
              "      <td>0.235294</td>\n",
              "      <td>0.058824</td>\n",
              "      <td>2</td>\n",
              "      <td>1</td>\n",
              "    </tr>\n",
              "    <tr>\n",
              "      <th>...</th>\n",
              "      <td>...</td>\n",
              "      <td>...</td>\n",
              "      <td>...</td>\n",
              "      <td>...</td>\n",
              "      <td>...</td>\n",
              "      <td>...</td>\n",
              "      <td>...</td>\n",
              "      <td>...</td>\n",
              "    </tr>\n",
              "    <tr>\n",
              "      <th>73439</th>\n",
              "      <td>despicabledem lie rifle dem distort law push g...</td>\n",
              "      <td>0.504167</td>\n",
              "      <td>0.055556</td>\n",
              "      <td>0.055556</td>\n",
              "      <td>0.333333</td>\n",
              "      <td>0.111111</td>\n",
              "      <td>2</td>\n",
              "      <td>1</td>\n",
              "    </tr>\n",
              "    <tr>\n",
              "      <th>25657</th>\n",
              "      <td>meetthespeaker 🙌 @user present event oiw 2018 ...</td>\n",
              "      <td>1.033333</td>\n",
              "      <td>0.050000</td>\n",
              "      <td>0.025000</td>\n",
              "      <td>0.250000</td>\n",
              "      <td>0.100000</td>\n",
              "      <td>3</td>\n",
              "      <td>1</td>\n",
              "    </tr>\n",
              "    <tr>\n",
              "      <th>67018</th>\n",
              "      <td>3 people unfollowe talk merlin sorry be covins...</td>\n",
              "      <td>0.854167</td>\n",
              "      <td>0.000000</td>\n",
              "      <td>0.000000</td>\n",
              "      <td>0.405405</td>\n",
              "      <td>0.000000</td>\n",
              "      <td>1</td>\n",
              "      <td>0</td>\n",
              "    </tr>\n",
              "    <tr>\n",
              "      <th>50665</th>\n",
              "      <td>wednesdaywisdom antifa call right fascist real...</td>\n",
              "      <td>1.112500</td>\n",
              "      <td>0.047619</td>\n",
              "      <td>0.000000</td>\n",
              "      <td>0.452381</td>\n",
              "      <td>0.000000</td>\n",
              "      <td>2</td>\n",
              "      <td>0</td>\n",
              "    </tr>\n",
              "    <tr>\n",
              "      <th>24583</th>\n",
              "      <td>kavanaugh typical liberal democrats</td>\n",
              "      <td>0.187500</td>\n",
              "      <td>0.500000</td>\n",
              "      <td>0.000000</td>\n",
              "      <td>0.000000</td>\n",
              "      <td>0.166667</td>\n",
              "      <td>1</td>\n",
              "      <td>1</td>\n",
              "    </tr>\n",
              "  </tbody>\n",
              "</table>\n",
              "<p>860 rows × 8 columns</p>\n",
              "</div>"
            ],
            "text/plain": [
              "                                                   tweet  ...  has_url\n",
              "id                                                        ...         \n",
              "15923  whoisq wherestheserver dumpnike declasfisa dem...  ...        1\n",
              "27014  constitutionday revere conservative hate progr...  ...        0\n",
              "30530  foxnews nra maga potus trump 2ndamendment rnc ...  ...        1\n",
              "13876  watch boomer get news parole make smile wentwo...  ...        1\n",
              "60133  nopasaran unity demo oppose far right london a...  ...        1\n",
              "...                                                  ...  ...      ...\n",
              "73439  despicabledem lie rifle dem distort law push g...  ...        1\n",
              "25657  meetthespeaker 🙌 @user present event oiw 2018 ...  ...        1\n",
              "67018  3 people unfollowe talk merlin sorry be covins...  ...        0\n",
              "50665  wednesdaywisdom antifa call right fascist real...  ...        0\n",
              "24583                kavanaugh typical liberal democrats  ...        1\n",
              "\n",
              "[860 rows x 8 columns]"
            ]
          },
          "metadata": {
            "tags": []
          },
          "execution_count": 464
        }
      ]
    },
    {
      "cell_type": "code",
      "metadata": {
        "colab_type": "code",
        "cellView": "form",
        "id": "NtGqfPxXSEBI",
        "colab": {
          "base_uri": "https://localhost:8080/",
          "height": 0
        },
        "outputId": "2bcea3eb-43c8-4a55-c59b-b27f273fd5d0"
      },
      "source": [
        "#@markdown Avaliação do modelo com o testset da subtask\n",
        "caminho = ''\n",
        "\n",
        "caminho_a = \"/content/drive/My Drive/Mestrado/Disciplinas/Mineração de Textos e da Web/modelos1.txt\" #@param {type:\"string\"}\n",
        "caminho_b = \"/content/drive/My Drive/Mestrado/Disciplinas/Mineração de Textos e da Web/modelos2.txt\" #@param {type:\"string\"}\n",
        "import pandas as pd\n",
        "from sklearn.metrics import classification_report, plot_confusion_matrix\n",
        "testset = testset_a_aumentado\n",
        "caminho = caminho_a\n",
        "if target == \"subtask_b\":\n",
        "  testset = testset_b_aumentado\n",
        "  caminho = caminho_b\n",
        "\n",
        "gabarito = pd.read_csv(caminho, index_col='id')\n",
        "gabarito.head()\n",
        "\n",
        "\n",
        "y_true = binarizador_label.transform(gabarito[target])\n",
        "y_pred = modelo_otimizado.predict(testset)\n",
        "print(classification_report(y_true, \n",
        "                            y_pred, \n",
        "                            target_names= \n",
        "                            binarizador_label.classes_))\n",
        "plot_confusion_matrix(modelo_otimizado, \n",
        "                      testset, \n",
        "                      y_true, \n",
        "                      display_labels= binarizador_label.classes_,\n",
        "                      values_format= \".0f\")"
      ],
      "execution_count": 469,
      "outputs": [
        {
          "output_type": "stream",
          "text": [
            "/usr/local/lib/python3.6/dist-packages/sklearn/decomposition/_truncated_svd.py:194: RuntimeWarning: invalid value encountered in true_divide\n",
            "  self.explained_variance_ratio_ = exp_var / full_var\n"
          ],
          "name": "stderr"
        },
        {
          "output_type": "stream",
          "text": [
            "              precision    recall  f1-score   support\n",
            "\n",
            "         NOT       0.73      0.74      0.73       620\n",
            "         OFF       0.30      0.30      0.30       240\n",
            "\n",
            "    accuracy                           0.61       860\n",
            "   macro avg       0.52      0.52      0.52       860\n",
            "weighted avg       0.61      0.61      0.61       860\n",
            "\n"
          ],
          "name": "stdout"
        },
        {
          "output_type": "stream",
          "text": [
            "/usr/local/lib/python3.6/dist-packages/sklearn/decomposition/_truncated_svd.py:194: RuntimeWarning: invalid value encountered in true_divide\n",
            "  self.explained_variance_ratio_ = exp_var / full_var\n"
          ],
          "name": "stderr"
        },
        {
          "output_type": "execute_result",
          "data": {
            "text/plain": [
              "<sklearn.metrics._plot.confusion_matrix.ConfusionMatrixDisplay at 0x7f0ca1c8a320>"
            ]
          },
          "metadata": {
            "tags": []
          },
          "execution_count": 469
        },
        {
          "output_type": "display_data",
          "data": {
            "image/png": "[encoded data removed]",
            "text/plain": [
              "<Figure size 432x288 with 2 Axes>"
            ]
          },
          "metadata": {
            "tags": [],
            "needs_background": "light"
          }
        }
      ]
    },
    {
      "cell_type": "code",
      "metadata": {
        "colab_type": "code",
        "cellView": "both",
        "id": "5slh2PfVZGIW",
        "colab": {
          "base_uri": "https://localhost:8080/",
          "height": 0
        },
        "outputId": "eb838841-9e52-46db-a2bf-98d718f77cdf"
      },
      "source": [
        "#@markdown Salvar e realizar download do arquivo resultante\n",
        "resultado.drop(\"tweet\", axis=1).to_csv('testset-'+target+'-classificado.csv',sep=' ')\n",
        "\n",
        "print(\"Salvo em '/content/testset-\"+target+\"-classificado.csv'!\")\n",
        "if 'COLAB_GPU' in os.environ:\n",
        "  files.download('/content/testset-'+target+'-classificado.csv')\n"
      ],
      "execution_count": 323,
      "outputs": [
        {
          "output_type": "stream",
          "text": [
            "Salvo em '/content/testset-subtask_a-classificado.csv'!\n"
          ],
          "name": "stdout"
        },
        {
          "output_type": "display_data",
          "data": {
            "application/javascript": [
              "\n",
              "    async function download(id, filename, size) {\n",
              "      if (!google.colab.kernel.accessAllowed) {\n",
              "        return;\n",
              "      }\n",
              "      const div = document.createElement('div');\n",
              "      const label = document.createElement('label');\n",
              "      label.textContent = `Downloading \"${filename}\": `;\n",
              "      div.appendChild(label);\n",
              "      const progress = document.createElement('progress');\n",
              "      progress.max = size;\n",
              "      div.appendChild(progress);\n",
              "      document.body.appendChild(div);\n",
              "\n",
              "      const buffers = [];\n",
              "      let downloaded = 0;\n",
              "\n",
              "      const channel = await google.colab.kernel.comms.open(id);\n",
              "      // Send a message to notify the kernel that we're ready.\n",
              "      channel.send({})\n",
              "\n",
              "      for await (const message of channel.messages) {\n",
              "        // Send a message to notify the kernel that we're ready.\n",
              "        channel.send({})\n",
              "        if (message.buffers) {\n",
              "          for (const buffer of message.buffers) {\n",
              "            buffers.push(buffer);\n",
              "            downloaded += buffer.byteLength;\n",
              "            progress.value = downloaded;\n",
              "          }\n",
              "        }\n",
              "      }\n",
              "      const blob = new Blob(buffers, {type: 'application/binary'});\n",
              "      const a = document.createElement('a');\n",
              "      a.href = window.URL.createObjectURL(blob);\n",
              "      a.download = filename;\n",
              "      div.appendChild(a);\n",
              "      a.click();\n",
              "      div.remove();\n",
              "    }\n",
              "  "
            ],
            "text/plain": [
              "<IPython.core.display.Javascript object>"
            ]
          },
          "metadata": {
            "tags": []
          }
        },
        {
          "output_type": "display_data",
          "data": {
            "application/javascript": [
              "download(\"download_675581a9-fcbf-4e98-9511-b5d929d99b78\", \"testset-subtask_a-classificado.csv\", 8613)"
            ],
            "text/plain": [
              "<IPython.core.display.Javascript object>"
            ]
          },
          "metadata": {
            "tags": []
          }
        }
      ]
    },
    {
      "cell_type": "markdown",
      "metadata": {
        "colab_type": "text",
        "id": "Sl_brnZhnYhe"
      },
      "source": [
        "#### Subtask A"
      ]
    },
    {
      "cell_type": "markdown",
      "metadata": {
        "colab_type": "text",
        "id": "fn2ZjU2XnYhf"
      },
      "source": [
        "##### Modelo testado: Random Forest"
      ]
    },
    {
      "cell_type": "markdown",
      "metadata": {
        "colab_type": "text",
        "id": "4RfKXL3QnYhg"
      },
      "source": [
        "###### Segregação de dados de treino e de teste"
      ]
    },
    {
      "cell_type": "code",
      "metadata": {
        "colab_type": "code",
        "cellView": "form",
        "id": "pvJkkiBanYhh",
        "colab": {
          "base_uri": "https://localhost:8080/",
          "height": 204
        },
        "outputId": "f42c23c2-6eef-4d1e-fb0e-f8f895e614cd"
      },
      "source": [
        "#@markdown train_test_split\n",
        "test_size = 0.2 #@param {type:\"slider\", min:0, max:1, step:0.01}\n",
        "target = \"subtask_a\" #@param [\"subtask_a\", \"subtask_b\", \"subtask_c\"]\n",
        "estratificar_alvo = True #@param {type:\"boolean\"}\n",
        "remover_nan = True\n",
        "from sklearn.preprocessing import LabelBinarizer\n",
        "import numpy as np\n",
        "\n",
        "from sklearn.model_selection import train_test_split\n",
        "\n",
        "X = trainset_aumentado.drop(trainset_aumentado.loc[:,trainset_aumentado.columns.str.startswith('subtask')], axis=1)\n",
        "if remover_nan:\n",
        "  y = trainset_aumentado[target].dropna()\n",
        "  X = X[trainset_aumentado[target] == trainset_aumentado[target]]\n",
        "else:\n",
        "  y = trainset_aumentado[target].fillna(\"NOT\")\n",
        "binarizador_label = LabelBinarizer()\n",
        "y = binarizador_label.fit_transform(y)\n",
        "stratify = None \n",
        "if estratificar_alvo == True:\n",
        "  stratify = y\n",
        "\n",
        "X_train, X_test, y_train, y_test = train_test_split(X, y, test_size=test_size, stratify= stratify)\n",
        "\n",
        "print(\"Quantidade de observações de teste: \", pd.Series(binarizador_label.inverse_transform(y_test)).count())\n",
        "print(\"Percentual por categoria\")\n",
        "print(pd.Series(binarizador_label.inverse_transform(y_test)).value_counts()*100/pd.Series(binarizador_label.inverse_transform(y_test)).count())\n",
        "print('-------------')\n",
        "print(\"Quantidade de observações de treino: \", pd.Series(binarizador_label.inverse_transform(y_train)).count())\n",
        "print(\"Percentual por categoria\")\n",
        "print(pd.Series(binarizador_label.inverse_transform(y_train)).value_counts()*100/pd.Series(binarizador_label.inverse_transform(y_train)).count())\n",
        "y = pd.Series(np.ravel(y))\n",
        "y_train = pd.Series(np.ravel(y_train))\n",
        "y_test = pd.Series(np.ravel(y_test))"
      ],
      "execution_count": null,
      "outputs": [
        {
          "output_type": "stream",
          "text": [
            "Quantidade de observações de teste:  2642\n",
            "Percentual por categoria\n",
            "NOT    66.72975\n",
            "OFF    33.27025\n",
            "dtype: float64\n",
            "-------------\n",
            "Quantidade de observações de treino:  10565\n",
            "Percentual por categoria\n",
            "NOT    66.748699\n",
            "OFF    33.251301\n",
            "dtype: float64\n"
          ],
          "name": "stdout"
        }
      ]
    },
    {
      "cell_type": "markdown",
      "metadata": {
        "colab_type": "text",
        "id": "VzNe3aROnYhm"
      },
      "source": [
        "###### Otimização de hiperparâmetros\n"
      ]
    },
    {
      "cell_type": "code",
      "metadata": {
        "colab_type": "code",
        "cellView": "form",
        "id": "cpmB4DYLnYhn",
        "colab": {
          "base_uri": "https://localhost:8080/",
          "height": 309
        },
        "outputId": "b397ce1f-d1d5-4ee7-d1c1-07399411103b"
      },
      "source": [
        "#@markdown RandomSearchCV\n",
        "algoritmo = \"logistic_regression_1\" #@param ['logistic_regression_1', 'logistic_regression_2', 'knn', 'svc', 'sgdc', 'random_forest', 'ada_boost', 'extra_trees', 'grad_boost', 'xgboost']\n",
        "num_folds = 5 #@param {type:\"integer\"}\n",
        "\n",
        "# busca_randomizada = True #@param {type:\"boolean\"}\n",
        "num_inter =  1#@param {type:\"integer\"}\n",
        "usar_todo_dataset = True #@param {type:\"boolean\"}\n",
        "realizar_download = True #@param {type:\"boolean\"}\n",
        "from sklearn.preprocessing import LabelBinarizer\n",
        "from sklearn.model_selection import RandomizedSearchCV \n",
        "from sklearn.metrics import f1_score\n",
        "from sklearn.decomposition import PCA\n",
        "from sklearn.model_selection import StratifiedKFold\n",
        "import pickle\n",
        "\n",
        "\n",
        "param_grid = {**param_grid_anexar_bases_externas, \n",
        "              **param_grid_transformar_colunas, \n",
        "              **param_grid_reducao_dimensionalidade, \n",
        "              **dict_param_grid_algoritmos[algoritmo]}\n",
        "\n",
        "\n",
        "canal_dados = Pipeline([(\"anexar_bases_externas\",\n",
        "                              Anexar_Bases_Externas()),\n",
        "                        ('transformar_colunas',\n",
        "                              transformar_colunas),\n",
        "                        ('reducao_dimensionalidade',  \n",
        "                              PCA()), \n",
        "                        ('classificador', \n",
        "                              dict_algoritmos[algoritmo])\n",
        "    ])\n",
        "cv = StratifiedKFold(n_splits= num_folds, shuffle= True)\n",
        "args_random_search = {'estimator'          : canal_dados, \n",
        "                      'cv'                 : cv, \n",
        "                      'scoring'            :'f1_macro', \n",
        "                      'n_jobs'             : -1,\n",
        "                      'verbose'            : 10,\n",
        "                      'n_iter'             : num_inter,\n",
        "                      'param_distributions': param_grid}\n",
        "\n",
        "random_search = RandomizedSearchCV(**args_random_search) \n",
        "\n",
        "if usar_todo_dataset:\n",
        "  random_search.fit(X, y)\n",
        "else:\n",
        "  random_search.fit(X_train,y_train)\n",
        "\n",
        "\n",
        "#salvar modelo\n",
        "import os, joblib\n",
        "\n",
        "f1score = random_search.cv_results_['mean_test_score'][0]*100\n",
        "\n",
        "nome_modelo = algoritmo +'_' + target +\"_f1_\"+str(int(f1score))\n",
        "modelo_otimizado = random_search.best_estimator_\n",
        "caminho = '/content/Mineracao_dados_textos_web/modelos_salvos/'\n",
        "joblib.dump(modelo_otimizado, caminho + nome_modelo+'.joblib')\n",
        "from google.colab import files\n",
        "if 'COLAB_GPU' in os.environ and realizar_download:\n",
        "  files.download(caminho + nome_modelo+'.joblib')\n",
        "print(\"--\"*20)\n",
        "print(\"Melhores parâmetros encontrados: \")\n",
        "print(random_search.best_params_)\n",
        "print(\"--\"*20)\n",
        "print(\"Modelo salvo em: \")\n",
        "print(caminho + nome_modelo+'.joblib')"
      ],
      "execution_count": null,
      "outputs": [
        {
          "output_type": "stream",
          "text": [
            "Fitting 5 folds for each of 1 candidates, totalling 5 fits\n"
          ],
          "name": "stdout"
        },
        {
          "output_type": "stream",
          "text": [
            "[Parallel(n_jobs=-1)]: Using backend LokyBackend with 2 concurrent workers.\n",
            "[Parallel(n_jobs=-1)]: Done   1 tasks      | elapsed:   10.0s\n",
            "[Parallel(n_jobs=-1)]: Done   3 out of   5 | elapsed:   18.0s remaining:   12.0s\n",
            "[Parallel(n_jobs=-1)]: Done   5 out of   5 | elapsed:   22.7s remaining:    0.0s\n",
            "[Parallel(n_jobs=-1)]: Done   5 out of   5 | elapsed:   22.7s finished\n",
            "/usr/local/lib/python3.6/dist-packages/sklearn/decomposition/_truncated_svd.py:194: RuntimeWarning: invalid value encountered in true_divide\n",
            "  self.explained_variance_ratio_ = exp_var / full_var\n",
            "/usr/local/lib/python3.6/dist-packages/sklearn/linear_model/_logistic.py:1539: UserWarning: 'n_jobs' > 1 does not have any effect when 'solver' is set to 'liblinear'. Got 'n_jobs' = 2.\n",
            "  \" = {}.\".format(effective_n_jobs(self.n_jobs)))\n"
          ],
          "name": "stderr"
        },
        {
          "output_type": "display_data",
          "data": {
            "application/javascript": [
              "\n",
              "    async function download(id, filename, size) {\n",
              "      if (!google.colab.kernel.accessAllowed) {\n",
              "        return;\n",
              "      }\n",
              "      const div = document.createElement('div');\n",
              "      const label = document.createElement('label');\n",
              "      label.textContent = `Downloading \"${filename}\": `;\n",
              "      div.appendChild(label);\n",
              "      const progress = document.createElement('progress');\n",
              "      progress.max = size;\n",
              "      div.appendChild(progress);\n",
              "      document.body.appendChild(div);\n",
              "\n",
              "      const buffers = [];\n",
              "      let downloaded = 0;\n",
              "\n",
              "      const channel = await google.colab.kernel.comms.open(id);\n",
              "      // Send a message to notify the kernel that we're ready.\n",
              "      channel.send({})\n",
              "\n",
              "      for await (const message of channel.messages) {\n",
              "        // Send a message to notify the kernel that we're ready.\n",
              "        channel.send({})\n",
              "        if (message.buffers) {\n",
              "          for (const buffer of message.buffers) {\n",
              "            buffers.push(buffer);\n",
              "            downloaded += buffer.byteLength;\n",
              "            progress.value = downloaded;\n",
              "          }\n",
              "        }\n",
              "      }\n",
              "      const blob = new Blob(buffers, {type: 'application/binary'});\n",
              "      const a = document.createElement('a');\n",
              "      a.href = window.URL.createObjectURL(blob);\n",
              "      a.download = filename;\n",
              "      div.appendChild(a);\n",
              "      a.click();\n",
              "      div.remove();\n",
              "    }\n",
              "  "
            ],
            "text/plain": [
              "<IPython.core.display.Javascript object>"
            ]
          },
          "metadata": {
            "tags": []
          }
        },
        {
          "output_type": "display_data",
          "data": {
            "application/javascript": [
              "download(\"download_572fec9b-3262-49eb-9480-1df0888c9243\", \"logistic_regression_1_subtask_a_f1_72.joblib\", 22836758)"
            ],
            "text/plain": [
              "<IPython.core.display.Javascript object>"
            ]
          },
          "metadata": {
            "tags": []
          }
        },
        {
          "output_type": "stream",
          "text": [
            "----------------------------------------\n",
            "Melhores parâmetros encontrados: \n",
            "{'anexar_bases_externas__tamanho': 'grande', 'classificador__C': 10, 'classificador__fit_intercept': True, 'classificador__n_jobs': -1, 'classificador__penalty': 'l1', 'classificador__solver': 'liblinear', 'reducao_dimensionalidade__n_components': 257, 'reducao_dimensionalidade__svd_solver': 'auto', 'reducao_dimensionalidade__whiten': True, 'transformar_colunas__empath__n_components': 30, 'transformar_colunas__entities__reduzir__n_components': 10, 'transformar_colunas__entities__vetorizar__use_idf': False, 'transformar_colunas__tweet__reduzir__n_components': 151, 'transformar_colunas__tweet__vetorizar__ngram_range': (2, 2), 'transformar_colunas__tweet__vetorizar__tokenizer': <bound method TweetTokenizer.tokenize of <nltk.tokenize.casual.TweetTokenizer object at 0x7fd7dd6f9f28>>, 'transformar_colunas__tweet__vetorizar__use_idf': False}\n",
            "----------------------------------------\n",
            "Modelo salvo em: \n",
            "/content/Mineracao_dados_textos_web/modelos_salvos/logistic_regression_1_subtask_a_f1_72.joblib\n"
          ],
          "name": "stdout"
        }
      ]
    },
    {
      "cell_type": "markdown",
      "metadata": {
        "id": "z75LRx6heUbl",
        "colab_type": "text"
      },
      "source": [
        "###### Avaliação da busca de parâmetros"
      ]
    },
    {
      "cell_type": "code",
      "metadata": {
        "id": "cs7Wy_nomBpG",
        "colab_type": "code",
        "cellView": "form",
        "colab": {
          "base_uri": "https://localhost:8080/",
          "height": 51
        },
        "outputId": "7cdc73fe-db19-4473-9426-6dcc52225171"
      },
      "source": [
        "#@markdown Resultados da busca \n",
        "scores = random_search.cv_results_['mean_test_score']\n",
        "scores_std = random_search.cv_results_['std_test_score']\n",
        "print(\"Média do F1 score: \", round(scores[0],3),\"+/-\", round(scores_std[0],3))\n",
        "\n",
        "print(\"Melhor F1 score: \", round(random_search.best_score_,3))"
      ],
      "execution_count": null,
      "outputs": [
        {
          "output_type": "stream",
          "text": [
            "Média do F1 score:  0.727 +/- 0.005\n",
            "Melhor F1 score:  0.727\n"
          ],
          "name": "stdout"
        }
      ]
    },
    {
      "cell_type": "code",
      "metadata": {
        "id": "_JuC93udk6M3",
        "colab_type": "code",
        "cellView": "form",
        "colab": {
          "base_uri": "https://localhost:8080/",
          "height": 449
        },
        "outputId": "b317ffb0-71b9-4a33-e1ca-0871dc65768f"
      },
      "source": [
        "#@markdown Para dados de teste (X_test, y_test)\n",
        "from sklearn.metrics import classification_report, plot_confusion_matrix\n",
        "\n",
        "\n",
        "print(classification_report(y_test, \n",
        "                            modelo_otimizado.predict(X_test), \n",
        "                            target_names= \n",
        "                            binarizador_label.classes_))\n",
        "plot_confusion_matrix(modelo_otimizado, \n",
        "                      X_test, \n",
        "                      y_test, \n",
        "                      display_labels= binarizador_label.classes_,\n",
        "                      values_format= \".0f\")\n",
        "# )"
      ],
      "execution_count": null,
      "outputs": [
        {
          "output_type": "stream",
          "text": [
            "              precision    recall  f1-score   support\n",
            "\n",
            "         NOT       0.80      0.89      0.84      1763\n",
            "         OFF       0.72      0.56      0.63       879\n",
            "\n",
            "    accuracy                           0.78      2642\n",
            "   macro avg       0.76      0.72      0.74      2642\n",
            "weighted avg       0.77      0.78      0.77      2642\n",
            "\n"
          ],
          "name": "stdout"
        },
        {
          "output_type": "execute_result",
          "data": {
            "text/plain": [
              "<sklearn.metrics._plot.confusion_matrix.ConfusionMatrixDisplay at 0x7fd7dd728b38>"
            ]
          },
          "metadata": {
            "tags": []
          },
          "execution_count": 12
        },
        {
          "output_type": "display_data",
          "data": {
            "image/png": "[encoded data removed]",
            "text/plain": [
              "<Figure size 432x288 with 2 Axes>"
            ]
          },
          "metadata": {
            "tags": [],
            "needs_background": "light"
          }
        }
      ]
    },
    {
      "cell_type": "code",
      "metadata": {
        "colab_type": "code",
        "cellView": "form",
        "id": "Xp-GdnvUlMlB",
        "colab": {
          "base_uri": "https://localhost:8080/"
        },
        "outputId": "580eedc2-7898-4e8d-c172-e5530fbca808"
      },
      "source": [
        "#@markdown Para todo os dados do trainset\n",
        "\n",
        "from sklearn.metrics import classification_report, plot_confusion_matrix\n",
        "y_pred = modelo_otimizado.predict(X)\n",
        "print(classification_report(y, \n",
        "                            y_pred, \n",
        "                            target_names= \n",
        "                            binarizador_label.classes_))\n",
        "plot_confusion_matrix(modelo_otimizado, \n",
        "                      X, \n",
        "                      y, \n",
        "                      display_labels= binarizador_label.classes_,\n",
        "                      values_format= \".0f\")"
      ],
      "execution_count": null,
      "outputs": [
        {
          "output_type": "stream",
          "text": [
            "              precision    recall  f1-score   support\n",
            "\n",
            "         NOT       0.80      0.90      0.85      8815\n",
            "         OFF       0.74      0.55      0.63      4392\n",
            "\n",
            "    accuracy                           0.79     13207\n",
            "   macro avg       0.77      0.73      0.74     13207\n",
            "weighted avg       0.78      0.79      0.78     13207\n",
            "\n"
          ],
          "name": "stdout"
        },
        {
          "output_type": "execute_result",
          "data": {
            "text/plain": [
              "<sklearn.metrics._plot.confusion_matrix.ConfusionMatrixDisplay at 0x7fd81a859048>"
            ]
          },
          "metadata": {
            "tags": []
          },
          "execution_count": 13
        },
        {
          "output_type": "display_data",
          "data": {
            "image/png": "[encoded data removed]",
            "text/plain": [
              "<Figure size 432x288 with 2 Axes>"
            ]
          },
          "metadata": {
            "tags": [],
            "needs_background": "light"
          }
        }
      ]
    },
    {
      "cell_type": "markdown",
      "metadata": {
        "colab_type": "text",
        "id": "HDf3NTZmmsdH"
      },
      "source": [
        "#### Subtask B"
      ]
    },
    {
      "cell_type": "markdown",
      "metadata": {
        "colab_type": "text",
        "id": "IuaveQUomsdJ"
      },
      "source": [
        "##### Modelo testado: Logistic regression"
      ]
    },
    {
      "cell_type": "markdown",
      "metadata": {
        "colab_type": "text",
        "id": "H5mg4FmcmsdK"
      },
      "source": [
        "###### Segregação de dados de treino e de teste"
      ]
    },
    {
      "cell_type": "code",
      "metadata": {
        "colab_type": "code",
        "cellView": "form",
        "id": "kQsL0WEnmsdL",
        "colab": {
          "base_uri": "https://localhost:8080/",
          "height": 204
        },
        "outputId": "971cc439-c4dd-474c-f447-f5eaee013bfd"
      },
      "source": [
        "#@markdown train_test_split\n",
        "test_size = 0.19 #@param {type:\"slider\", min:0, max:1, step:0.01}\n",
        "target = \"subtask_b\" #@param [\"subtask_a\", \"subtask_b\", \"subtask_c\"]\n",
        "estratificar_alvo = True #@param {type:\"boolean\"}\n",
        "remover_nan = True\n",
        "from sklearn.preprocessing import LabelBinarizer\n",
        "\n",
        "from sklearn.model_selection import train_test_split\n",
        "\n",
        "X = trainset_aumentado.drop(trainset_aumentado.loc[:,trainset_aumentado.columns.str.startswith('subtask')], axis=1)\n",
        "if remover_nan:\n",
        "  y = trainset_aumentado[target].dropna()\n",
        "  X = X[trainset_aumentado[target] == trainset_aumentado[target]]\n",
        "else:\n",
        "  y = trainset_aumentado[target].fillna(\"NOT\")\n",
        "binarizador_label = LabelBinarizer()\n",
        "y = binarizador_label.fit_transform(y)\n",
        "stratify = None \n",
        "if estratificar_alvo == True:\n",
        "  stratify = y\n",
        "\n",
        "X_train, X_test, y_train, y_test = train_test_split(X, y, test_size=test_size, stratify= stratify)\n",
        "\n",
        "print(\"Quantidade de observações de teste: \", len(y_test))\n",
        "print(\"Percentual por categoria\")\n",
        "print(pd.Series(binarizador_label.inverse_transform(y_test)).value_counts()*100/len(y_test))\n",
        "print('-------------')\n",
        "print(\"Quantidade de observações de treino: \", len(y_train))\n",
        "print(\"Percentual por categoria\")\n",
        "print(pd.Series(binarizador_label.inverse_transform(y_train)).value_counts()*100/len(y_train))\n",
        "y = pd.Series(np.ravel(y))\n",
        "y_train = pd.Series(np.ravel(y_train))\n",
        "y_test = pd.Series(np.ravel(y_test))"
      ],
      "execution_count": 147,
      "outputs": [
        {
          "output_type": "stream",
          "text": [
            "Quantidade de observações de teste:  835\n",
            "Percentual por categoria\n",
            "TIN    88.143713\n",
            "UNT    11.856287\n",
            "dtype: float64\n",
            "-------------\n",
            "Quantidade de observações de treino:  3557\n",
            "Percentual por categoria\n",
            "TIN    88.079843\n",
            "UNT    11.920157\n",
            "dtype: float64\n"
          ],
          "name": "stdout"
        }
      ]
    },
    {
      "cell_type": "markdown",
      "metadata": {
        "colab_type": "text",
        "id": "Of4WYa2smsdP"
      },
      "source": [
        "###### Otimização de hiperparâmetros\n"
      ]
    },
    {
      "cell_type": "code",
      "metadata": {
        "colab_type": "code",
        "cellView": "form",
        "id": "6WBeILeymsdQ",
        "colab": {}
      },
      "source": [
        "#@markdown RandomSearchCV\n",
        "algoritmo = \"svc\" #@param ['logistic_regression_1', 'logistic_regression_2', 'knn', 'svc', 'sgdc', 'random_forest', 'ada_boost', 'extra_trees', 'grad_boost', 'xgboost']\n",
        "num_folds = 5 #@param {type:\"integer\"}\n",
        "\n",
        "# busca_randomizada = True #@param {type:\"boolean\"}\n",
        "num_inter =  5#@param {type:\"integer\"}\n",
        "usar_todo_dataset = True #@param {type:\"boolean\"}\n",
        "realizar_download = False #@param {type:\"boolean\"}\n",
        "from sklearn.preprocessing import LabelBinarizer\n",
        "from sklearn.model_selection import RandomizedSearchCV \n",
        "from sklearn.metrics import f1_score\n",
        "from sklearn.decomposition import PCA\n",
        "from sklearn.model_selection import StratifiedKFold\n",
        "import pickle\n",
        "\n",
        "\n",
        "param_grid = {**param_grid_anexar_bases_externas, \n",
        "              **param_grid_transformar_colunas, \n",
        "              # **param_grid_reducao_dimensionalidade, \n",
        "              **dict_param_grid_algoritmos[algoritmo]}\n",
        "\n",
        "\n",
        "canal_dados = Pipeline([(\"anexar_bases_externas\",\n",
        "                              Anexar_Bases_Externas()),\n",
        "                        ('transformar_colunas',\n",
        "                              transformar_colunas),\n",
        "                        # ('reducao_dimensionalidade',  \n",
        "                        #       PCA()), \n",
        "                        ('classificador', \n",
        "                              dict_algoritmos[algoritmo])\n",
        "    ])\n",
        "cv = StratifiedKFold(n_splits= num_folds, shuffle= True)\n",
        "args_random_search = {'estimator'          : canal_dados, \n",
        "                      'cv'                 : cv, \n",
        "                      'scoring'            :'f1_macro', \n",
        "                      'n_jobs'             : -1,\n",
        "                      'verbose'            : 10,\n",
        "                      'n_iter'             : num_inter,\n",
        "                      'param_distributions': param_grid}\n",
        "\n",
        "random_search = RandomizedSearchCV(**args_random_search) \n",
        "\n",
        "if usar_todo_dataset:\n",
        "  random_search.fit(X, y)\n",
        "else:\n",
        "  random_search.fit(X_train,y_train)\n",
        "\n",
        "\n",
        "#salvar modelo\n",
        "import os, joblib\n",
        "\n",
        "f1score = random_search.cv_results_['mean_test_score'][0]*100\n",
        "\n",
        "nome_modelo = algoritmo +'_' + target +\"_f1_\"+str(int(f1score))\n",
        "modelo_otimizado = random_search.best_estimator_\n",
        "caminho = '/content/Mineracao_dados_textos_web/modelos_salvos/'\n",
        "joblib.dump(modelo_otimizado, caminho + nome_modelo+'.joblib')\n",
        "from google.colab import files\n",
        "if 'COLAB_GPU' in os.environ and realizar_download:\n",
        "  files.download(caminho + nome_modelo+'.joblib')\n",
        "print(\"--\"*20)\n",
        "print(\"Melhores parâmetros encontrados: \")\n",
        "print(random_search.best_params_)\n",
        "print(\"--\"*20)\n",
        "print(\"Modelo salvo em: \")\n",
        "print(caminho + nome_modelo+'.joblib')"
      ],
      "execution_count": null,
      "outputs": []
    },
    {
      "cell_type": "markdown",
      "metadata": {
        "colab_type": "text",
        "id": "USN7jMNQmsdU"
      },
      "source": [
        "###### Avaliação da busca de parâmetros"
      ]
    },
    {
      "cell_type": "code",
      "metadata": {
        "colab_type": "code",
        "cellView": "form",
        "id": "697pQvwPmsdU",
        "colab": {
          "base_uri": "https://localhost:8080/",
          "height": 51
        },
        "outputId": "fd8cbe52-409a-483e-c837-d154ca546ded"
      },
      "source": [
        "#@markdown Resultados da busca \n",
        "scores = random_search.cv_results_['mean_test_score']\n",
        "scores_std = random_search.cv_results_['std_test_score']\n",
        "print(\"Média do F1 score: \", round(scores[0],3),\"+/-\", round(scores_std[0],3))\n",
        "\n",
        "print(\"Melhor F1 score: \", round(random_search.best_score_,3))"
      ],
      "execution_count": 156,
      "outputs": [
        {
          "output_type": "stream",
          "text": [
            "Média do F1 score:  0.468 +/- 0.0\n",
            "Melhor F1 score:  0.534\n"
          ],
          "name": "stdout"
        }
      ]
    },
    {
      "cell_type": "code",
      "metadata": {
        "colab_type": "code",
        "cellView": "form",
        "id": "gftWpVOvmsdY",
        "colab": {
          "base_uri": "https://localhost:8080/",
          "height": 449
        },
        "outputId": "b3858119-fc65-45d1-f49c-48dc2081487c"
      },
      "source": [
        "#@markdown Para dados de teste (X_test, y_test)\n",
        "from sklearn.metrics import classification_report, plot_confusion_matrix\n",
        "\n",
        "y_pred = modelo_otimizado.predict(X_test)\n",
        "print(classification_report(y_test, \n",
        "                            y_pred, \n",
        "                            target_names= \n",
        "                            binarizador_label.classes_))\n",
        "plot_confusion_matrix(modelo_otimizado, \n",
        "                      X_test, \n",
        "                      y_test, \n",
        "                      display_labels= binarizador_label.classes_,\n",
        "                      values_format= \".0f\")\n",
        "# )"
      ],
      "execution_count": 157,
      "outputs": [
        {
          "output_type": "stream",
          "text": [
            "              precision    recall  f1-score   support\n",
            "\n",
            "         TIN       0.90      0.99      0.94       736\n",
            "         UNT       0.74      0.20      0.32        99\n",
            "\n",
            "    accuracy                           0.90       835\n",
            "   macro avg       0.82      0.60      0.63       835\n",
            "weighted avg       0.88      0.90      0.87       835\n",
            "\n"
          ],
          "name": "stdout"
        },
        {
          "output_type": "execute_result",
          "data": {
            "text/plain": [
              "<sklearn.metrics._plot.confusion_matrix.ConfusionMatrixDisplay at 0x7f3a7350b1d0>"
            ]
          },
          "metadata": {
            "tags": []
          },
          "execution_count": 157
        },
        {
          "output_type": "display_data",
          "data": {
            "image/png": "[encoded data removed]",
            "text/plain": [
              "<Figure size 432x288 with 2 Axes>"
            ]
          },
          "metadata": {
            "tags": [],
            "needs_background": "light"
          }
        }
      ]
    },
    {
      "cell_type": "code",
      "metadata": {
        "colab_type": "code",
        "cellView": "form",
        "id": "lgK0G160msde",
        "colab": {}
      },
      "source": [
        "#@markdown Para todo os dados do trainset\n",
        "\n",
        "from sklearn.metrics import classification_report, plot_confusion_matrix\n",
        "y_pred = modelo_otimizado.predict(X)\n",
        "print(classification_report(y, \n",
        "                            y_pred, \n",
        "                            target_names= \n",
        "                            binarizador_label.classes_))\n",
        "plot_confusion_matrix(modelo_otimizado, \n",
        "                      X, \n",
        "                      y, \n",
        "                      display_labels= binarizador_label.classes_,\n",
        "                      values_format= \".0f\")"
      ],
      "execution_count": null,
      "outputs": []
    },
    {
      "cell_type": "markdown",
      "metadata": {
        "id": "RB8DWNizFko7",
        "colab_type": "text"
      },
      "source": [
        "## Resultados"
      ]
    },
    {
      "cell_type": "markdown",
      "metadata": {
        "id": "RSyKShedt1qQ",
        "colab_type": "text"
      },
      "source": [
        "$${\\text{Precision}}={\\frac {tp}{tp+fp}}$$\n",
        "$${\\text{Recall}}={\\frac {tp}{tp+fn}}$$\n",
        "tp= true positive/positivo verdadeiro \n",
        "\n",
        "fp= false positive/positivo falso\n",
        "\n",
        "tn= true negative/negativo verdadeiro\n",
        "\n",
        "fn= false negative/negativo falso\n",
        "\n"
      ]
    },
    {
      "cell_type": "markdown",
      "metadata": {
        "id": "Xevs3Rpzu6SG",
        "colab_type": "text"
      },
      "source": [
        "$${\\text{F1 measure}}=2\\cdot {\\frac {\\mathrm {Precision} \\cdot \\mathrm {Recall} }{\\mathrm {Precision} +\\mathrm {Recall} }}\n",
        "$$"
      ]
    },
    {
      "cell_type": "markdown",
      "metadata": {
        "id": "FjF4pbskmGPO",
        "colab_type": "text"
      },
      "source": [
        "### Avaliação do modelo final para subtask A\n"
      ]
    },
    {
      "cell_type": "code",
      "metadata": {
        "id": "-bJJ9FQ6Gw0B",
        "colab_type": "code",
        "cellView": "form",
        "colab": {}
      },
      "source": [
        "#@markdown Carregar modelo de classificação \n",
        "\n",
        "#@markdown modelos salvos estão localizados em '/content/Mineracao_dados_textos_web/modelos_salvos/'\n",
        "from joblib import load\n",
        "from sklearn.preprocessing import LabelBinarizer\n",
        "import pandas as pd\n",
        "caminho_modelo = \"/content/drive/My Drive/Mestrado/Disciplinas/Minerac\\u0327a\\u0303o de Textos e da Web/subtask_a/logistic_regression_1_subtask_a_f1_74.joblib\" #@param {type:\"string\"}\n",
        "\n",
        "\n",
        "modelo_subtask_a = load(caminho_modelo)\n",
        "\n",
        "\n",
        "X = trainset_aumentado.drop(trainset_aumentado.loc[:,trainset_aumentado.columns.str.startswith('subtask')], axis=1)\n",
        "target='subtask_a'\n",
        "binarizador_tarefa_a = LabelBinarizer()\n",
        "y = binarizador_tarefa_a.fit_transform(trainset_aumentado[target].dropna())\n",
        "y = pd.Series(np.ravel(y))"
      ],
      "execution_count": 48,
      "outputs": []
    },
    {
      "cell_type": "markdown",
      "metadata": {
        "id": "bmEejijtAauT",
        "colab_type": "text"
      },
      "source": [
        "Principais configurações do algoritmo\n",
        "\n",
        "LogisticRegression:\n",
        "  \n",
        "                  C=1.0,\n",
        "                  fit_intercept=False,\n",
        "                  l1_ratio=None, \n",
        "                  max_iter=100,\n",
        "                  penalty='l1',                  \n",
        "                  solver='saga'.                 \n",
        "\n",
        "Uso da database de tamanho médio do spacy\n",
        "\n",
        "Uso de empath, embeddings, sentimento, NER\n",
        "\n",
        "NGram(1,1) na vetorização dos tweets\n",
        "\n",
        "Redução via PCA para 259 componentes                                   "
      ]
    },
    {
      "cell_type": "code",
      "metadata": {
        "id": "mNAdIfH5-ppO",
        "colab_type": "code",
        "colab": {
          "base_uri": "https://localhost:8080/",
          "height": 442
        },
        "outputId": "727b4ddc-04b4-4a5a-ad7f-610153c422fe"
      },
      "source": [
        "modelo_subtask_a.get_params"
      ],
      "execution_count": 70,
      "outputs": [
        {
          "output_type": "execute_result",
          "data": {
            "text/plain": [
              "<bound method Pipeline.get_params of Pipeline(memory=None,\n",
              "         steps=[('anexar_bases_externas',\n",
              "                 Anexar_Bases_Externas(tamanho='medio')),\n",
              "                ('transformar_colunas',\n",
              "                 ColumnTransformer(n_jobs=None, remainder='passthrough',\n",
              "                                   sparse_threshold=0.3,\n",
              "                                   transformer_weights=None,\n",
              "                                   transformers=[('tweet',\n",
              "                                                  Pipeline(memory=None,\n",
              "                                                           steps=[('vetorizar',\n",
              "                                                                   TfidfVectorizer(analyzer='word',\n",
              "                                                                                   binary=False,\n",
              "                                                                                   decode_error='strict',\n",
              "                                                                                   dty...\n",
              "                 PCA(copy=True, iterated_power='auto', n_components=259,\n",
              "                     random_state=None, svd_solver='auto', tol=0.0,\n",
              "                     whiten=False)),\n",
              "                ('classificador',\n",
              "                 LogisticRegression(C=1.0, class_weight=None, dual=False,\n",
              "                                    fit_intercept=False, intercept_scaling=1,\n",
              "                                    l1_ratio=None, max_iter=100,\n",
              "                                    multi_class='auto', n_jobs=-1, penalty='l1',\n",
              "                                    random_state=None, solver='saga',\n",
              "                                    tol=0.0001, verbose=0, warm_start=False))],\n",
              "         verbose=False)>"
            ]
          },
          "metadata": {
            "tags": []
          },
          "execution_count": 70
        }
      ]
    },
    {
      "cell_type": "code",
      "metadata": {
        "id": "MnQIxxkUQSM1",
        "colab_type": "code",
        "cellView": "form",
        "colab": {
          "base_uri": "https://localhost:8080/",
          "height": 453
        },
        "outputId": "4f3310e9-9837-47eb-efa0-1be7b1cb6a74"
      },
      "source": [
        "#@markdown Classification report e matriz de confusão\n",
        "\n",
        "from sklearn.metrics import classification_report, plot_confusion_matrix\n",
        "y_pred = modelo_subtask_a.predict(X)\n",
        "print(classification_report(y, \n",
        "                            y_pred, \n",
        "                            target_names= \n",
        "                            binarizador_tarefa_a.classes_))\n",
        "plot_confusion_matrix(modelo_subtask_a, \n",
        "                      X, \n",
        "                      y, \n",
        "                      display_labels= binarizador_tarefa_a.classes_,\n",
        "                      values_format= \".0f\")"
      ],
      "execution_count": 49,
      "outputs": [
        {
          "output_type": "stream",
          "text": [
            "              precision    recall  f1-score   support\n",
            "\n",
            "         NOT       0.86      0.80      0.83      8815\n",
            "         OFF       0.64      0.73      0.69      4392\n",
            "\n",
            "    accuracy                           0.78     13207\n",
            "   macro avg       0.75      0.77      0.76     13207\n",
            "weighted avg       0.79      0.78      0.78     13207\n",
            "\n"
          ],
          "name": "stdout"
        },
        {
          "output_type": "execute_result",
          "data": {
            "text/plain": [
              "<sklearn.metrics._plot.confusion_matrix.ConfusionMatrixDisplay at 0x7f3a7ad23320>"
            ]
          },
          "metadata": {
            "tags": []
          },
          "execution_count": 49
        },
        {
          "output_type": "display_data",
          "data": {
            "image/png": "[encoded data removed]",
            "text/plain": [
              "<Figure size 432x288 with 2 Axes>"
            ]
          },
          "metadata": {
            "tags": [],
            "needs_background": "light"
          }
        }
      ]
    },
    {
      "cell_type": "code",
      "metadata": {
        "colab_type": "code",
        "cellView": "form",
        "id": "PMLpRQ5if8WU",
        "colab": {
          "base_uri": "https://localhost:8080/",
          "height": 503
        },
        "outputId": "8c9c328f-e5de-412c-a1da-5a80df893488"
      },
      "source": [
        "#@markdown Classificação dos tweets da subtask\n",
        "modelo_subtask_a.fit(X,y)\n",
        "y_pred = pd.Series(binarizador_tarefa_a.inverse_transform(modelo_subtask_a.predict(testset_a_aumentado)),name= 'subtask_a')\n",
        "y_pred.index = testset_a_aumentado.index\n",
        "resultado_subtask_a = pd.concat([testset_a_aumentado[['tweet']] , y_pred], axis=1)\n",
        "resultado_subtask_a['subtask_a'].hist()\n",
        "print(resultado_subtask_a.head(5))\n",
        "print(resultado_subtask_a.subtask_a.value_counts())\n"
      ],
      "execution_count": 54,
      "outputs": [
        {
          "output_type": "stream",
          "text": [
            "/usr/local/lib/python3.6/dist-packages/sklearn/decomposition/_truncated_svd.py:194: RuntimeWarning: invalid value encountered in true_divide\n",
            "  self.explained_variance_ratio_ = exp_var / full_var\n",
            "/usr/local/lib/python3.6/dist-packages/sklearn/linear_model/_sag.py:330: ConvergenceWarning: The max_iter was reached which means the coef_ did not converge\n",
            "  \"the coef_ did not converge\", ConvergenceWarning)\n"
          ],
          "name": "stderr"
        },
        {
          "output_type": "stream",
          "text": [
            "                                                   tweet subtask_a\n",
            "id                                                                \n",
            "15923  whoisq wherestheserver dumpnike declasfisa dem...       OFF\n",
            "27014  constitutionday revere conservative hate progr...       OFF\n",
            "30530  foxnews nra maga potus trump 2ndamendment rnc ...       NOT\n",
            "13876  watch boomer get news parole make smile wentwo...       NOT\n",
            "60133  nopasaran unity demo oppose far right london a...       NOT\n",
            "NOT    584\n",
            "OFF    276\n",
            "Name: subtask_a, dtype: int64\n"
          ],
          "name": "stdout"
        },
        {
          "output_type": "display_data",
          "data": {
            "image/png": "[encoded data removed]",
            "text/plain": [
              "<Figure size 432x288 with 1 Axes>"
            ]
          },
          "metadata": {
            "tags": [],
            "needs_background": "light"
          }
        }
      ]
    },
    {
      "cell_type": "code",
      "metadata": {
        "id": "2FlgxiHcXJDq",
        "colab_type": "code",
        "cellView": "form",
        "colab": {
          "base_uri": "https://localhost:8080/",
          "height": 34
        },
        "outputId": "679172aa-9663-4e0d-9042-4dfd67741ca5"
      },
      "source": [
        "#@markdown Salvar e realizar download do arquivo resultante\n",
        "from google.colab import files\n",
        "resultado_subtask_a.drop(\"tweet\", axis=1).to_csv('testset-levela-classificado.csv',sep=' ')\n",
        "print(\"Salvo em '/content/testset-levela-classificado.csv'!\")\n",
        "if 'COLAB_GPU' in os.environ:\n",
        "  files.download('/content/testset-levela-classificado.csv')\n"
      ],
      "execution_count": 58,
      "outputs": [
        {
          "output_type": "stream",
          "text": [
            "Salvo em '/content/testset-levela-classificado.csv'!\n"
          ],
          "name": "stdout"
        },
        {
          "output_type": "display_data",
          "data": {
            "application/javascript": [
              "\n",
              "    async function download(id, filename, size) {\n",
              "      if (!google.colab.kernel.accessAllowed) {\n",
              "        return;\n",
              "      }\n",
              "      const div = document.createElement('div');\n",
              "      const label = document.createElement('label');\n",
              "      label.textContent = `Downloading \"${filename}\": `;\n",
              "      div.appendChild(label);\n",
              "      const progress = document.createElement('progress');\n",
              "      progress.max = size;\n",
              "      div.appendChild(progress);\n",
              "      document.body.appendChild(div);\n",
              "\n",
              "      const buffers = [];\n",
              "      let downloaded = 0;\n",
              "\n",
              "      const channel = await google.colab.kernel.comms.open(id);\n",
              "      // Send a message to notify the kernel that we're ready.\n",
              "      channel.send({})\n",
              "\n",
              "      for await (const message of channel.messages) {\n",
              "        // Send a message to notify the kernel that we're ready.\n",
              "        channel.send({})\n",
              "        if (message.buffers) {\n",
              "          for (const buffer of message.buffers) {\n",
              "            buffers.push(buffer);\n",
              "            downloaded += buffer.byteLength;\n",
              "            progress.value = downloaded;\n",
              "          }\n",
              "        }\n",
              "      }\n",
              "      const blob = new Blob(buffers, {type: 'application/binary'});\n",
              "      const a = document.createElement('a');\n",
              "      a.href = window.URL.createObjectURL(blob);\n",
              "      a.download = filename;\n",
              "      div.appendChild(a);\n",
              "      a.click();\n",
              "      div.remove();\n",
              "    }\n",
              "  "
            ],
            "text/plain": [
              "<IPython.core.display.Javascript object>"
            ]
          },
          "metadata": {
            "tags": []
          }
        },
        {
          "output_type": "display_data",
          "data": {
            "application/javascript": [
              "download(\"download_bf82e1e7-3b27-4431-9a60-c13ad993c862\", \"testset-levela-classificado.csv\", 8613)"
            ],
            "text/plain": [
              "<IPython.core.display.Javascript object>"
            ]
          },
          "metadata": {
            "tags": []
          }
        }
      ]
    },
    {
      "cell_type": "markdown",
      "metadata": {
        "colab_type": "text",
        "id": "HPcp2CD2jPlP"
      },
      "source": [
        "### Avaliação de conjunto de modelos em votação para subtask A\n"
      ]
    },
    {
      "cell_type": "code",
      "metadata": {
        "colab_type": "code",
        "cellView": "form",
        "id": "N3F9MWJIjPlR",
        "colab": {
          "base_uri": "https://localhost:8080/",
          "height": 0
        },
        "outputId": "08623bac-3522-4c97-de45-18d2177846b1"
      },
      "source": [
        "#@markdown Iniciar classificador por votação\n",
        "\n",
        "\n",
        "from joblib import load\n",
        "from sklearn.preprocessing import LabelBinarizer\n",
        "import pandas as pd\n",
        "from sklearn.ensemble import VotingClassifier\n",
        "from joblib import load\n",
        "target = \"subtask_a\"\n",
        "\n",
        "\n",
        "\n",
        "lista_caminho_modelos =[\n",
        "                        \"/content/drive/My Drive/Mestrado/Disciplinas/Mineração de Textos e da Web/subtask_a/logistic_regression_1_subtask_a_f1_74.joblib\",\n",
        "                        \"/content/drive/My Drive/Mestrado/Disciplinas/Mineração de Textos e da Web/subtask_a/gaussiannb_subtask_a_f1_61.joblib\",\n",
        "                        \"/content/drive/My Drive/Mestrado/Disciplinas/Mineração de Textos e da Web/subtask_a/grad_boost_subtask_a_f1_51.joblib\",\n",
        "                        \"/content/drive/My Drive/Mestrado/Disciplinas/Mineração de Textos e da Web/subtask_b/gaussiannb_subtask_b_f1_56.joblib\",\n",
        "                        # \"/content/drive/My Drive/Mestrado/Disciplinas/Mineração de Textos e da Web/subtask_a/xgboost_subtask_a_f1_68.joblib\",\n",
        "                        \"/content/drive/My Drive/Mestrado/Disciplinas/Mineração de Textos e da Web/subtask_a/svc_subtask_a_f1_72.joblib\",\n",
        "                        # # \"/content/drive/My Drive/Mestrado/Disciplinas/Mineração de Textos e da Web/subtask_b/svc_subtask_b_f1_53.joblib\",\n",
        "                        # \"/content/drive/My Drive/Mestrado/Disciplinas/Mineração de Textos e da Web/subtask_b/xgboost_subtask_b_f1_51.joblib\",\n",
        "                        # \"/content/drive/My Drive/Mestrado/Disciplinas/Mineração de Textos e da Web/subtask_b/sgdc_subtask_b_f1_47.joblib\",\n",
        "                        # \"/content/drive/My Drive/Mestrado/Disciplinas/Mineração de Textos e da Web/subtask_b/ada_boost_subtask_b_f1_47.joblib\",\n",
        "                        # \"/content/drive/My Drive/Mestrado/Disciplinas/Mineração de Textos e da Web/subtask_b/xgboost_subtask_b_f1_48.joblib\",\n",
        "                        # \"/content/drive/My Drive/Mestrado/Disciplinas/Mineração de Textos e da Web/subtask_b/xgboost_subtask_b_f1_47.joblib\",\n",
        "                        # \"\",\n",
        "\n",
        "                        \n",
        "                        ]\n",
        "\n",
        "\n",
        "lista_modelos = []\n",
        "for i, modelo in enumerate(lista_caminho_modelos):\n",
        "  print(i)\n",
        "  print(modelo)\n",
        "  lista_modelos.append(('modelo'+ str(i),load(modelo)))\n",
        "\n",
        "voting_classifier_a = VotingClassifier(lista_modelos, voting= 'soft', n_jobs = -1)\n",
        "\n",
        "\n",
        "X = trainset_aumentado\n",
        "X = X[trainset_aumentado[target] == trainset_aumentado[target]]\n",
        "X = X.drop(X.loc[:,trainset_aumentado.columns.str.startswith('subtask')], axis=1)\n",
        "\n",
        "binarizador_tarefa_a = LabelBinarizer()\n",
        "y = binarizador_tarefa_a.fit_transform(trainset_aumentado[target].dropna())\n",
        "y = pd.Series(np.ravel(y))"
      ],
      "execution_count": 40,
      "outputs": [
        {
          "output_type": "stream",
          "text": [
            "0\n",
            "/content/drive/My Drive/Mestrado/Disciplinas/Mineração de Textos e da Web/subtask_a/logistic_regression_1_subtask_a_f1_74.joblib\n",
            "1\n",
            "/content/drive/My Drive/Mestrado/Disciplinas/Mineração de Textos e da Web/subtask_a/gaussiannb_subtask_a_f1_61.joblib\n"
          ],
          "name": "stdout"
        },
        {
          "output_type": "stream",
          "text": [
            "/usr/local/lib/python3.6/dist-packages/sklearn/base.py:318: UserWarning: Trying to unpickle estimator TfidfTransformer from version 0.23.1 when using version 0.22.2.post1. This might lead to breaking code or invalid results. Use at your own risk.\n",
            "  UserWarning)\n",
            "/usr/local/lib/python3.6/dist-packages/sklearn/base.py:318: UserWarning: Trying to unpickle estimator TfidfVectorizer from version 0.23.1 when using version 0.22.2.post1. This might lead to breaking code or invalid results. Use at your own risk.\n",
            "  UserWarning)\n",
            "/usr/local/lib/python3.6/dist-packages/sklearn/base.py:318: UserWarning: Trying to unpickle estimator TruncatedSVD from version 0.23.1 when using version 0.22.2.post1. This might lead to breaking code or invalid results. Use at your own risk.\n",
            "  UserWarning)\n",
            "/usr/local/lib/python3.6/dist-packages/sklearn/base.py:318: UserWarning: Trying to unpickle estimator Pipeline from version 0.23.1 when using version 0.22.2.post1. This might lead to breaking code or invalid results. Use at your own risk.\n",
            "  UserWarning)\n",
            "/usr/local/lib/python3.6/dist-packages/sklearn/base.py:318: UserWarning: Trying to unpickle estimator ColumnTransformer from version 0.23.1 when using version 0.22.2.post1. This might lead to breaking code or invalid results. Use at your own risk.\n",
            "  UserWarning)\n",
            "/usr/local/lib/python3.6/dist-packages/sklearn/base.py:318: UserWarning: Trying to unpickle estimator PCA from version 0.23.1 when using version 0.22.2.post1. This might lead to breaking code or invalid results. Use at your own risk.\n",
            "  UserWarning)\n",
            "/usr/local/lib/python3.6/dist-packages/sklearn/base.py:318: UserWarning: Trying to unpickle estimator GaussianNB from version 0.23.1 when using version 0.22.2.post1. This might lead to breaking code or invalid results. Use at your own risk.\n",
            "  UserWarning)\n"
          ],
          "name": "stderr"
        },
        {
          "output_type": "stream",
          "text": [
            "2\n",
            "/content/drive/My Drive/Mestrado/Disciplinas/Mineração de Textos e da Web/subtask_a/grad_boost_subtask_a_f1_51.joblib\n",
            "3\n",
            "/content/drive/My Drive/Mestrado/Disciplinas/Mineração de Textos e da Web/subtask_b/gaussiannb_subtask_b_f1_56.joblib\n",
            "4\n",
            "/content/drive/My Drive/Mestrado/Disciplinas/Mineração de Textos e da Web/subtask_a/svc_subtask_a_f1_72.joblib\n"
          ],
          "name": "stdout"
        }
      ]
    },
    {
      "cell_type": "code",
      "metadata": {
        "colab_type": "code",
        "cellView": "form",
        "id": "AraHNejAjPlY",
        "colab": {
          "base_uri": "https://localhost:8080/",
          "height": 51
        },
        "outputId": "6cc0cd46-ae76-4482-8bef-5f95f975b331"
      },
      "source": [
        "#@markdown Cross validation\n",
        "num_folds = 5 #@param {type:\"integer\"}\n",
        "\n",
        "from sklearn.model_selection import cross_validate\n",
        "\n",
        "cross_validation_modelo_a = cross_validate(voting_classifier_a, X, y, \n",
        "                        scoring= \"f1_macro\",\n",
        "                        cv= StratifiedKFold(n_splits= num_folds, shuffle= True),\n",
        "                        return_train_score= True)\n",
        "\n",
        "scores_treino_modelo_a = cross_validation_modelo_a['train_score'].mean()\n",
        "\n",
        "scores_teste_modelo_a = cross_validation_modelo_a['test_score'].mean()\n",
        "\n",
        "print(\"Média do F1 score de treinamento: \", round(scores_treino_modelo_a,3))\n",
        "\n",
        "print(\"Média do F1 score de teste: \", round(scores_teste_modelo_a,3))"
      ],
      "execution_count": null,
      "outputs": [
        {
          "output_type": "stream",
          "text": [
            "Média do F1 score de treinamento:  0.748\n",
            "Média do F1 score de teste:  0.723\n"
          ],
          "name": "stdout"
        }
      ]
    },
    {
      "cell_type": "code",
      "metadata": {
        "colab_type": "code",
        "cellView": "form",
        "id": "J-vRATcOjPld",
        "colab": {
          "base_uri": "https://localhost:8080/",
          "height": 0
        },
        "outputId": "f7f38e71-ad55-4f95-e264-5f6e50082dee"
      },
      "source": [
        "#@markdown Classification report e matriz de confusão\n",
        "\n",
        "from sklearn.metrics import classification_report, plot_confusion_matrix\n",
        "y_pred = voting_classifier_a.fit(X,y).predict(X)\n",
        "print(classification_report(y, \n",
        "                            y_pred, \n",
        "                            target_names= \n",
        "                            binarizador_tarefa_a.classes_))\n",
        "plot_confusion_matrix(voting_classifier_a, \n",
        "                      X, \n",
        "                      y, \n",
        "                      display_labels= binarizador_tarefa_a.classes_,\n",
        "                      values_format= \".0f\")"
      ],
      "execution_count": 41,
      "outputs": [
        {
          "output_type": "error",
          "ename": "KeyboardInterrupt",
          "evalue": "ignored",
          "traceback": [
            "\u001b[0;31m---------------------------------------------------------------------------\u001b[0m",
            "\u001b[0;31mKeyboardInterrupt\u001b[0m                         Traceback (most recent call last)",
            "\u001b[0;32m<ipython-input-41-37e656da9b05>\u001b[0m in \u001b[0;36m<module>\u001b[0;34m()\u001b[0m\n\u001b[1;32m      2\u001b[0m \u001b[0;34m\u001b[0m\u001b[0m\n\u001b[1;32m      3\u001b[0m \u001b[0;32mfrom\u001b[0m \u001b[0msklearn\u001b[0m\u001b[0;34m.\u001b[0m\u001b[0mmetrics\u001b[0m \u001b[0;32mimport\u001b[0m \u001b[0mclassification_report\u001b[0m\u001b[0;34m,\u001b[0m \u001b[0mplot_confusion_matrix\u001b[0m\u001b[0;34m\u001b[0m\u001b[0;34m\u001b[0m\u001b[0m\n\u001b[0;32m----> 4\u001b[0;31m \u001b[0my_pred\u001b[0m \u001b[0;34m=\u001b[0m \u001b[0mvoting_classifier_a\u001b[0m\u001b[0;34m.\u001b[0m\u001b[0mfit\u001b[0m\u001b[0;34m(\u001b[0m\u001b[0mX\u001b[0m\u001b[0;34m,\u001b[0m\u001b[0my\u001b[0m\u001b[0;34m)\u001b[0m\u001b[0;34m.\u001b[0m\u001b[0mpredict\u001b[0m\u001b[0;34m(\u001b[0m\u001b[0mX\u001b[0m\u001b[0;34m)\u001b[0m\u001b[0;34m\u001b[0m\u001b[0;34m\u001b[0m\u001b[0m\n\u001b[0m\u001b[1;32m      5\u001b[0m print(classification_report(y, \n\u001b[1;32m      6\u001b[0m                             \u001b[0my_pred\u001b[0m\u001b[0;34m,\u001b[0m\u001b[0;34m\u001b[0m\u001b[0;34m\u001b[0m\u001b[0m\n",
            "\u001b[0;32m/usr/local/lib/python3.6/dist-packages/sklearn/ensemble/_voting.py\u001b[0m in \u001b[0;36mfit\u001b[0;34m(self, X, y, sample_weight)\u001b[0m\n\u001b[1;32m    220\u001b[0m         \u001b[0mtransformed_y\u001b[0m \u001b[0;34m=\u001b[0m \u001b[0mself\u001b[0m\u001b[0;34m.\u001b[0m\u001b[0mle_\u001b[0m\u001b[0;34m.\u001b[0m\u001b[0mtransform\u001b[0m\u001b[0;34m(\u001b[0m\u001b[0my\u001b[0m\u001b[0;34m)\u001b[0m\u001b[0;34m\u001b[0m\u001b[0;34m\u001b[0m\u001b[0m\n\u001b[1;32m    221\u001b[0m \u001b[0;34m\u001b[0m\u001b[0m\n\u001b[0;32m--> 222\u001b[0;31m         \u001b[0;32mreturn\u001b[0m \u001b[0msuper\u001b[0m\u001b[0;34m(\u001b[0m\u001b[0;34m)\u001b[0m\u001b[0;34m.\u001b[0m\u001b[0mfit\u001b[0m\u001b[0;34m(\u001b[0m\u001b[0mX\u001b[0m\u001b[0;34m,\u001b[0m \u001b[0mtransformed_y\u001b[0m\u001b[0;34m,\u001b[0m \u001b[0msample_weight\u001b[0m\u001b[0;34m)\u001b[0m\u001b[0;34m\u001b[0m\u001b[0;34m\u001b[0m\u001b[0m\n\u001b[0m\u001b[1;32m    223\u001b[0m \u001b[0;34m\u001b[0m\u001b[0m\n\u001b[1;32m    224\u001b[0m     \u001b[0;32mdef\u001b[0m \u001b[0mpredict\u001b[0m\u001b[0;34m(\u001b[0m\u001b[0mself\u001b[0m\u001b[0;34m,\u001b[0m \u001b[0mX\u001b[0m\u001b[0;34m)\u001b[0m\u001b[0;34m:\u001b[0m\u001b[0;34m\u001b[0m\u001b[0;34m\u001b[0m\u001b[0m\n",
            "\u001b[0;32m/usr/local/lib/python3.6/dist-packages/sklearn/ensemble/_voting.py\u001b[0m in \u001b[0;36mfit\u001b[0;34m(self, X, y, sample_weight)\u001b[0m\n\u001b[1;32m     66\u001b[0m                 delayed(_parallel_fit_estimator)(clone(clf), X, y,\n\u001b[1;32m     67\u001b[0m                                                  sample_weight=sample_weight)\n\u001b[0;32m---> 68\u001b[0;31m                 \u001b[0;32mfor\u001b[0m \u001b[0mclf\u001b[0m \u001b[0;32min\u001b[0m \u001b[0mclfs\u001b[0m \u001b[0;32mif\u001b[0m \u001b[0mclf\u001b[0m \u001b[0;32mnot\u001b[0m \u001b[0;32min\u001b[0m \u001b[0;34m(\u001b[0m\u001b[0;32mNone\u001b[0m\u001b[0;34m,\u001b[0m \u001b[0;34m'drop'\u001b[0m\u001b[0;34m)\u001b[0m\u001b[0;34m\u001b[0m\u001b[0;34m\u001b[0m\u001b[0m\n\u001b[0m\u001b[1;32m     69\u001b[0m             )\n\u001b[1;32m     70\u001b[0m \u001b[0;34m\u001b[0m\u001b[0m\n",
            "\u001b[0;32m/usr/local/lib/python3.6/dist-packages/joblib/parallel.py\u001b[0m in \u001b[0;36m__call__\u001b[0;34m(self, iterable)\u001b[0m\n\u001b[1;32m   1040\u001b[0m \u001b[0;34m\u001b[0m\u001b[0m\n\u001b[1;32m   1041\u001b[0m             \u001b[0;32mwith\u001b[0m \u001b[0mself\u001b[0m\u001b[0;34m.\u001b[0m\u001b[0m_backend\u001b[0m\u001b[0;34m.\u001b[0m\u001b[0mretrieval_context\u001b[0m\u001b[0;34m(\u001b[0m\u001b[0;34m)\u001b[0m\u001b[0;34m:\u001b[0m\u001b[0;34m\u001b[0m\u001b[0;34m\u001b[0m\u001b[0m\n\u001b[0;32m-> 1042\u001b[0;31m                 \u001b[0mself\u001b[0m\u001b[0;34m.\u001b[0m\u001b[0mretrieve\u001b[0m\u001b[0;34m(\u001b[0m\u001b[0;34m)\u001b[0m\u001b[0;34m\u001b[0m\u001b[0;34m\u001b[0m\u001b[0m\n\u001b[0m\u001b[1;32m   1043\u001b[0m             \u001b[0;31m# Make sure that we get a last message telling us we are done\u001b[0m\u001b[0;34m\u001b[0m\u001b[0;34m\u001b[0m\u001b[0;34m\u001b[0m\u001b[0m\n\u001b[1;32m   1044\u001b[0m             \u001b[0melapsed_time\u001b[0m \u001b[0;34m=\u001b[0m \u001b[0mtime\u001b[0m\u001b[0;34m.\u001b[0m\u001b[0mtime\u001b[0m\u001b[0;34m(\u001b[0m\u001b[0;34m)\u001b[0m \u001b[0;34m-\u001b[0m \u001b[0mself\u001b[0m\u001b[0;34m.\u001b[0m\u001b[0m_start_time\u001b[0m\u001b[0;34m\u001b[0m\u001b[0;34m\u001b[0m\u001b[0m\n",
            "\u001b[0;32m/usr/local/lib/python3.6/dist-packages/joblib/parallel.py\u001b[0m in \u001b[0;36mretrieve\u001b[0;34m(self)\u001b[0m\n\u001b[1;32m    919\u001b[0m             \u001b[0;32mtry\u001b[0m\u001b[0;34m:\u001b[0m\u001b[0;34m\u001b[0m\u001b[0;34m\u001b[0m\u001b[0m\n\u001b[1;32m    920\u001b[0m                 \u001b[0;32mif\u001b[0m \u001b[0mgetattr\u001b[0m\u001b[0;34m(\u001b[0m\u001b[0mself\u001b[0m\u001b[0;34m.\u001b[0m\u001b[0m_backend\u001b[0m\u001b[0;34m,\u001b[0m \u001b[0;34m'supports_timeout'\u001b[0m\u001b[0;34m,\u001b[0m \u001b[0;32mFalse\u001b[0m\u001b[0;34m)\u001b[0m\u001b[0;34m:\u001b[0m\u001b[0;34m\u001b[0m\u001b[0;34m\u001b[0m\u001b[0m\n\u001b[0;32m--> 921\u001b[0;31m                     \u001b[0mself\u001b[0m\u001b[0;34m.\u001b[0m\u001b[0m_output\u001b[0m\u001b[0;34m.\u001b[0m\u001b[0mextend\u001b[0m\u001b[0;34m(\u001b[0m\u001b[0mjob\u001b[0m\u001b[0;34m.\u001b[0m\u001b[0mget\u001b[0m\u001b[0;34m(\u001b[0m\u001b[0mtimeout\u001b[0m\u001b[0;34m=\u001b[0m\u001b[0mself\u001b[0m\u001b[0;34m.\u001b[0m\u001b[0mtimeout\u001b[0m\u001b[0;34m)\u001b[0m\u001b[0;34m)\u001b[0m\u001b[0;34m\u001b[0m\u001b[0;34m\u001b[0m\u001b[0m\n\u001b[0m\u001b[1;32m    922\u001b[0m                 \u001b[0;32melse\u001b[0m\u001b[0;34m:\u001b[0m\u001b[0;34m\u001b[0m\u001b[0;34m\u001b[0m\u001b[0m\n\u001b[1;32m    923\u001b[0m                     \u001b[0mself\u001b[0m\u001b[0;34m.\u001b[0m\u001b[0m_output\u001b[0m\u001b[0;34m.\u001b[0m\u001b[0mextend\u001b[0m\u001b[0;34m(\u001b[0m\u001b[0mjob\u001b[0m\u001b[0;34m.\u001b[0m\u001b[0mget\u001b[0m\u001b[0;34m(\u001b[0m\u001b[0;34m)\u001b[0m\u001b[0;34m)\u001b[0m\u001b[0;34m\u001b[0m\u001b[0;34m\u001b[0m\u001b[0m\n",
            "\u001b[0;32m/usr/local/lib/python3.6/dist-packages/joblib/_parallel_backends.py\u001b[0m in \u001b[0;36mwrap_future_result\u001b[0;34m(future, timeout)\u001b[0m\n\u001b[1;32m    540\u001b[0m         AsyncResults.get from multiprocessing.\"\"\"\n\u001b[1;32m    541\u001b[0m         \u001b[0;32mtry\u001b[0m\u001b[0;34m:\u001b[0m\u001b[0;34m\u001b[0m\u001b[0;34m\u001b[0m\u001b[0m\n\u001b[0;32m--> 542\u001b[0;31m             \u001b[0;32mreturn\u001b[0m \u001b[0mfuture\u001b[0m\u001b[0;34m.\u001b[0m\u001b[0mresult\u001b[0m\u001b[0;34m(\u001b[0m\u001b[0mtimeout\u001b[0m\u001b[0;34m=\u001b[0m\u001b[0mtimeout\u001b[0m\u001b[0;34m)\u001b[0m\u001b[0;34m\u001b[0m\u001b[0;34m\u001b[0m\u001b[0m\n\u001b[0m\u001b[1;32m    543\u001b[0m         \u001b[0;32mexcept\u001b[0m \u001b[0mCfTimeoutError\u001b[0m \u001b[0;32mas\u001b[0m \u001b[0me\u001b[0m\u001b[0;34m:\u001b[0m\u001b[0;34m\u001b[0m\u001b[0;34m\u001b[0m\u001b[0m\n\u001b[1;32m    544\u001b[0m             \u001b[0;32mraise\u001b[0m \u001b[0mTimeoutError\u001b[0m \u001b[0;32mfrom\u001b[0m \u001b[0me\u001b[0m\u001b[0;34m\u001b[0m\u001b[0;34m\u001b[0m\u001b[0m\n",
            "\u001b[0;32m/usr/lib/python3.6/concurrent/futures/_base.py\u001b[0m in \u001b[0;36mresult\u001b[0;34m(self, timeout)\u001b[0m\n\u001b[1;32m    425\u001b[0m                 \u001b[0;32mreturn\u001b[0m \u001b[0mself\u001b[0m\u001b[0;34m.\u001b[0m\u001b[0m__get_result\u001b[0m\u001b[0;34m(\u001b[0m\u001b[0;34m)\u001b[0m\u001b[0;34m\u001b[0m\u001b[0;34m\u001b[0m\u001b[0m\n\u001b[1;32m    426\u001b[0m \u001b[0;34m\u001b[0m\u001b[0m\n\u001b[0;32m--> 427\u001b[0;31m             \u001b[0mself\u001b[0m\u001b[0;34m.\u001b[0m\u001b[0m_condition\u001b[0m\u001b[0;34m.\u001b[0m\u001b[0mwait\u001b[0m\u001b[0;34m(\u001b[0m\u001b[0mtimeout\u001b[0m\u001b[0;34m)\u001b[0m\u001b[0;34m\u001b[0m\u001b[0;34m\u001b[0m\u001b[0m\n\u001b[0m\u001b[1;32m    428\u001b[0m \u001b[0;34m\u001b[0m\u001b[0m\n\u001b[1;32m    429\u001b[0m             \u001b[0;32mif\u001b[0m \u001b[0mself\u001b[0m\u001b[0;34m.\u001b[0m\u001b[0m_state\u001b[0m \u001b[0;32min\u001b[0m \u001b[0;34m[\u001b[0m\u001b[0mCANCELLED\u001b[0m\u001b[0;34m,\u001b[0m \u001b[0mCANCELLED_AND_NOTIFIED\u001b[0m\u001b[0;34m]\u001b[0m\u001b[0;34m:\u001b[0m\u001b[0;34m\u001b[0m\u001b[0;34m\u001b[0m\u001b[0m\n",
            "\u001b[0;32m/usr/lib/python3.6/threading.py\u001b[0m in \u001b[0;36mwait\u001b[0;34m(self, timeout)\u001b[0m\n\u001b[1;32m    293\u001b[0m         \u001b[0;32mtry\u001b[0m\u001b[0;34m:\u001b[0m    \u001b[0;31m# restore state no matter what (e.g., KeyboardInterrupt)\u001b[0m\u001b[0;34m\u001b[0m\u001b[0;34m\u001b[0m\u001b[0m\n\u001b[1;32m    294\u001b[0m             \u001b[0;32mif\u001b[0m \u001b[0mtimeout\u001b[0m \u001b[0;32mis\u001b[0m \u001b[0;32mNone\u001b[0m\u001b[0;34m:\u001b[0m\u001b[0;34m\u001b[0m\u001b[0;34m\u001b[0m\u001b[0m\n\u001b[0;32m--> 295\u001b[0;31m                 \u001b[0mwaiter\u001b[0m\u001b[0;34m.\u001b[0m\u001b[0macquire\u001b[0m\u001b[0;34m(\u001b[0m\u001b[0;34m)\u001b[0m\u001b[0;34m\u001b[0m\u001b[0;34m\u001b[0m\u001b[0m\n\u001b[0m\u001b[1;32m    296\u001b[0m                 \u001b[0mgotit\u001b[0m \u001b[0;34m=\u001b[0m \u001b[0;32mTrue\u001b[0m\u001b[0;34m\u001b[0m\u001b[0;34m\u001b[0m\u001b[0m\n\u001b[1;32m    297\u001b[0m             \u001b[0;32melse\u001b[0m\u001b[0;34m:\u001b[0m\u001b[0;34m\u001b[0m\u001b[0;34m\u001b[0m\u001b[0m\n",
            "\u001b[0;31mKeyboardInterrupt\u001b[0m: "
          ]
        }
      ]
    },
    {
      "cell_type": "code",
      "metadata": {
        "colab_type": "code",
        "cellView": "form",
        "id": "TrdyBqiEjPln",
        "colab": {
          "base_uri": "https://localhost:8080/",
          "height": 435
        },
        "outputId": "f695f4c0-8360-4fb7-f83e-52815367228b"
      },
      "source": [
        "#@markdown Classificação dos tweets da subtask\n",
        "\n",
        "y_pred = pd.Series(binarizador_tarefa_a.inverse_transform(voting_classifier_a.predict(testset_a_aumentado)),name= 'subtask_a')\n",
        "y_pred.index = testset_a_aumentado.index\n",
        "resultado_subtask_a = pd.concat([testset_a_aumentado[['tweet']] , y_pred], axis=1)\n",
        "resultado_subtask_a['subtask_a'].hist()\n",
        "print(resultado_subtask_a.head(5))\n",
        "print(resultado_subtask_a.subtask_a.value_counts())"
      ],
      "execution_count": null,
      "outputs": [
        {
          "output_type": "stream",
          "text": [
            "                                                   tweet subtask_a\n",
            "id                                                                \n",
            "15923  whoisq wherestheserver dumpnike declasfisa dem...       OFF\n",
            "27014  constitutionday revere conservative hate progr...       OFF\n",
            "30530  foxnews nra maga potus trump 2ndamendment rnc ...       NOT\n",
            "13876  watch boomer get news parole make smile wentwo...       NOT\n",
            "60133  nopasaran unity demo oppose far right london a...       NOT\n",
            "NOT    558\n",
            "OFF    302\n",
            "Name: subtask_a, dtype: int64\n"
          ],
          "name": "stdout"
        },
        {
          "output_type": "display_data",
          "data": {
            "image/png": "[encoded data removed]",
            "text/plain": [
              "<Figure size 432x288 with 1 Axes>"
            ]
          },
          "metadata": {
            "tags": [],
            "needs_background": "light"
          }
        }
      ]
    },
    {
      "cell_type": "code",
      "metadata": {
        "colab_type": "code",
        "cellView": "form",
        "id": "oppMN8UajPlv",
        "colab": {
          "base_uri": "https://localhost:8080/"
        },
        "outputId": "6aab0259-c7c7-4bfa-8993-9f8e52e3953f"
      },
      "source": [
        "#@markdown Salvar e realizar download do arquivo resultante\n",
        "resultado_subtask_b.to_csv('testset-levelb-classificado.csv',sep=' ')\n",
        "print(\"Salvo em '/content/testset-levelb-classificado.csv'!\")\n",
        "if 'COLAB_GPU' in os.environ:\n",
        "  files.download('/content/testset-levelb-classificado.csv')"
      ],
      "execution_count": null,
      "outputs": [
        {
          "output_type": "stream",
          "text": [
            "Salvo em '/content/testset-levelb-classificado.csv'!\n"
          ],
          "name": "stdout"
        },
        {
          "output_type": "display_data",
          "data": {
            "application/javascript": [
              "\n",
              "    async function download(id, filename, size) {\n",
              "      if (!google.colab.kernel.accessAllowed) {\n",
              "        return;\n",
              "      }\n",
              "      const div = document.createElement('div');\n",
              "      const label = document.createElement('label');\n",
              "      label.textContent = `Downloading \"${filename}\": `;\n",
              "      div.appendChild(label);\n",
              "      const progress = document.createElement('progress');\n",
              "      progress.max = size;\n",
              "      div.appendChild(progress);\n",
              "      document.body.appendChild(div);\n",
              "\n",
              "      const buffers = [];\n",
              "      let downloaded = 0;\n",
              "\n",
              "      const channel = await google.colab.kernel.comms.open(id);\n",
              "      // Send a message to notify the kernel that we're ready.\n",
              "      channel.send({})\n",
              "\n",
              "      for await (const message of channel.messages) {\n",
              "        // Send a message to notify the kernel that we're ready.\n",
              "        channel.send({})\n",
              "        if (message.buffers) {\n",
              "          for (const buffer of message.buffers) {\n",
              "            buffers.push(buffer);\n",
              "            downloaded += buffer.byteLength;\n",
              "            progress.value = downloaded;\n",
              "          }\n",
              "        }\n",
              "      }\n",
              "      const blob = new Blob(buffers, {type: 'application/binary'});\n",
              "      const a = document.createElement('a');\n",
              "      a.href = window.URL.createObjectURL(blob);\n",
              "      a.download = filename;\n",
              "      div.appendChild(a);\n",
              "      a.click();\n",
              "      div.remove();\n",
              "    }\n",
              "  "
            ],
            "text/plain": [
              "<IPython.core.display.Javascript object>"
            ]
          },
          "metadata": {
            "tags": []
          }
        },
        {
          "output_type": "display_data",
          "data": {
            "application/javascript": [
              "download(\"download_e2a690b6-071b-4dcd-a0bf-90fd1e43f0cf\", \"testset-levelb-classificado.csv\", 23874)"
            ],
            "text/plain": [
              "<IPython.core.display.Javascript object>"
            ]
          },
          "metadata": {
            "tags": []
          }
        }
      ]
    },
    {
      "cell_type": "markdown",
      "metadata": {
        "id": "AS9LpbwqpBWj",
        "colab_type": "text"
      },
      "source": [
        "##### Comparação com gabarito"
      ]
    },
    {
      "cell_type": "code",
      "metadata": {
        "id": "ivLXsHc3pA5G",
        "colab_type": "code",
        "cellView": "form",
        "colab": {
          "base_uri": "https://localhost:8080/",
          "height": 0
        },
        "outputId": "d131f740-5d8a-4687-c51c-42db4401b079"
      },
      "source": [
        "#@markdown Avaliação do modelo com o testset da subtask\n",
        "caminho = \"/content/drive/My Drive/Mestrado/Disciplinas/Minerac\\u0327a\\u0303o de Textos e da Web/subtask_b/grad_boost_subtask_b_f1_50.joblib\" #@param {type:\"string\"}\n",
        "import pandas as pd\n",
        "from sklearn.metrics import classification_report, plot_confusion_matrix\n",
        "\n",
        "\n",
        "gabarito_a = pd.read_csv(caminho, index_col='id')\n",
        "gabarito_a.head()\n",
        "\n",
        "y_pred = voting_classifier_a.predict(testset_a_aumentado)\n",
        "y_true = binarizador_tarefa_a.transform(gabarito_a.subtask_a)\n",
        "print(classification_report(y_true, \n",
        "                            y_pred, \n",
        "                            target_names= \n",
        "                            binarizador_tarefa_a.classes_))\n",
        "plot_confusion_matrix(voting_classifier_a, \n",
        "                      testset_a_aumentado, \n",
        "                      y_true, \n",
        "                      display_labels= binarizador_tarefa_a.classes_,\n",
        "                      values_format= \".0f\")"
      ],
      "execution_count": 80,
      "outputs": [
        {
          "output_type": "error",
          "ename": "UnicodeDecodeError",
          "evalue": "ignored",
          "traceback": [
            "\u001b[0;31m---------------------------------------------------------------------------\u001b[0m",
            "\u001b[0;31mUnicodeDecodeError\u001b[0m                        Traceback (most recent call last)",
            "\u001b[0;32m<ipython-input-80-16c47bd2126c>\u001b[0m in \u001b[0;36m<module>\u001b[0;34m()\u001b[0m\n\u001b[1;32m      5\u001b[0m \u001b[0;34m\u001b[0m\u001b[0m\n\u001b[1;32m      6\u001b[0m \u001b[0;34m\u001b[0m\u001b[0m\n\u001b[0;32m----> 7\u001b[0;31m \u001b[0mgabarito_a\u001b[0m \u001b[0;34m=\u001b[0m \u001b[0mpd\u001b[0m\u001b[0;34m.\u001b[0m\u001b[0mread_csv\u001b[0m\u001b[0;34m(\u001b[0m\u001b[0mcaminho\u001b[0m\u001b[0;34m,\u001b[0m \u001b[0mindex_col\u001b[0m\u001b[0;34m=\u001b[0m\u001b[0;34m'id'\u001b[0m\u001b[0;34m)\u001b[0m\u001b[0;34m\u001b[0m\u001b[0;34m\u001b[0m\u001b[0m\n\u001b[0m\u001b[1;32m      8\u001b[0m \u001b[0mgabarito_a\u001b[0m\u001b[0;34m.\u001b[0m\u001b[0mhead\u001b[0m\u001b[0;34m(\u001b[0m\u001b[0;34m)\u001b[0m\u001b[0;34m\u001b[0m\u001b[0;34m\u001b[0m\u001b[0m\n\u001b[1;32m      9\u001b[0m \u001b[0;34m\u001b[0m\u001b[0m\n",
            "\u001b[0;32m/usr/local/lib/python3.6/dist-packages/pandas/io/parsers.py\u001b[0m in \u001b[0;36mparser_f\u001b[0;34m(filepath_or_buffer, sep, delimiter, header, names, index_col, usecols, squeeze, prefix, mangle_dupe_cols, dtype, engine, converters, true_values, false_values, skipinitialspace, skiprows, skipfooter, nrows, na_values, keep_default_na, na_filter, verbose, skip_blank_lines, parse_dates, infer_datetime_format, keep_date_col, date_parser, dayfirst, cache_dates, iterator, chunksize, compression, thousands, decimal, lineterminator, quotechar, quoting, doublequote, escapechar, comment, encoding, dialect, error_bad_lines, warn_bad_lines, delim_whitespace, low_memory, memory_map, float_precision)\u001b[0m\n\u001b[1;32m    674\u001b[0m         )\n\u001b[1;32m    675\u001b[0m \u001b[0;34m\u001b[0m\u001b[0m\n\u001b[0;32m--> 676\u001b[0;31m         \u001b[0;32mreturn\u001b[0m \u001b[0m_read\u001b[0m\u001b[0;34m(\u001b[0m\u001b[0mfilepath_or_buffer\u001b[0m\u001b[0;34m,\u001b[0m \u001b[0mkwds\u001b[0m\u001b[0;34m)\u001b[0m\u001b[0;34m\u001b[0m\u001b[0;34m\u001b[0m\u001b[0m\n\u001b[0m\u001b[1;32m    677\u001b[0m \u001b[0;34m\u001b[0m\u001b[0m\n\u001b[1;32m    678\u001b[0m     \u001b[0mparser_f\u001b[0m\u001b[0;34m.\u001b[0m\u001b[0m__name__\u001b[0m \u001b[0;34m=\u001b[0m \u001b[0mname\u001b[0m\u001b[0;34m\u001b[0m\u001b[0;34m\u001b[0m\u001b[0m\n",
            "\u001b[0;32m/usr/local/lib/python3.6/dist-packages/pandas/io/parsers.py\u001b[0m in \u001b[0;36m_read\u001b[0;34m(filepath_or_buffer, kwds)\u001b[0m\n\u001b[1;32m    446\u001b[0m \u001b[0;34m\u001b[0m\u001b[0m\n\u001b[1;32m    447\u001b[0m     \u001b[0;31m# Create the parser.\u001b[0m\u001b[0;34m\u001b[0m\u001b[0;34m\u001b[0m\u001b[0;34m\u001b[0m\u001b[0m\n\u001b[0;32m--> 448\u001b[0;31m     \u001b[0mparser\u001b[0m \u001b[0;34m=\u001b[0m \u001b[0mTextFileReader\u001b[0m\u001b[0;34m(\u001b[0m\u001b[0mfp_or_buf\u001b[0m\u001b[0;34m,\u001b[0m \u001b[0;34m**\u001b[0m\u001b[0mkwds\u001b[0m\u001b[0;34m)\u001b[0m\u001b[0;34m\u001b[0m\u001b[0;34m\u001b[0m\u001b[0m\n\u001b[0m\u001b[1;32m    449\u001b[0m \u001b[0;34m\u001b[0m\u001b[0m\n\u001b[1;32m    450\u001b[0m     \u001b[0;32mif\u001b[0m \u001b[0mchunksize\u001b[0m \u001b[0;32mor\u001b[0m \u001b[0miterator\u001b[0m\u001b[0;34m:\u001b[0m\u001b[0;34m\u001b[0m\u001b[0;34m\u001b[0m\u001b[0m\n",
            "\u001b[0;32m/usr/local/lib/python3.6/dist-packages/pandas/io/parsers.py\u001b[0m in \u001b[0;36m__init__\u001b[0;34m(self, f, engine, **kwds)\u001b[0m\n\u001b[1;32m    878\u001b[0m             \u001b[0mself\u001b[0m\u001b[0;34m.\u001b[0m\u001b[0moptions\u001b[0m\u001b[0;34m[\u001b[0m\u001b[0;34m\"has_index_names\"\u001b[0m\u001b[0;34m]\u001b[0m \u001b[0;34m=\u001b[0m \u001b[0mkwds\u001b[0m\u001b[0;34m[\u001b[0m\u001b[0;34m\"has_index_names\"\u001b[0m\u001b[0;34m]\u001b[0m\u001b[0;34m\u001b[0m\u001b[0;34m\u001b[0m\u001b[0m\n\u001b[1;32m    879\u001b[0m \u001b[0;34m\u001b[0m\u001b[0m\n\u001b[0;32m--> 880\u001b[0;31m         \u001b[0mself\u001b[0m\u001b[0;34m.\u001b[0m\u001b[0m_make_engine\u001b[0m\u001b[0;34m(\u001b[0m\u001b[0mself\u001b[0m\u001b[0;34m.\u001b[0m\u001b[0mengine\u001b[0m\u001b[0;34m)\u001b[0m\u001b[0;34m\u001b[0m\u001b[0;34m\u001b[0m\u001b[0m\n\u001b[0m\u001b[1;32m    881\u001b[0m \u001b[0;34m\u001b[0m\u001b[0m\n\u001b[1;32m    882\u001b[0m     \u001b[0;32mdef\u001b[0m \u001b[0mclose\u001b[0m\u001b[0;34m(\u001b[0m\u001b[0mself\u001b[0m\u001b[0;34m)\u001b[0m\u001b[0;34m:\u001b[0m\u001b[0;34m\u001b[0m\u001b[0;34m\u001b[0m\u001b[0m\n",
            "\u001b[0;32m/usr/local/lib/python3.6/dist-packages/pandas/io/parsers.py\u001b[0m in \u001b[0;36m_make_engine\u001b[0;34m(self, engine)\u001b[0m\n\u001b[1;32m   1112\u001b[0m     \u001b[0;32mdef\u001b[0m \u001b[0m_make_engine\u001b[0m\u001b[0;34m(\u001b[0m\u001b[0mself\u001b[0m\u001b[0;34m,\u001b[0m \u001b[0mengine\u001b[0m\u001b[0;34m=\u001b[0m\u001b[0;34m\"c\"\u001b[0m\u001b[0;34m)\u001b[0m\u001b[0;34m:\u001b[0m\u001b[0;34m\u001b[0m\u001b[0;34m\u001b[0m\u001b[0m\n\u001b[1;32m   1113\u001b[0m         \u001b[0;32mif\u001b[0m \u001b[0mengine\u001b[0m \u001b[0;34m==\u001b[0m \u001b[0;34m\"c\"\u001b[0m\u001b[0;34m:\u001b[0m\u001b[0;34m\u001b[0m\u001b[0;34m\u001b[0m\u001b[0m\n\u001b[0;32m-> 1114\u001b[0;31m             \u001b[0mself\u001b[0m\u001b[0;34m.\u001b[0m\u001b[0m_engine\u001b[0m \u001b[0;34m=\u001b[0m \u001b[0mCParserWrapper\u001b[0m\u001b[0;34m(\u001b[0m\u001b[0mself\u001b[0m\u001b[0;34m.\u001b[0m\u001b[0mf\u001b[0m\u001b[0;34m,\u001b[0m \u001b[0;34m**\u001b[0m\u001b[0mself\u001b[0m\u001b[0;34m.\u001b[0m\u001b[0moptions\u001b[0m\u001b[0;34m)\u001b[0m\u001b[0;34m\u001b[0m\u001b[0;34m\u001b[0m\u001b[0m\n\u001b[0m\u001b[1;32m   1115\u001b[0m         \u001b[0;32melse\u001b[0m\u001b[0;34m:\u001b[0m\u001b[0;34m\u001b[0m\u001b[0;34m\u001b[0m\u001b[0m\n\u001b[1;32m   1116\u001b[0m             \u001b[0;32mif\u001b[0m \u001b[0mengine\u001b[0m \u001b[0;34m==\u001b[0m \u001b[0;34m\"python\"\u001b[0m\u001b[0;34m:\u001b[0m\u001b[0;34m\u001b[0m\u001b[0;34m\u001b[0m\u001b[0m\n",
            "\u001b[0;32m/usr/local/lib/python3.6/dist-packages/pandas/io/parsers.py\u001b[0m in \u001b[0;36m__init__\u001b[0;34m(self, src, **kwds)\u001b[0m\n\u001b[1;32m   1889\u001b[0m         \u001b[0mkwds\u001b[0m\u001b[0;34m[\u001b[0m\u001b[0;34m\"usecols\"\u001b[0m\u001b[0;34m]\u001b[0m \u001b[0;34m=\u001b[0m \u001b[0mself\u001b[0m\u001b[0;34m.\u001b[0m\u001b[0musecols\u001b[0m\u001b[0;34m\u001b[0m\u001b[0;34m\u001b[0m\u001b[0m\n\u001b[1;32m   1890\u001b[0m \u001b[0;34m\u001b[0m\u001b[0m\n\u001b[0;32m-> 1891\u001b[0;31m         \u001b[0mself\u001b[0m\u001b[0;34m.\u001b[0m\u001b[0m_reader\u001b[0m \u001b[0;34m=\u001b[0m \u001b[0mparsers\u001b[0m\u001b[0;34m.\u001b[0m\u001b[0mTextReader\u001b[0m\u001b[0;34m(\u001b[0m\u001b[0msrc\u001b[0m\u001b[0;34m,\u001b[0m \u001b[0;34m**\u001b[0m\u001b[0mkwds\u001b[0m\u001b[0;34m)\u001b[0m\u001b[0;34m\u001b[0m\u001b[0;34m\u001b[0m\u001b[0m\n\u001b[0m\u001b[1;32m   1892\u001b[0m         \u001b[0mself\u001b[0m\u001b[0;34m.\u001b[0m\u001b[0munnamed_cols\u001b[0m \u001b[0;34m=\u001b[0m \u001b[0mself\u001b[0m\u001b[0;34m.\u001b[0m\u001b[0m_reader\u001b[0m\u001b[0;34m.\u001b[0m\u001b[0munnamed_cols\u001b[0m\u001b[0;34m\u001b[0m\u001b[0;34m\u001b[0m\u001b[0m\n\u001b[1;32m   1893\u001b[0m \u001b[0;34m\u001b[0m\u001b[0m\n",
            "\u001b[0;32mpandas/_libs/parsers.pyx\u001b[0m in \u001b[0;36mpandas._libs.parsers.TextReader.__cinit__\u001b[0;34m()\u001b[0m\n",
            "\u001b[0;32mpandas/_libs/parsers.pyx\u001b[0m in \u001b[0;36mpandas._libs.parsers.TextReader._get_header\u001b[0;34m()\u001b[0m\n",
            "\u001b[0;31mUnicodeDecodeError\u001b[0m: 'utf-8' codec can't decode byte 0x80 in position 0: invalid start byte"
          ]
        }
      ]
    },
    {
      "cell_type": "markdown",
      "metadata": {
        "colab_type": "text",
        "id": "4f8vx1eTZeQv"
      },
      "source": [
        "### Avaliação do modelo final para subtask B\n"
      ]
    },
    {
      "cell_type": "code",
      "metadata": {
        "colab_type": "code",
        "cellView": "form",
        "id": "bcsvwCTqZeQx",
        "colab": {}
      },
      "source": [
        "#@markdown Carregar modelo de classificação \n",
        "\n",
        "#@markdown modelos salvos estão localizados em '/content/Mineracao_dados_textos_web/modelos_salvos/'\n",
        "from joblib import load\n",
        "from sklearn.preprocessing import LabelBinarizer\n",
        "import pandas as pd\n",
        "caminho_modelo = \"/content/drive/My Drive/Mestrado/Disciplinas/Minerac\\u0327a\\u0303o de Textos e da Web/subtask_b/logistic_regression_1_subtask_b_f1_45.joblib\" #@param {type:\"string\"}\n",
        "\n",
        "\n",
        "\n",
        "modelo_subtask_b = load(caminho_modelo)\n",
        "target='subtask_b'\n",
        "X = trainset_aumentado\n",
        "X = X[trainset_aumentado[target] == trainset_aumentado[target]]\n",
        "X = X.drop(X.loc[:,trainset_aumentado.columns.str.startswith('subtask')], axis=1)\n",
        "\n",
        "binarizador_tarefa_b = LabelBinarizer()\n",
        "y = binarizador_tarefa_b.fit_transform(trainset_aumentado[target].dropna())\n",
        "y = pd.Series(np.ravel(y))"
      ],
      "execution_count": 183,
      "outputs": []
    },
    {
      "cell_type": "markdown",
      "metadata": {
        "colab_type": "text",
        "id": "-bZsOk7HNYmy"
      },
      "source": [
        "Principais configurações do algoritmo\n",
        "\n",
        "LogisticRegression:\n",
        "  \n",
        "                  C=100,\n",
        "                  fit_intercept=True,\n",
        "                  l1_ratio=None, \n",
        "                  max_iter=100,\n",
        "                  penalty='l1',                  \n",
        "                  solver='saga'.                 \n",
        "\n",
        "Uso da database de tamanho médio do spacy\n",
        "\n",
        "Uso de empath, embeddings, sentimento, NER\n",
        "\n",
        "NGram(1,1) na vetorização dos tweets\n",
        "\n",
        "Redução via PCA para 328 componentes\n",
        "                                   "
      ]
    },
    {
      "cell_type": "code",
      "metadata": {
        "colab_type": "code",
        "id": "13tpYyqVNYm0",
        "colab": {
          "base_uri": "https://localhost:8080/",
          "height": 442
        },
        "outputId": "c25cac28-3939-46c4-d30f-bed5296d60e1"
      },
      "source": [
        "modelo_subtask_b.get_params"
      ],
      "execution_count": 186,
      "outputs": [
        {
          "output_type": "execute_result",
          "data": {
            "text/plain": [
              "<bound method Pipeline.get_params of Pipeline(memory=None,\n",
              "         steps=[('anexar_bases_externas',\n",
              "                 Anexar_Bases_Externas(tamanho='medio')),\n",
              "                ('transformar_colunas',\n",
              "                 ColumnTransformer(n_jobs=None, remainder='passthrough',\n",
              "                                   sparse_threshold=0.3,\n",
              "                                   transformer_weights=None,\n",
              "                                   transformers=[('tweet',\n",
              "                                                  Pipeline(memory=None,\n",
              "                                                           steps=[('vetorizar',\n",
              "                                                                   TfidfVectorizer(analyzer='word',\n",
              "                                                                                   binary=False,\n",
              "                                                                                   decode_error='strict',\n",
              "                                                                                   dty...\n",
              "                 PCA(copy=True, iterated_power='auto', n_components=328,\n",
              "                     random_state=None, svd_solver='auto', tol=0.0,\n",
              "                     whiten=False)),\n",
              "                ('classificador',\n",
              "                 LogisticRegression(C=100, class_weight=None, dual=False,\n",
              "                                    fit_intercept=True, intercept_scaling=1,\n",
              "                                    l1_ratio=None, max_iter=100,\n",
              "                                    multi_class='auto', n_jobs=-1, penalty='l1',\n",
              "                                    random_state=None, solver='liblinear',\n",
              "                                    tol=0.0001, verbose=0, warm_start=False))],\n",
              "         verbose=False)>"
            ]
          },
          "metadata": {
            "tags": []
          },
          "execution_count": 186
        }
      ]
    },
    {
      "cell_type": "code",
      "metadata": {
        "colab_type": "code",
        "cellView": "form",
        "id": "W3mLHF26ZeQ4",
        "colab": {
          "base_uri": "https://localhost:8080/",
          "height": 517
        },
        "outputId": "e70ec314-7c4c-414c-d2d3-c7cb6350c49e"
      },
      "source": [
        "#@markdown Classification report e matriz de confusão\n",
        "import numpy as np\n",
        "\n",
        "\n",
        "from sklearn.metrics import classification_report, plot_confusion_matrix\n",
        "y_pred = modelo_subtask_b.fit(X,y).predict(X)\n",
        "print(classification_report(y, \n",
        "                            y_pred, \n",
        "                            target_names= \n",
        "                            binarizador_tarefa_b.classes_))\n",
        "plot_confusion_matrix(modelo_subtask_b, \n",
        "                      X, \n",
        "                      y, \n",
        "                      display_labels= binarizador_tarefa_b.classes_,\n",
        "                      values_format= \".0f\")"
      ],
      "execution_count": 184,
      "outputs": [
        {
          "output_type": "stream",
          "text": [
            "/usr/local/lib/python3.6/dist-packages/sklearn/decomposition/_truncated_svd.py:194: RuntimeWarning: invalid value encountered in true_divide\n",
            "  self.explained_variance_ratio_ = exp_var / full_var\n",
            "/usr/local/lib/python3.6/dist-packages/sklearn/linear_model/_logistic.py:1539: UserWarning: 'n_jobs' > 1 does not have any effect when 'solver' is set to 'liblinear'. Got 'n_jobs' = 2.\n",
            "  \" = {}.\".format(effective_n_jobs(self.n_jobs)))\n"
          ],
          "name": "stderr"
        },
        {
          "output_type": "stream",
          "text": [
            "              precision    recall  f1-score   support\n",
            "\n",
            "         TIN       0.90      0.99      0.94      3869\n",
            "         UNT       0.65      0.19      0.29       523\n",
            "\n",
            "    accuracy                           0.89      4392\n",
            "   macro avg       0.78      0.59      0.62      4392\n",
            "weighted avg       0.87      0.89      0.86      4392\n",
            "\n"
          ],
          "name": "stdout"
        },
        {
          "output_type": "execute_result",
          "data": {
            "text/plain": [
              "<sklearn.metrics._plot.confusion_matrix.ConfusionMatrixDisplay at 0x7f3a738bd390>"
            ]
          },
          "metadata": {
            "tags": []
          },
          "execution_count": 184
        },
        {
          "output_type": "display_data",
          "data": {
            "image/png": "[encoded data removed]",
            "text/plain": [
              "<Figure size 432x288 with 2 Axes>"
            ]
          },
          "metadata": {
            "tags": [],
            "needs_background": "light"
          }
        }
      ]
    },
    {
      "cell_type": "code",
      "metadata": {
        "colab_type": "code",
        "cellView": "form",
        "id": "kEwEtu2QZeQ7",
        "colab": {
          "base_uri": "https://localhost:8080/",
          "height": 435
        },
        "outputId": "092636c3-64ca-4adb-9b89-002df32f7f32"
      },
      "source": [
        "#@markdown Classificação dos tweets da subtask\n",
        "\n",
        "y_pred = pd.Series(binarizador_tarefa_b.inverse_transform(modelo_subtask_b.predict(testset_b_aumentado)),name= 'subtask_b')\n",
        "y_pred.index = testset_b_aumentado.index\n",
        "resultado_subtask_b = pd.concat([testset_b_aumentado[['tweet']] , y_pred], axis=1)\n",
        "resultado_subtask_b['subtask_b'].hist()\n",
        "print(resultado_subtask_b.head(5))\n",
        "print(resultado_subtask_b.subtask_b.value_counts())"
      ],
      "execution_count": 187,
      "outputs": [
        {
          "output_type": "stream",
          "text": [
            "                                                   tweet subtask_b\n",
            "id                                                                \n",
            "15923  whoisq wherestheserver dumpnike declasfisa dem...       TIN\n",
            "60133  nopasaran unity demo oppose far right london a...       TIN\n",
            "83681                                          fuck time       TIN\n",
            "65507           @user feeling kiss @user humiliate later       TIN\n",
            "12588                            @user nigga ware da hit       TIN\n",
            "TIN    229\n",
            "UNT     11\n",
            "Name: subtask_b, dtype: int64\n"
          ],
          "name": "stdout"
        },
        {
          "output_type": "display_data",
          "data": {
            "image/png": "[encoded data removed]",
            "text/plain": [
              "<Figure size 432x288 with 1 Axes>"
            ]
          },
          "metadata": {
            "tags": [],
            "needs_background": "light"
          }
        }
      ]
    },
    {
      "cell_type": "code",
      "metadata": {
        "colab_type": "code",
        "cellView": "form",
        "id": "lAl78MdXZeQ9",
        "colab": {
          "base_uri": "https://localhost:8080/",
          "height": 34
        },
        "outputId": "718e60ba-5502-4d05-ae4e-c6e89b96f85b"
      },
      "source": [
        "#@markdown Salvar e realizar download do arquivo resultante\n",
        "resultado_subtask_b.drop(\"tweet\", axis=1).to_csv('testset-levelb-classificado.csv',sep=' ')\n",
        "print(\"Salvo em '/content/testset-levelb-classificado.csv'!\")\n",
        "if 'COLAB_GPU' in os.environ:\n",
        "  files.download('/content/testset-levelb-classificado.csv')"
      ],
      "execution_count": 188,
      "outputs": [
        {
          "output_type": "stream",
          "text": [
            "Salvo em '/content/testset-levelb-classificado.csv'!\n"
          ],
          "name": "stdout"
        },
        {
          "output_type": "display_data",
          "data": {
            "application/javascript": [
              "\n",
              "    async function download(id, filename, size) {\n",
              "      if (!google.colab.kernel.accessAllowed) {\n",
              "        return;\n",
              "      }\n",
              "      const div = document.createElement('div');\n",
              "      const label = document.createElement('label');\n",
              "      label.textContent = `Downloading \"${filename}\": `;\n",
              "      div.appendChild(label);\n",
              "      const progress = document.createElement('progress');\n",
              "      progress.max = size;\n",
              "      div.appendChild(progress);\n",
              "      document.body.appendChild(div);\n",
              "\n",
              "      const buffers = [];\n",
              "      let downloaded = 0;\n",
              "\n",
              "      const channel = await google.colab.kernel.comms.open(id);\n",
              "      // Send a message to notify the kernel that we're ready.\n",
              "      channel.send({})\n",
              "\n",
              "      for await (const message of channel.messages) {\n",
              "        // Send a message to notify the kernel that we're ready.\n",
              "        channel.send({})\n",
              "        if (message.buffers) {\n",
              "          for (const buffer of message.buffers) {\n",
              "            buffers.push(buffer);\n",
              "            downloaded += buffer.byteLength;\n",
              "            progress.value = downloaded;\n",
              "          }\n",
              "        }\n",
              "      }\n",
              "      const blob = new Blob(buffers, {type: 'application/binary'});\n",
              "      const a = document.createElement('a');\n",
              "      a.href = window.URL.createObjectURL(blob);\n",
              "      a.download = filename;\n",
              "      div.appendChild(a);\n",
              "      a.click();\n",
              "      div.remove();\n",
              "    }\n",
              "  "
            ],
            "text/plain": [
              "<IPython.core.display.Javascript object>"
            ]
          },
          "metadata": {
            "tags": []
          }
        },
        {
          "output_type": "display_data",
          "data": {
            "application/javascript": [
              "download(\"download_d7f7ff35-4989-40b4-958c-8bed4c67245e\", \"testset-levelb-classificado.csv\", 2413)"
            ],
            "text/plain": [
              "<IPython.core.display.Javascript object>"
            ]
          },
          "metadata": {
            "tags": []
          }
        }
      ]
    },
    {
      "cell_type": "code",
      "metadata": {
        "colab_type": "code",
        "cellView": "form",
        "id": "-XnXozgNugth",
        "colab": {
          "base_uri": "https://localhost:8080/",
          "height": 449
        },
        "outputId": "b942e6cb-7afb-435f-9a8c-95d783fff0f0"
      },
      "source": [
        "#@markdown Avaliação do modelo com o testset da subtask\n",
        "caminho = \"/content/drive/My Drive/Mestrado/Disciplinas/Minerac\\u0327a\\u0303o de Textos e da Web/modelos2.txt\" #@param {type:\"string\"}\n",
        "import pandas as pd\n",
        "from sklearn.metrics import classification_report, plot_confusion_matrix\n",
        "\n",
        "\n",
        "gabarito_b = pd.read_csv(caminho, index_col='id')\n",
        "gabarito_b.head()\n",
        "\n",
        "\n",
        "y_true = binarizador_tarefa_b.transform(gabarito_b.subtask_b)\n",
        "y_pred = modelo_subtask_b.predict(testset_b_aumentado)\n",
        "print(classification_report(y_true, \n",
        "                            y_pred, \n",
        "                            target_names= \n",
        "                            binarizador_tarefa_b.classes_))\n",
        "plot_confusion_matrix(modelo_subtask_b, \n",
        "                      testset_b_aumentado, \n",
        "                      y_true, \n",
        "                      display_labels= binarizador_tarefa_b.classes_,\n",
        "                      values_format= \".0f\")"
      ],
      "execution_count": 185,
      "outputs": [
        {
          "output_type": "stream",
          "text": [
            "              precision    recall  f1-score   support\n",
            "\n",
            "         TIN       0.91      0.98      0.95       213\n",
            "         UNT       0.64      0.26      0.37        27\n",
            "\n",
            "    accuracy                           0.90       240\n",
            "   macro avg       0.77      0.62      0.66       240\n",
            "weighted avg       0.88      0.90      0.88       240\n",
            "\n"
          ],
          "name": "stdout"
        },
        {
          "output_type": "execute_result",
          "data": {
            "text/plain": [
              "<sklearn.metrics._plot.confusion_matrix.ConfusionMatrixDisplay at 0x7f3a721e34e0>"
            ]
          },
          "metadata": {
            "tags": []
          },
          "execution_count": 185
        },
        {
          "output_type": "display_data",
          "data": {
            "image/png": "[encoded data removed]",
            "text/plain": [
              "<Figure size 432x288 with 2 Axes>"
            ]
          },
          "metadata": {
            "tags": [],
            "needs_background": "light"
          }
        }
      ]
    },
    {
      "cell_type": "markdown",
      "metadata": {
        "colab_type": "text",
        "id": "AG9jHC1XwI2z"
      },
      "source": [
        "### Avaliação de conjunto de modelos em votação para subtask B\n"
      ]
    },
    {
      "cell_type": "code",
      "metadata": {
        "colab_type": "code",
        "cellView": "form",
        "id": "uSVfO9CRwI24",
        "colab": {
          "base_uri": "https://localhost:8080/",
          "height": 445
        },
        "outputId": "6b6f5387-8136-4f8b-b66c-2ed5ee878dd4"
      },
      "source": [
        "#@markdown Iniciar classificador por votação\n",
        "\n",
        "\n",
        "from joblib import load\n",
        "from sklearn.preprocessing import LabelBinarizer\n",
        "import pandas as pd\n",
        "from sklearn.ensemble import VotingClassifier\n",
        "from joblib import load\n",
        "import numpy as np\n",
        "target = \"subtask_b\"\n",
        "\n",
        "\n",
        "\n",
        "lista_caminho_modelos =[\n",
        "                        \"/content/drive/My Drive/Mestrado/Disciplinas/Mineração de Textos e da Web/subtask_b/ada_boost_subtask_b_f1_51.joblib\",\n",
        "                        # \"/content/drive/My Drive/Mestrado/Disciplinas/Mineração de Textos e da Web/subtask_b/gaussiannb_subtask_b_f1_50.joblib\",\n",
        "                        \"/content/drive/My Drive/Mestrado/Disciplinas/Mineração de Textos e da Web/subtask_b/gaussiannb_subtask_b_f1_51.joblib\",\n",
        "                        # \"/content/drive/My Drive/Mestrado/Disciplinas/Mineração de Textos e da Web/subtask_b/gaussiannb_subtask_b_f1_56.joblib\",\n",
        "                        \"/content/drive/My Drive/Mestrado/Disciplinas/Mineração de Textos e da Web/subtask_b/grad_boost_subtask_b_f1_50.joblib\",\n",
        "                        \"/content/drive/My Drive/Mestrado/Disciplinas/Mineração de Textos e da Web/subtask_b/xgboost_subtask_b_f1_51.joblib\",\n",
        "                        # \"/content/drive/My Drive/Mestrado/Disciplinas/Mineração de Textos e da Web/subtask_b/ada_boost_subtask_b_f1_51.joblib\",\n",
        "                        # \"/content/drive/My Drive/Mestrado/Disciplinas/Mineração de Textos e da Web/subtask_b/sgdc_subtask_b_f1_47.joblib\",\n",
        "                        # \"/content/drive/My Drive/Mestrado/Disciplinas/Mineração de Textos e da Web/subtask_b/ada_boost_subtask_b_f1_47.joblib\",\n",
        "                        \"/content/drive/My Drive/Mestrado/Disciplinas/Mineração de Textos e da Web/subtask_b/xgboost_subtask_b_f1_48.joblib\",\n",
        "                        # \"/content/drive/My Drive/Mestrado/Disciplinas/Mineração de Textos e da Web/subtask_b/xgboost_subtask_b_f1_47.joblib\",\n",
        "                        # \"/content/drive/My Drive/Mestrado/Disciplinas/Mineração de Textos e da Web/subtask_b/random_forest_subtask_b_f1_46.joblib\",\n",
        "                        # \"/content/drive/My Drive/Mestrado/Disciplinas/Mineração de Textos e da Web/subtask_b/random_forest_subtask_b_f1_47.joblib\"\n",
        "                        \n",
        "                        ]\n",
        "\n",
        "\n",
        "lista_modelos_b = []\n",
        "for i, modelo in enumerate(lista_caminho_modelos):\n",
        "  print(i)\n",
        "  print(modelo)\n",
        "  lista_modelos_b.append(('modelo'+ str(i),load(modelo)))\n",
        "\n",
        "voting_classifier_b = VotingClassifier(lista_modelos_b, voting= 'hard', n_jobs = -1)\n",
        "\n",
        "\n",
        "X = trainset_aumentado\n",
        "X = X[trainset_aumentado[target] == trainset_aumentado[target]]\n",
        "X = X.drop(X.loc[:,trainset_aumentado.columns.str.startswith('subtask')], axis=1)\n",
        "\n",
        "binarizador_tarefa_b = LabelBinarizer()\n",
        "y = binarizador_tarefa_b.fit_transform(trainset_aumentado[target].dropna())\n",
        "y = pd.Series(np.ravel(y))\n"
      ],
      "execution_count": 126,
      "outputs": [
        {
          "output_type": "stream",
          "text": [
            "0\n",
            "/content/drive/My Drive/Mestrado/Disciplinas/Mineração de Textos e da Web/subtask_b/ada_boost_subtask_b_f1_51.joblib\n",
            "1\n",
            "/content/drive/My Drive/Mestrado/Disciplinas/Mineração de Textos e da Web/subtask_b/gaussiannb_subtask_b_f1_51.joblib\n"
          ],
          "name": "stdout"
        },
        {
          "output_type": "stream",
          "text": [
            "/usr/local/lib/python3.6/dist-packages/sklearn/base.py:318: UserWarning: Trying to unpickle estimator TfidfTransformer from version 0.23.1 when using version 0.22.2.post1. This might lead to breaking code or invalid results. Use at your own risk.\n",
            "  UserWarning)\n",
            "/usr/local/lib/python3.6/dist-packages/sklearn/base.py:318: UserWarning: Trying to unpickle estimator TfidfVectorizer from version 0.23.1 when using version 0.22.2.post1. This might lead to breaking code or invalid results. Use at your own risk.\n",
            "  UserWarning)\n",
            "/usr/local/lib/python3.6/dist-packages/sklearn/base.py:318: UserWarning: Trying to unpickle estimator TruncatedSVD from version 0.23.1 when using version 0.22.2.post1. This might lead to breaking code or invalid results. Use at your own risk.\n",
            "  UserWarning)\n",
            "/usr/local/lib/python3.6/dist-packages/sklearn/base.py:318: UserWarning: Trying to unpickle estimator Pipeline from version 0.23.1 when using version 0.22.2.post1. This might lead to breaking code or invalid results. Use at your own risk.\n",
            "  UserWarning)\n",
            "/usr/local/lib/python3.6/dist-packages/sklearn/base.py:318: UserWarning: Trying to unpickle estimator ColumnTransformer from version 0.23.1 when using version 0.22.2.post1. This might lead to breaking code or invalid results. Use at your own risk.\n",
            "  UserWarning)\n",
            "/usr/local/lib/python3.6/dist-packages/sklearn/base.py:318: UserWarning: Trying to unpickle estimator PCA from version 0.23.1 when using version 0.22.2.post1. This might lead to breaking code or invalid results. Use at your own risk.\n",
            "  UserWarning)\n",
            "/usr/local/lib/python3.6/dist-packages/sklearn/base.py:318: UserWarning: Trying to unpickle estimator GaussianNB from version 0.23.1 when using version 0.22.2.post1. This might lead to breaking code or invalid results. Use at your own risk.\n",
            "  UserWarning)\n"
          ],
          "name": "stderr"
        },
        {
          "output_type": "stream",
          "text": [
            "2\n",
            "/content/drive/My Drive/Mestrado/Disciplinas/Mineração de Textos e da Web/subtask_b/grad_boost_subtask_b_f1_50.joblib\n",
            "3\n",
            "/content/drive/My Drive/Mestrado/Disciplinas/Mineração de Textos e da Web/subtask_b/xgboost_subtask_b_f1_51.joblib\n",
            "4\n",
            "/content/drive/My Drive/Mestrado/Disciplinas/Mineração de Textos e da Web/subtask_b/xgboost_subtask_b_f1_48.joblib\n"
          ],
          "name": "stdout"
        }
      ]
    },
    {
      "cell_type": "code",
      "metadata": {
        "colab_type": "code",
        "cellView": "form",
        "id": "I_oCpUtiwI29",
        "colab": {}
      },
      "source": [
        "#@markdown Cross validation\n",
        "num_folds = 5 #@param {type:\"integer\"}\n",
        "\n",
        "from sklearn.model_selection import cross_validate\n",
        "\n",
        "cross_validation_modelo_b = cross_validate(voting_classifier_b, X, y, \n",
        "                        scoring= \"f1_macro\",\n",
        "                        cv= StratifiedKFold(n_splits= num_folds, shuffle= True),\n",
        "                        return_train_score= True)\n",
        "\n",
        "scores_treino_modelo_b = cross_validation_modelo_b['train_score'].mean()\n",
        "\n",
        "scores_teste_modelo_b = cross_validation_modelo_b['test_score'].mean()\n",
        "\n",
        "print(\"Média do F1 score de treinamento: \", round(scores_treino_modelo_b,3))\n",
        "\n",
        "print(\"Média do F1 score de teste: \", round(scores_teste_modelo_b,3))"
      ],
      "execution_count": null,
      "outputs": []
    },
    {
      "cell_type": "code",
      "metadata": {
        "colab_type": "code",
        "cellView": "form",
        "id": "g2CyWWPcwI3A",
        "colab": {
          "base_uri": "https://localhost:8080/",
          "height": 503
        },
        "outputId": "f5f7fd1d-d585-4bc9-f5fc-d9a26415ffc2"
      },
      "source": [
        "#@markdown Classification report e matriz de confusão\n",
        "\n",
        "from sklearn.metrics import classification_report, plot_confusion_matrix\n",
        "y_pred = voting_classifier_b.fit(X,y).predict(X)\n",
        "print(classification_report(y, \n",
        "                            y_pred, \n",
        "                            target_names= \n",
        "                            binarizador_tarefa_b.classes_))\n",
        "plot_confusion_matrix(voting_classifier_b, \n",
        "                      X, \n",
        "                      y, \n",
        "                      display_labels= binarizador_tarefa_b.classes_,\n",
        "                      values_format= \".0f\")"
      ],
      "execution_count": 127,
      "outputs": [
        {
          "output_type": "stream",
          "text": [
            "/usr/local/lib/python3.6/dist-packages/joblib/externals/loky/process_executor.py:691: UserWarning: A worker stopped while some jobs were given to the executor. This can be caused by a too short worker timeout or by a memory leak.\n",
            "  \"timeout or by a memory leak.\", UserWarning\n"
          ],
          "name": "stderr"
        },
        {
          "output_type": "stream",
          "text": [
            "              precision    recall  f1-score   support\n",
            "\n",
            "         TIN       0.92      1.00      0.96      3869\n",
            "         UNT       0.97      0.34      0.51       523\n",
            "\n",
            "    accuracy                           0.92      4392\n",
            "   macro avg       0.94      0.67      0.73      4392\n",
            "weighted avg       0.92      0.92      0.90      4392\n",
            "\n"
          ],
          "name": "stdout"
        },
        {
          "output_type": "execute_result",
          "data": {
            "text/plain": [
              "<sklearn.metrics._plot.confusion_matrix.ConfusionMatrixDisplay at 0x7f3a72c71080>"
            ]
          },
          "metadata": {
            "tags": []
          },
          "execution_count": 127
        },
        {
          "output_type": "display_data",
          "data": {
            "image/png": "[encoded data removed]",
            "text/plain": [
              "<Figure size 432x288 with 2 Axes>"
            ]
          },
          "metadata": {
            "tags": [],
            "needs_background": "light"
          }
        }
      ]
    },
    {
      "cell_type": "code",
      "metadata": {
        "colab_type": "code",
        "cellView": "form",
        "id": "3BqrrnMPwI3D",
        "colab": {}
      },
      "source": [
        "#@markdown Classificação dos tweets da subtask\n",
        "\n",
        "y_pred = pd.Series(binarizador_tarefa_b.inverse_transform(voting_classifier_b.predict(testset_b_aumentado)),name= 'subtask_b')\n",
        "y_pred.index = testset_b_aumentado.index\n",
        "resultado_subtask_b = pd.concat([testset_b_aumentado[['tweet']] , y_pred], axis=1)\n",
        "resultado_subtask_b['subtask_b'].hist()\n",
        "resultado_subtask_b.head(5)\n"
      ],
      "execution_count": null,
      "outputs": []
    },
    {
      "cell_type": "code",
      "metadata": {
        "colab_type": "code",
        "cellView": "form",
        "id": "0CYX0VwQwI3L",
        "colab": {
          "base_uri": "https://localhost:8080/"
        },
        "outputId": "6aab0259-c7c7-4bfa-8993-9f8e52e3953f"
      },
      "source": [
        "#@markdown Salvar e realizar download do arquivo resultante\n",
        "resultado_subtask_b.to_csv('testset-levelb-classificado.csv',sep=' ')\n",
        "print(\"Salvo em '/content/testset-levelb-classificado.csv'!\")\n",
        "if 'COLAB_GPU' in os.environ:\n",
        "  files.download('/content/testset-levelb-classificado.csv')"
      ],
      "execution_count": null,
      "outputs": [
        {
          "output_type": "stream",
          "text": [
            "Salvo em '/content/testset-levelb-classificado.csv'!\n"
          ],
          "name": "stdout"
        },
        {
          "output_type": "display_data",
          "data": {
            "application/javascript": [
              "\n",
              "    async function download(id, filename, size) {\n",
              "      if (!google.colab.kernel.accessAllowed) {\n",
              "        return;\n",
              "      }\n",
              "      const div = document.createElement('div');\n",
              "      const label = document.createElement('label');\n",
              "      label.textContent = `Downloading \"${filename}\": `;\n",
              "      div.appendChild(label);\n",
              "      const progress = document.createElement('progress');\n",
              "      progress.max = size;\n",
              "      div.appendChild(progress);\n",
              "      document.body.appendChild(div);\n",
              "\n",
              "      const buffers = [];\n",
              "      let downloaded = 0;\n",
              "\n",
              "      const channel = await google.colab.kernel.comms.open(id);\n",
              "      // Send a message to notify the kernel that we're ready.\n",
              "      channel.send({})\n",
              "\n",
              "      for await (const message of channel.messages) {\n",
              "        // Send a message to notify the kernel that we're ready.\n",
              "        channel.send({})\n",
              "        if (message.buffers) {\n",
              "          for (const buffer of message.buffers) {\n",
              "            buffers.push(buffer);\n",
              "            downloaded += buffer.byteLength;\n",
              "            progress.value = downloaded;\n",
              "          }\n",
              "        }\n",
              "      }\n",
              "      const blob = new Blob(buffers, {type: 'application/binary'});\n",
              "      const a = document.createElement('a');\n",
              "      a.href = window.URL.createObjectURL(blob);\n",
              "      a.download = filename;\n",
              "      div.appendChild(a);\n",
              "      a.click();\n",
              "      div.remove();\n",
              "    }\n",
              "  "
            ],
            "text/plain": [
              "<IPython.core.display.Javascript object>"
            ]
          },
          "metadata": {
            "tags": []
          }
        },
        {
          "output_type": "display_data",
          "data": {
            "application/javascript": [
              "download(\"download_e2a690b6-071b-4dcd-a0bf-90fd1e43f0cf\", \"testset-levelb-classificado.csv\", 23874)"
            ],
            "text/plain": [
              "<IPython.core.display.Javascript object>"
            ]
          },
          "metadata": {
            "tags": []
          }
        }
      ]
    },
    {
      "cell_type": "markdown",
      "metadata": {
        "colab_type": "text",
        "id": "dUmQVjEKuxlp"
      },
      "source": [
        "##### Comparação com gabarito"
      ]
    },
    {
      "cell_type": "code",
      "metadata": {
        "colab_type": "code",
        "cellView": "form",
        "id": "GawmeZpwuxlq",
        "colab": {
          "base_uri": "https://localhost:8080/",
          "height": 449
        },
        "outputId": "6f36a2c2-79ee-4807-9b79-e47748a3d909"
      },
      "source": [
        "#@markdown Avaliação do modelo com o testset da subtask\n",
        "caminho = \"/content/drive/My Drive/Mestrado/Disciplinas/Minerac\\u0327a\\u0303o de Textos e da Web/modelos2.txt\" #@param {type:\"string\"}\n",
        "import pandas as pd\n",
        "from sklearn.metrics import classification_report, plot_confusion_matrix\n",
        "\n",
        "\n",
        "gabarito_b = pd.read_csv(caminho, index_col='id')\n",
        "gabarito_b.head()\n",
        "\n",
        "y_pred = voting_classifier_b.predict(testset_b_aumentado)\n",
        "y_true = binarizador_tarefa_b.transform(gabarito_b.subtask_b)\n",
        "print(classification_report(y_true, \n",
        "                            y_pred, \n",
        "                            target_names= \n",
        "                            binarizador_tarefa_b.classes_))\n",
        "plot_confusion_matrix(voting_classifier_b, \n",
        "                      testset_b_aumentado, \n",
        "                      y_true, \n",
        "                      display_labels= binarizador_tarefa_b.classes_,\n",
        "                      values_format= \".0f\")"
      ],
      "execution_count": 128,
      "outputs": [
        {
          "output_type": "stream",
          "text": [
            "              precision    recall  f1-score   support\n",
            "\n",
            "         TIN       0.89      1.00      0.94       213\n",
            "         UNT       0.50      0.04      0.07        27\n",
            "\n",
            "    accuracy                           0.89       240\n",
            "   macro avg       0.70      0.52      0.50       240\n",
            "weighted avg       0.85      0.89      0.84       240\n",
            "\n"
          ],
          "name": "stdout"
        },
        {
          "output_type": "execute_result",
          "data": {
            "text/plain": [
              "<sklearn.metrics._plot.confusion_matrix.ConfusionMatrixDisplay at 0x7f3a72558198>"
            ]
          },
          "metadata": {
            "tags": []
          },
          "execution_count": 128
        },
        {
          "output_type": "display_data",
          "data": {
            "image/png": "[encoded data removed]",
            "text/plain": [
              "<Figure size 432x288 with 2 Axes>"
            ]
          },
          "metadata": {
            "tags": [],
            "needs_background": "light"
          }
        }
      ]
    }
  ]
}